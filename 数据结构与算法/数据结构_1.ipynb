{
 "cells": [
  {
   "cell_type": "markdown",
   "metadata": {},
   "source": [
    "1. 利用动态数组解决数据存放问题\n",
    "\n",
    "编写一段代码，要求输入一个整数N，用动态数组A来存放2~N之间所有5或7的倍数，输出该数组。"
   ]
  },
  {
   "cell_type": "code",
   "execution_count": 66,
   "metadata": {},
   "outputs": [],
   "source": [
    "class DynamicArray():\n",
    "    \n",
    "    def __init__ (self):\n",
    "        'Create an empty array.'\n",
    "        self._n = 0 #size\n",
    "        self._capacity = 10    #先给个10\n",
    "        self._A = self._make_array(self._capacity)\n",
    "        \n",
    "    def __len__ (self):\n",
    "        return self._n\n",
    "    \n",
    "    def is_empty(self):\n",
    "        return self._n == 0\n",
    "    \n",
    "    # O(1)\n",
    "    def __getitem__ (self, k):\n",
    "        if not 0 <= k < self._n:\n",
    "            raise ValueError('invalid index') \n",
    "        return self._A[k]\n",
    "       \n",
    "    # O(1) \n",
    "    def append(self, obj):\n",
    "        if self._n == self._capacity:    #首先要判断该容器是否放得下\n",
    "            self._resize(2 * self._capacity)\n",
    "        self._A[self._n] = obj    \n",
    "        self._n += 1\n",
    "        \n",
    "    def _make_array(self, c):\n",
    "        return (c * ctypes.py_object)( )\n",
    "    \n",
    "    def _resize(self, c):\n",
    "        B = self._make_array(c)\n",
    "        for k in range(self._n):\n",
    "            B[k] = self._A[k]\n",
    "        self._A = B\n",
    "        self._capacity = c   \n",
    "\n",
    "    # O(n)\n",
    "    def insert(self, k, value):\n",
    "        if self._n == self._capacity:\n",
    "            self._resize(2 * self._capacity)\n",
    "        for j in range(self._n, k, -1):    #从后往前一个一个往后移\n",
    "            self._A[j] = self._A[j-1]\n",
    "        self._A[k] = value\n",
    "        self._n += 1\n",
    "     \n",
    "    # O(n)    \n",
    "    def remove(self, value):\n",
    "        for k in range(self._n):\n",
    "            if self._A[k] == value:     #一个个查value\n",
    "                for j in range(k, self._n - 1):\n",
    "                    self._A[j] = self._A[j+1]   ##再一个个移上来\n",
    "                self._A[self._n - 1] = None\n",
    "                self._n -= 1\n",
    "                return\n",
    "        raise ValueError( 'value not found' )\n",
    "    \n",
    "    def _print(self):\n",
    "        if self._n == 0:\n",
    "            print('none')\n",
    "        for i in range(self._n):\n",
    "            print(self._A[i], end = ' ')\n",
    "        print()\n"
   ]
  },
  {
   "cell_type": "code",
   "execution_count": 67,
   "metadata": {},
   "outputs": [
    {
     "name": "stdout",
     "output_type": "stream",
     "text": [
      "none\n",
      "\n",
      "5 7 10 14 15 20 \n"
     ]
    }
   ],
   "source": [
    "import ctypes\n",
    "def select5and7(n,listA):\n",
    "    for i in range(2,n+1):\n",
    "        if i%5==0 or i%7==0:\n",
    "            listA.append(i)\n",
    "    return listA\n",
    "listA = DynamicArray()\n",
    "listA._print()\n",
    "listA = select5and7(20,listA)\n",
    "listA._print()\n"
   ]
  },
  {
   "cell_type": "markdown",
   "metadata": {},
   "source": [
    "2. 托普利茨矩阵问题\n",
    "\n",
    "如果一个矩阵的每一方向由左上到右下的对角线上具有相同元素，那么这个矩阵是托普利茨矩阵。\n",
    "\n",
    "给定一个M x N的矩阵，当且仅当它是托普利茨矩阵时返回True。\n",
    "输入:\n",
    "* matrix = [\n",
    " *  [1,2,3,4],\n",
    " *  [5,1,2,3],\n",
    " *  [9,5,1,2]\n",
    "]\n",
    "\n",
    "输出: True\n",
    "* 解释:\n",
    "\n",
    "* 在上述矩阵中, 其对角线为: \"[9]\", \"[5, 5]\", \"[1, 1, 1]\", \"[2, 2, 2]\", \"[3, 3]\", \"[4]\"。 各条对角线上的所有元素均相同, 因此答案是True。\n"
   ]
  },
  {
   "cell_type": "code",
   "execution_count": 35,
   "metadata": {},
   "outputs": [
    {
     "name": "stdout",
     "output_type": "stream",
     "text": [
      "True\n",
      "3\n",
      "4\n"
     ]
    }
   ],
   "source": [
    "matrix = [[1,2,3,4],[5,1,2,3],[9,5,1,2]]\n",
    "print(toplici(matrix))\n",
    "print(len(matrix))\n",
    "print(len(matrix[0]))"
   ]
  },
  {
   "cell_type": "code",
   "execution_count": 68,
   "metadata": {},
   "outputs": [
    {
     "name": "stdout",
     "output_type": "stream",
     "text": [
      "1 3\n",
      "1 1\n",
      "1 2\n",
      "1 3\n",
      "False\n"
     ]
    }
   ],
   "source": [
    "def isToeplitzMatrix(matrix):\n",
    "    # import numpy as np\n",
    "    # mat = np.array(matrix)\n",
    "    row = len(matrix)\n",
    "    col = len(matrix[0])\n",
    "    # row ,col = mat.shape\n",
    "    print(row-1,col-1)\n",
    "\n",
    "    if row < 2 or  col < 2:\n",
    "        return True\n",
    "    if matrix[0][0] != matrix[1][1]:\n",
    "        return False  \n",
    "    for i in range(row-1):\n",
    "        if  i+1 < row: \n",
    "            for j in range(col-1):\n",
    "                if j+1 <= col-1 : \n",
    "                    print(i+1,j+1)\n",
    "                    if matrix[i][j] != matrix[i+1][j+1]:\n",
    "                        return False\n",
    "    return True\n",
    "\n",
    "# print(isToeplitzMatrix(matrix))\n",
    "print(isToeplitzMatrix([[11,74,0,93],[40,11,74,7]]))\n"
   ]
  },
  {
   "cell_type": "markdown",
   "metadata": {},
   "source": [
    "![](..\\tran_datawhale\\图片\\threenum.jpg)"
   ]
  },
  {
   "cell_type": "markdown",
   "metadata": {},
   "source": [
    "3. 三数之和\n",
    "\n",
    "https://leetcode-cn.com/problems/3sum/\n",
    "\n",
    "给定一个包含 n 个整数的数组nums，判断nums中是否存在三个元素a，b，c，使得a + b + c = 0？找出所有满足条件且不重复的三元组。\n",
    "\n",
    "注意：答案中不可以包含重复的三元组。"
   ]
  },
  {
   "cell_type": "code",
   "execution_count": 9,
   "metadata": {},
   "outputs": [],
   "source": [
    "class Solution:\n",
    "    def threeSum(self, nums):\n",
    "        length = len(nums)\n",
    "        nums.sort()\n",
    "        res = []\n",
    "        if length < 3:\n",
    "            return []\n",
    "        for i in range(length):\n",
    "            if i > 0 and nums[i]==nums[i-1]:\n",
    "                continue\n",
    "            if nums[i] >0 :\n",
    "                break\n",
    "            lf = i +1\n",
    "            rt = length -1\n",
    "            while lf < rt :\n",
    "                s = nums[i] +nums[lf] + nums[rt]\n",
    "                if s == 0:\n",
    "                    res.append([nums[i],nums[lf],nums[rt]])\n",
    "                    while lf < rt and nums[lf] == nums[lf+1]:\n",
    "                        lf += 1\n",
    "                    while lf < rt and nums[rt] == nums[rt-1]:\n",
    "                        rt -=1\n",
    "                    lf += 1\n",
    "                    rt -= 1\n",
    "                elif s< 0:\n",
    "                    lf +=1\n",
    "                else:\n",
    "                    rt -= 1\n",
    "        return res"
   ]
  },
  {
   "cell_type": "code",
   "execution_count": 11,
   "metadata": {},
   "outputs": [
    {
     "data": {
      "text/plain": [
       "[[-1, -1, 2], [-1, 0, 1]]"
      ]
     },
     "execution_count": 11,
     "metadata": {},
     "output_type": "execute_result"
    }
   ],
   "source": [
    "nums = [-1,0,1,2,-1,-4]\n",
    "Solution().threeSum(nums)"
   ]
  },
  {
   "cell_type": "markdown",
   "metadata": {},
   "source": []
  }
 ],
 "metadata": {
  "kernelspec": {
   "display_name": "Python 3",
   "language": "python",
   "name": "python3"
  },
  "language_info": {
   "codemirror_mode": {
    "name": "ipython",
    "version": 3
   },
   "file_extension": ".py",
   "mimetype": "text/x-python",
   "name": "python",
   "nbconvert_exporter": "python",
   "pygments_lexer": "ipython3",
   "version": "3.7.4"
  }
 },
 "nbformat": 4,
 "nbformat_minor": 2
}
