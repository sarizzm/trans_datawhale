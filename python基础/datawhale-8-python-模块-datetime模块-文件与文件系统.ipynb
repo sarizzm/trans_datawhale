{
 "cells": [
  {
   "cell_type": "markdown",
   "metadata": {},
   "source": [
    "**练习题**：\n",
    "\n",
    "1、怎么查出通过 from xx import xx导⼊的可以直接调⽤的⽅法？\n",
    "\n",
    " 有种特殊的写法:from xx import *    在被导入的这个模块中如果没有写出__all__则默认所有内容都导入;\n",
    "\n",
    "　　　　　　　　　　　　　　　　　　　　　　　　　　  否则,则导入__all__列表中列出来的所有名字.\n",
    "\n",
    "2、了解Collection模块，编写程序以查询给定列表中最常见的元素。\n",
    "\n",
    "题目说明：\n",
    "\n",
    "输入：language = ['PHP', 'PHP', 'Python', 'PHP', 'Python', 'JS', 'Python', 'Python','PHP', 'Python']\n",
    "\n",
    "输出：Python\n",
    "\n",
    "```python\n",
    "\"\"\"\n",
    "Input file\n",
    "language = ['PHP', 'PHP', 'Python', 'PHP', 'Python', 'JS', 'Python', 'Python','PHP', 'Python']\n",
    "   \n",
    "Output file\n",
    "Python\n",
    "\"\"\"\n",
    "def most_element(language):\n",
    "    \"\"\" Return a list of lines after inserting a word in a specific line. \"\"\"\n",
    "   \n",
    "    # your code here\n",
    "\n",
    "\n",
    "```"
   ]
  },
  {
   "cell_type": "code",
   "execution_count": 71,
   "metadata": {},
   "outputs": [
    {
     "name": "stdout",
     "output_type": "stream",
     "text": [
      "Counter({'Python': 5, 'PHP': 4, 'JS': 1})\n",
      "5\n",
      "出现次数最多的是： Python 出现次数为 5 次\n"
     ]
    }
   ],
   "source": [
    "language = ['PHP', 'PHP', 'Python', 'PHP', 'Python', 'JS', 'Python', 'Python','PHP', 'Python']\n",
    "from collections import Counter\n",
    "#b=Counter(language)\n",
    "#print(b)\n",
    "def most_element(self):\n",
    "    a=Counter(language)\n",
    "    print(a)#Counter({'Python': 5, 'PHP': 4, 'JS': 1})\n",
    "    max_value = max(dict.values(a))\n",
    "    print(max_value)#5\n",
    "    for keys,values in dict.items(a):\n",
    "        if values==max_value:\n",
    "            print('出现次数最多的是：',keys,'出现次数为',values,'次')\n",
    "most_element(language)\n",
    "\n"
   ]
  },
  {
   "cell_type": "markdown",
   "metadata": {},
   "source": [
    "**练习题**：\n",
    "\n",
    "1、假设你获取了用户输入的日期和时间如`2020-1-21 9:01:30`，以及一个时区信息如`UTC+5:00`，均是`str`，请编写一个函数将其转换为timestamp：\n",
    "\n",
    "题目说明:\n",
    "\n",
    "```python\n",
    "\"\"\"\n",
    "   \n",
    "Input file\n",
    "example1: dt_str='2020-6-1 08:10:30', tz_str='UTC+7:00'\n",
    "example2: dt_str='2020-5-31 16:10:30', tz_str='UTC-09:00'\n",
    "   \n",
    "Output file\n",
    "result1: 1590973830.0\n",
    "result2: 1590973830.0\n",
    "\"\"\"\n",
    "   \n",
    "   \n",
    "def to_timestamp(dt_str, tz_str):\n",
    "    # your code here\n",
    "        pass\n",
    "```\n",
    "\n",
    "2、编写Python程序以选择指定年份的所有星期日。\n",
    "\n",
    "题目说明:\n",
    "\n",
    "```python\n",
    "\"\"\"\n",
    "   \n",
    "Input file\n",
    "   2020\n",
    "   \n",
    "Output file\n",
    "   2020-01-05                         \n",
    "   2020-01-12              \n",
    "   2020-01-19                \n",
    "   2020-01-26               \n",
    "   2020-02-02     \n",
    "   -----\n",
    "   2020-12-06               \n",
    "   2020-12-13                \n",
    "   2020-12-20                \n",
    "   2020-12-27 \n",
    "\"\"\"\n",
    "   \n",
    "def all_sundays(year):\n",
    "    # your code here\n",
    "    \n",
    "```\n",
    "\n",
    "   "
   ]
  },
  {
   "cell_type": "code",
   "execution_count": 72,
   "metadata": {},
   "outputs": [
    {
     "name": "stdout",
     "output_type": "stream",
     "text": [
      "ok\n"
     ]
    }
   ],
   "source": [
    "import re\n",
    "from datetime import datetime,timedelta,timezone\n",
    "\n",
    "def to_timestamp(dt_str, tz_str):\n",
    "    cday = datetime.strptime(dt_str,'%Y-%m-%d %H:%M:%S')#字符串转为时间\n",
    "    utc_group = re.match(r'([UTC]+)([+-])(\\d+):(\\d)',tz_str)#字符串匹配，分组\n",
    "    i = int(utc_group.group(3))#时区数字\n",
    "    if utc_group.group(2) == '+':#时区正负号\n",
    "        tz_utc = timezone(timedelta(hours=i))\n",
    "    elif utc_group.group(2) == '-':\n",
    "        tz_utc = timezone(timedelta(hours=-i))\n",
    "    dt = cday.replace(tzinfo=tz_utc)#给tzinfo属性赋值\n",
    "    return dt.timestamp()\n",
    "\n",
    "#测试\n",
    "t1 = to_timestamp('2015-6-1 08:10:30', 'UTC+7:00')\n",
    "assert t1 == 1433121030.0, t1\n",
    "\n",
    "t2 = to_timestamp('2015-5-31 16:10:30', 'UTC-09:00')\n",
    "assert t2 == 1433121030.0, t2\n",
    "\n",
    "print('ok')\n"
   ]
  },
  {
   "cell_type": "code",
   "execution_count": 73,
   "metadata": {},
   "outputs": [
    {
     "name": "stdout",
     "output_type": "stream",
     "text": [
      "请输入年份:2020\n",
      "2020-01-05\n",
      "2020-01-12\n",
      "2020-01-19\n",
      "2020-01-26\n",
      "2020-02-02\n",
      "2020-02-09\n",
      "2020-02-16\n",
      "2020-02-23\n",
      "2020-03-01\n",
      "2020-03-08\n",
      "2020-03-15\n",
      "2020-03-22\n",
      "2020-03-29\n",
      "2020-04-05\n",
      "2020-04-12\n",
      "2020-04-19\n",
      "2020-04-26\n",
      "2020-05-03\n",
      "2020-05-10\n",
      "2020-05-17\n",
      "2020-05-24\n",
      "2020-05-31\n",
      "2020-06-07\n",
      "2020-06-14\n",
      "2020-06-21\n",
      "2020-06-28\n",
      "2020-07-05\n",
      "2020-07-12\n",
      "2020-07-19\n",
      "2020-07-26\n",
      "2020-08-02\n",
      "2020-08-09\n",
      "2020-08-16\n",
      "2020-08-23\n",
      "2020-08-30\n",
      "2020-09-06\n",
      "2020-09-13\n",
      "2020-09-20\n",
      "2020-09-27\n",
      "2020-10-04\n",
      "2020-10-11\n",
      "2020-10-18\n",
      "2020-10-25\n",
      "2020-11-01\n",
      "2020-11-08\n",
      "2020-11-15\n",
      "2020-11-22\n",
      "2020-11-29\n",
      "2020-12-06\n",
      "2020-12-13\n",
      "2020-12-20\n",
      "2020-12-27\n"
     ]
    }
   ],
   "source": [
    "#查询任意年内所有周日\n",
    "import parser\n",
    "import datetime\n",
    "\n",
    "a=input('请输入年份:')\n",
    "#print(type(a))\n",
    "def all_sundays(year):\n",
    "    a0=int(a)\n",
    "    dt1=datetime.date(a0,1,1)\n",
    "    dt2=datetime.date(a0,12,31)\n",
    "    #print(dt1,dt2)\n",
    "    dt=(dt2-dt1).days\n",
    "    '''zhou=(dt//7)#周数\n",
    "    zhouji=dt1.isoweekday()#判断当前周几\n",
    "    cha=7-zhouji\n",
    "    td_cha=datetime.timedelta(days=cha)\n",
    "    first_sunday=dt1+td_cha#第一个周日\n",
    "    print(first_sunday)'''\n",
    "    #td_cha7=datetime.timedelta(days=7)#7天周日期差\n",
    "    #difference=0\n",
    "    \n",
    "    for i in range((dt2-dt1).days+1):\n",
    "        #print(i)\n",
    "        day=dt1+datetime.timedelta(days=i)\n",
    "        bianli=day.isoweekday()\n",
    "        if bianli==7:\n",
    "            print(day)\n",
    "        else:\n",
    "            continue       \n",
    "all_sundays(a)"
   ]
  },
  {
   "cell_type": "markdown",
   "metadata": {},
   "source": [
    "**练习题**：\n",
    "\n",
    "1、打开中文字符的文档时，会出现乱码，Python自带的打开文件是否可以指定文字编码？还是只能用相关函数？\n",
    "\n",
    "2、编写程序查找最长的单词\n",
    "\n",
    "输入文档: res/test.txt\n",
    "\n",
    "题目说明:\n",
    "\n",
    "```python\n",
    "\"\"\"\n",
    "   \n",
    "Input file\n",
    "   test.txt\n",
    "   \n",
    "Output file\n",
    "   ['general-purpose,', 'object-oriented,']\n",
    "   \n",
    "\"\"\"\n",
    "def longest_word(filename):\n",
    "    # your code here\n",
    "        pass\n",
    "   \n",
    "```\n",
    "\n",
    "   "
   ]
  },
  {
   "cell_type": "code",
   "execution_count": null,
   "metadata": {},
   "outputs": [],
   "source": []
  },
  {
   "cell_type": "markdown",
   "metadata": {},
   "source": [
    "## 3. 导入模块\n",
    "\n",
    "【例子】创建一个模块 TemperatureConversion.py"
   ]
  },
  {
   "cell_type": "code",
   "execution_count": 1,
   "metadata": {},
   "outputs": [],
   "source": [
    "# TemperatureConversion.py\n",
    "def c2f(cel):\n",
    "    fah = cel * 1.8 + 32\n",
    "    return fah\n",
    "\n",
    "\n",
    "def f2c(fah):\n",
    "    cel = (fah - 32) / 1.8\n",
    "    return cel"
   ]
  },
  {
   "cell_type": "markdown",
   "metadata": {},
   "source": [
    "- 第一种：import 模块名\n",
    "\n",
    "【例子】"
   ]
  },
  {
   "cell_type": "code",
   "execution_count": 3,
   "metadata": {},
   "outputs": [
    {
     "name": "stdout",
     "output_type": "stream",
     "text": [
      "32摄氏度 = 89.60华氏度\n",
      "99华氏度 = 37.22摄氏度\n"
     ]
    }
   ],
   "source": [
    "# import TemperatureConversion\n",
    "\n",
    "print('32摄氏度 = %.2f华氏度' % c2f(32)) #TemperatureConversion.c2f(32))\n",
    "print('99华氏度 = %.2f摄氏度' % f2c(99))# TemperatureConversion.f2c(99))\n",
    "\n",
    "# 32摄氏度 = 89.60华氏度\n",
    "# 99华氏度 = 37.22摄氏度"
   ]
  },
  {
   "cell_type": "markdown",
   "metadata": {},
   "source": [
    "- 第二种：from 模块名 import 函数名\n",
    "\n",
    "【例子】"
   ]
  },
  {
   "cell_type": "code",
   "execution_count": 4,
   "metadata": {},
   "outputs": [
    {
     "name": "stdout",
     "output_type": "stream",
     "text": [
      "32摄氏度 = 89.60华氏度\n",
      "99华氏度 = 37.22摄氏度\n"
     ]
    }
   ],
   "source": [
    "#from TemperatureConversion import c2f, f2c\n",
    "print('32摄氏度 = %.2f华氏度' % c2f(32))\n",
    "print('99华氏度 = %.2f摄氏度' % f2c(99))\n",
    "\n",
    "# 32摄氏度 = 89.60华氏度\n",
    "# 99华氏度 = 37.22摄氏度"
   ]
  },
  {
   "cell_type": "markdown",
   "metadata": {},
   "source": [
    "下面的方式不推荐\n",
    "\n",
    "【例子】"
   ]
  },
  {
   "cell_type": "code",
   "execution_count": 5,
   "metadata": {},
   "outputs": [
    {
     "name": "stdout",
     "output_type": "stream",
     "text": [
      "32摄氏度 = 89.60华氏度\n",
      "99华氏度 = 37.22摄氏度\n"
     ]
    }
   ],
   "source": [
    "# from TemperatureConversion import *\n",
    "\n",
    "print('32摄氏度 = %.2f华氏度' % c2f(32))\n",
    "print('99华氏度 = %.2f摄氏度' % f2c(99))\n",
    "\n",
    "# 32摄氏度 = 89.60华氏度\n",
    "# 99华氏度 = 37.22摄氏度"
   ]
  },
  {
   "cell_type": "markdown",
   "metadata": {},
   "source": [
    "- 第三种：import 模块名 as 新名字\n",
    "\n",
    "【例子】"
   ]
  },
  {
   "cell_type": "code",
   "execution_count": 7,
   "metadata": {},
   "outputs": [
    {
     "name": "stdout",
     "output_type": "stream",
     "text": [
      "32摄氏度 = 89.60华氏度\n",
      "99华氏度 = 37.22摄氏度\n"
     ]
    }
   ],
   "source": [
    "# import TemperatureConversion as tc\n",
    "\n",
    "print('32摄氏度 = %.2f华氏度' % c2f(32))\n",
    "print('99华氏度 = %.2f摄氏度' % f2c(99))\n",
    "\n",
    "# 32摄氏度 = 89.60华氏度\n",
    "# 99华氏度 = 37.22摄氏度"
   ]
  },
  {
   "cell_type": "markdown",
   "metadata": {},
   "source": [
    "## 4. `if __name__ == '__main__'`\n",
    "\n",
    "对于很多编程语言来说，程序都必须要有一个入口，而 Python 则不同，它属于脚本语言，不像编译型语言那样先将程序编译成二进制再运行，而是动态的逐行解释运行。也就是从脚本第一行开始运行，没有统一的入口。\n",
    "\n",
    "\n",
    "假设我们有一个 const.py 文件，内容如下："
   ]
  },
  {
   "cell_type": "code",
   "execution_count": 8,
   "metadata": {},
   "outputs": [
    {
     "name": "stdout",
     "output_type": "stream",
     "text": [
      "PI: 3.14\n"
     ]
    }
   ],
   "source": [
    "PI = 3.14\n",
    "\n",
    "\n",
    "def main():\n",
    "    print(\"PI:\", PI)\n",
    "\n",
    "\n",
    "main()\n",
    "\n",
    "# PI: 3.14"
   ]
  },
  {
   "cell_type": "markdown",
   "metadata": {},
   "source": [
    "现在，我们写一个用于计算圆面积的 area.py 文件，area.py 文件需要用到 const.py 文件中的 `PI` 变量。从 const.py 中，我们把 `PI` 变量导入 area.py："
   ]
  },
  {
   "cell_type": "code",
   "execution_count": 10,
   "metadata": {},
   "outputs": [
    {
     "name": "stdout",
     "output_type": "stream",
     "text": [
      "round area:  12.56\n"
     ]
    },
    {
     "data": {
      "text/plain": [
       "'\\nPI: 3.14\\nround area:  12.56\\n'"
      ]
     },
     "execution_count": 10,
     "metadata": {},
     "output_type": "execute_result"
    }
   ],
   "source": [
    "# from const import PI\n",
    "\n",
    "\n",
    "def calc_round_area(radius):\n",
    "    return PI * (radius ** 2)\n",
    "\n",
    "\n",
    "def main():\n",
    "    print(\"round area: \", calc_round_area(2))\n",
    "\n",
    "\n",
    "main()\n",
    "\n",
    "'''\n",
    "PI: 3.14\n",
    "round area:  12.56\n",
    "'''"
   ]
  },
  {
   "cell_type": "markdown",
   "metadata": {},
   "source": [
    "我们看到 const.py 中的 main 函数也被运行了，实际上我们不希望它被运行，因为 const.py 提供的 main 函数只是为了测试常量定义。这时`if __name__ == '__main__'`派上了用场，我们把 const.py 改一下，添加`if __name__ == \"__main__\"`："
   ]
  },
  {
   "cell_type": "code",
   "execution_count": 11,
   "metadata": {},
   "outputs": [
    {
     "name": "stdout",
     "output_type": "stream",
     "text": [
      "PI: 3.14\n"
     ]
    }
   ],
   "source": [
    "PI = 3.14\n",
    "\n",
    "def main():\n",
    "    print(\"PI:\", PI)\n",
    "\n",
    "if __name__ == \"__main__\":\n",
    "    main()"
   ]
  },
  {
   "cell_type": "raw",
   "metadata": {},
   "source": [
    "运行 const.py，输出如下：\n",
    "\n",
    "```python\n",
    "PI: 3.14\n",
    "```\n",
    "\n",
    "运行 area.py，输出如下：\n",
    "\n",
    "```python\n",
    "round area:  12.56\n",
    "```\n",
    "\n",
    "\n",
    "`__name__`：是内置变量，可用于表示当前模块的名字。\n",
    "\n",
    "import const\n",
    "\n",
    "print(__name__)\n",
    "##### __main__\n",
    "\n",
    "print(const.__name__)\n",
    "#####  const"
   ]
  },
  {
   "cell_type": "markdown",
   "metadata": {},
   "source": [
    "由此我们可知：如果一个 .py 文件（模块）被直接运行时，其`__name__`值为`__main__`，即模块名为`__main__`。\n",
    "\n",
    "所以，`if __name__ == '__main__'`的意思是：当 .py 文件被直接运行时，`if __name__ == '__main__'`之下的代码块将被运行；当 .py 文件以模块形式被导入时，`if __name__ == '__main__'`之下的代码块不被运行。"
   ]
  },
  {
   "cell_type": "markdown",
   "metadata": {},
   "source": [
    "## 5. 搜索路径\n",
    "\n",
    "当解释器遇到 import 语句，如果模块在当前的搜索路径就会被导入。\n",
    "\n",
    "【例子】"
   ]
  },
  {
   "cell_type": "code",
   "execution_count": 12,
   "metadata": {},
   "outputs": [
    {
     "name": "stdout",
     "output_type": "stream",
     "text": [
      "['D:\\\\ucas_onedrive\\\\OneDrive - mails.ucas.ac.cn\\\\MyGitHub\\\\mybog\\\\datawhale\\\\python基础', 'D:\\\\ProgramData\\\\Anaconda3\\\\python37.zip', 'D:\\\\ProgramData\\\\Anaconda3\\\\DLLs', 'D:\\\\ProgramData\\\\Anaconda3\\\\lib', 'D:\\\\ProgramData\\\\Anaconda3', '', 'C:\\\\Users\\\\sarizzm\\\\AppData\\\\Roaming\\\\Python\\\\Python37\\\\site-packages', 'D:\\\\ProgramData\\\\Anaconda3\\\\lib\\\\site-packages', 'D:\\\\ProgramData\\\\Anaconda3\\\\lib\\\\site-packages\\\\win32', 'D:\\\\ProgramData\\\\Anaconda3\\\\lib\\\\site-packages\\\\win32\\\\lib', 'D:\\\\ProgramData\\\\Anaconda3\\\\lib\\\\site-packages\\\\Pythonwin', 'D:\\\\ProgramData\\\\Anaconda3\\\\lib\\\\site-packages\\\\IPython\\\\extensions', 'C:\\\\Users\\\\sarizzm\\\\.ipython']\n"
     ]
    }
   ],
   "source": [
    "import sys\n",
    "\n",
    "print(sys.path)\n",
    "\n",
    "# ['C:\\\\ProgramData\\\\Anaconda3\\\\DLLs', 'C:\\\\ProgramData\\\\Anaconda3\\\\lib', 'C:\\\\ProgramData\\\\Anaconda3', 'C:\\\\ProgramData\\\\Anaconda3\\\\lib\\\\site-packages',...]"
   ]
  },
  {
   "cell_type": "markdown",
   "metadata": {},
   "source": [
    "<u>我们使用 import 语句的时候，Python 解释器是怎样找到对应的文件的呢？</u>\n",
    "\n",
    "这就涉及到 Python 的搜索路径，搜索路径是由一系列目录名组成的，Python 解释器就依次从这些目录中去寻找所引入的模块。\n",
    "\n",
    "这看起来很像环境变量，事实上，也可以通过定义环境变量的方式来确定搜索路径。\n",
    "\n",
    "搜索路径是在 Python 编译或安装的时候确定的，安装新的库应该也会修改。搜索路径被存储在 `sys` 模块中的 `path` 变量中。"
   ]
  },
  {
   "cell_type": "markdown",
   "metadata": {},
   "source": [
    "## 6. 包（package）\n",
    "\n",
    "包是一种管理 Python 模块命名空间的形式，采用\"点模块名称\"。\n",
    "\n",
    "创建包分为三个步骤：\n",
    "\n",
    "- 创建一个文件夹，用于存放相关的模块，文件夹的名字即包的名字。\n",
    "- 在文件夹中创建一个 `__init__.py` 的模块文件，内容可以为空。\n",
    "- 将相关的模块放入文件夹中。\n",
    "\n",
    "\n",
    "\n",
    "不妨假设你想设计一套统一处理声音文件和数据的模块（或者称之为一个\"包\"）。\n",
    "\n",
    "现存很多种不同的音频文件格式（基本上都是通过后缀名区分的，例如： .wav，.aiff，.au），所以你需要有一组不断增加的模块，用来在不同的格式之间转换。\n",
    "\n",
    "并且针对这些音频数据，还有很多不同的操作（比如混音，添加回声，增加均衡器功能，创建人造立体声效果），所以你还需要一组怎么也写不完的模块来处理这些操作。\n",
    "\n",
    "这里给出了一种可能的包结构（在分层的文件系统中）:"
   ]
  },
  {
   "cell_type": "raw",
   "metadata": {},
   "source": [
    "sound/                          顶层包\n",
    "      __init__.py               初始化 sound 包\n",
    "      formats/                  文件格式转换子包\n",
    "              __init__.py\n",
    "              wavread.py\n",
    "              wavwrite.py\n",
    "              aiffread.py\n",
    "              aiffwrite.py\n",
    "              auread.py\n",
    "              auwrite.py\n",
    "              ...\n",
    "      effects/                  声音效果子包\n",
    "              __init__.py\n",
    "              echo.py\n",
    "              surround.py\n",
    "              reverse.py\n",
    "              ...\n",
    "      filters/                  filters 子包\n",
    "              __init__.py\n",
    "              equalizer.py\n",
    "              vocoder.py\n",
    "              karaoke.py\n",
    "              ..."
   ]
  },
  {
   "cell_type": "markdown",
   "metadata": {},
   "source": [
    "在导入一个包的时候，Python 会根据 `sys.path` 中的目录来寻找这个包中包含的子目录。\n",
    "\n",
    "目录只有包含一个叫做 `__init__.py` 的文件才会被认作是一个包，最简单的情况，放一个空的 `__init__.py` 就可以了。"
   ]
  },
  {
   "cell_type": "markdown",
   "metadata": {},
   "source": [
    "\n",
    "\n",
    "```python\n",
    "import sound.effects.echo\n",
    "```\n",
    "\n",
    "这将会导入子模块 `sound.effects.echo`。 他必须使用全名去访问:\n",
    "\n",
    "```python\n",
    "sound.effects.echo.echofilter(input, output, delay=0.7, atten=4)\n",
    "```\n",
    "\n",
    "还有一种导入子模块的方法是：\n",
    "\n",
    "```python\n",
    "from sound.effects import echo\n",
    "```\n",
    "\n",
    "这同样会导入子模块: echo，并且他不需要那些冗长的前缀，所以他可以这样使用：\n",
    "\n",
    "```python\n",
    "echo.echofilter(input, output, delay=0.7, atten=4)\n",
    "```\n",
    "\n",
    "还有一种变化就是直接导入一个函数或者变量：\n",
    "\n",
    "```python\n",
    "from sound.effects.echo import echofilter\n",
    "```\n",
    "\n",
    "同样的，这种方法会导入子模块: echo，并且可以直接使用他的 echofilter() 函数：\n",
    "\n",
    "```python\n",
    "echofilter(input, output, delay=0.7, atten=4)\n",
    "```\n",
    "\n",
    "注意当使用 `from package import item` 这种形式的时候，对应的 `item` 既可以是包里面的子模块（子包），或者包里面定义的其他名称，比如函数，类或者变量。\n",
    "\n",
    "<u>设想一下，如果我们使用 `from sound.effects import *` 会发生什么？</u>\n",
    "\n",
    "Python 会进入文件系统，找到这个包里面所有的子模块，一个一个的把它们都导入进来。\n",
    "\n",
    "导入语句遵循如下规则：如果包定义文件 `__init__.py` 存在一个叫做 `__all__` 的列表变量，那么在使用 `from package import *` 的时候就把这个列表中的所有名字作为包内容导入。\n",
    "\n",
    "这里有一个例子，在 `sounds/effects/__init__.py`中包含如下代码：\n",
    "\n",
    "```python\n",
    "__all__ = [\"echo\", \"surround\", \"reverse\"]\n",
    "```\n",
    "\n",
    "这表示当你使用 `from sound.effects import *`这种用法时，你只会导入包里面这三个子模块。\n",
    "\n",
    "如果 `__all__` 真的没有定义，那么使用`from sound.effects import *`这种语法的时候，就不会导入包 `sound.effects` 里的任何子模块。他只是把包 `sound.effects` 和它里面定义的所有内容导入进来（可能运行`__init__.py`里定义的初始化代码）。\n",
    "\n",
    "这会把 `__init__.py` 里面定义的所有名字导入进来。并且他不会破坏掉我们在这句话之前导入的所有明确指定的模块。\n",
    "\n",
    "```python\n",
    "import sound.effects.echo\n",
    "import sound.effects.surround\n",
    "from sound.effects import *\n",
    "```\n",
    "\n",
    "这个例子中，在执行 `from...import` 前，包 `sound.effects` 中的 `echo` 和 `surround` 模块都被导入到当前的命名空间中了。\n",
    "\n",
    "通常我们并不主张使用 `*` 这种方法来导入模块，因为这种方法经常会导致代码的可读性降低。\n",
    "\n"
   ]
  },
  {
   "cell_type": "markdown",
   "metadata": {},
   "source": [
    "# datetime模块\n",
    "\n",
    "datetime 是 Python 中处理日期的标准模块，它提供了 4 种对日期和时间进行处理的类：**datetime**、**date**、**time** 和 **timedelta**。\n",
    "\n",
    "---\n",
    "\n",
    "## 1. datetime类\n",
    "\n",
    "```python\n",
    "class datetime(date):\n",
    "    def __init__(self, year, month, day, hour, minute, second, microsecond, tzinfo)\n",
    "        pass\n",
    "    def now(cls, tz=None):\n",
    "        pass\n",
    "    def timestamp(self):\n",
    "        pass\n",
    "    def fromtimestamp(cls, t, tz=None):\n",
    "        pass\n",
    "    def date(self):\n",
    "        pass\n",
    "    def time(self):\n",
    "        pass\n",
    "    def year(self):\n",
    "        pass\n",
    "    def month(self):\n",
    "        pass\n",
    "    def day(self):\n",
    "        pass\n",
    "    def hour(self):\n",
    "        pass\n",
    "    def minute(self):\n",
    "        pass\n",
    "    def second(self):\n",
    "        pass\n",
    "    def isoweekday(self):\n",
    "        pass\n",
    "    def strftime(self, fmt):\n",
    "        pass\n",
    "    def combine(cls, date, time, tzinfo=True):\n",
    "        pass\n",
    "```\n",
    "\n",
    "\n",
    "- `datetime.now(tz=None)` 获取当前的日期时间，输出顺序为：年、月、日、时、分、秒、微秒。\n",
    "- `datetime.timestamp()` 获取以 1970年1月1日为起点记录的秒数。\n",
    "- `datetime.fromtimestamp(tz=None)` 使用 unixtimestamp 创建一个 datetime。\n",
    "\n",
    "\n",
    "\n",
    "【例子】如何创建一个 datetime 对象？"
   ]
  },
  {
   "cell_type": "code",
   "execution_count": 13,
   "metadata": {},
   "outputs": [
    {
     "name": "stdout",
     "output_type": "stream",
     "text": [
      "2020-06-25 11:23:59\n",
      "1593055439.0\n",
      "2020-06-25 11:23:59\n",
      "<class 'datetime.datetime'>\n",
      "2020-08-06 11:01:57.067912\n",
      "<class 'datetime.datetime'>\n"
     ]
    }
   ],
   "source": [
    "import datetime\n",
    "\n",
    "dt = datetime.datetime(year=2020, month=6, day=25, hour=11, minute=23, second=59)\n",
    "print(dt)  # 2020-06-25 11:23:59\n",
    "print(dt.timestamp())  # 1593055439.0\n",
    "\n",
    "dt = datetime.datetime.fromtimestamp(1593055439.0)\n",
    "print(dt)  # 2020-06-25 11:23:59\n",
    "print(type(dt)) # <class 'datetime.datetime'>\n",
    "\n",
    "dt = datetime.datetime.now()\n",
    "print(dt)  # 2020-06-25 11:11:03.877853\n",
    "print(type(dt))  # <class 'datetime.datetime'>"
   ]
  },
  {
   "cell_type": "markdown",
   "metadata": {},
   "source": [
    "- `datetime.strftime(fmt)` 格式化 datetime 对象。\n",
    "\n",
    "| 符号 | 说明                                           |\n",
    "| :--: | ---------------------------------------------- |\n",
    "| `%a` | 本地简化星期名称（如星期一，返回 Mon）         |\n",
    "| `%A` | 本地完整星期名称（如星期一，返回 Monday）      |\n",
    "| `%b` | 本地简化的月份名称（如一月，返回 Jan）         |\n",
    "| `%B` | 本地完整的月份名称（如一月，返回 January）     |\n",
    "| `%c` | 本地相应的日期表示和时间表示                   |\n",
    "| `%d` | 月内中的一天（0-31）                           |\n",
    "| `%H` | 24小时制小时数（0-23）                         |\n",
    "| `%I` | 12小时制小时数（01-12）                        |\n",
    "| `%j` | 年内的一天（001-366）                          |\n",
    "| `%m` | 月份（01-12）                                  |\n",
    "| `%M` | 分钟数（00-59）                                |\n",
    "| `%p` | 本地A.M.或P.M.的等价符                         |\n",
    "| `%S` | 秒（00-59）                                    |\n",
    "| `%U` | 一年中的星期数（00-53）星期天为星期的开始      |\n",
    "| `%w` | 星期（0-6），星期天为星期的开始                |\n",
    "| `%W` | 一年中的星期数（00-53）星期一为星期的开始      |\n",
    "| `%x` | 本地相应的日期表示                             |\n",
    "| `%X` | 本地相应的时间表示                             |\n",
    "| `%y` | 两位数的年份表示（00-99）                      |\n",
    "| `%Y` | 四位数的年份表示（0000-9999）                  |\n",
    "| `%Z` | 当前时区的名称（如果是本地时间，返回空字符串） |\n",
    "| `%%` | %号本身                                        |\n",
    "\n",
    "\n",
    "\n",
    "【例子】如何将 datetime 对象转换为任何格式的日期？"
   ]
  },
  {
   "cell_type": "code",
   "execution_count": 14,
   "metadata": {},
   "outputs": [
    {
     "name": "stdout",
     "output_type": "stream",
     "text": [
      "'2020/06/25 11:51:49\n",
      "25 June, 2020, Thursday\n"
     ]
    }
   ],
   "source": [
    "import datetime\n",
    "\n",
    "dt = datetime.datetime(year=2020, month=6, day=25, hour=11, minute=51, second=49)\n",
    "s = dt.strftime(\"'%Y/%m/%d %H:%M:%S\")\n",
    "print(s)  # '2020/06/25 11:51:49\n",
    "\n",
    "s = dt.strftime('%d %B, %Y, %A')\n",
    "print(s)  # 25 June, 2020, Thursday"
   ]
  },
  {
   "cell_type": "markdown",
   "metadata": {},
   "source": [
    "【练习】如何将给定日期转换为 \"mmm-dd, YYYY\" 的格式？"
   ]
  },
  {
   "cell_type": "code",
   "execution_count": 17,
   "metadata": {},
   "outputs": [
    {
     "data": {
      "text/plain": [
       "'Sep-28,2010'"
      ]
     },
     "execution_count": 17,
     "metadata": {},
     "output_type": "execute_result"
    }
   ],
   "source": [
    "# 输入\n",
    "d1 = datetime.date(2010,9,28)\n",
    "\n",
    "# 输出\n",
    "'Sep-28,2010'"
   ]
  },
  {
   "cell_type": "code",
   "execution_count": 18,
   "metadata": {},
   "outputs": [
    {
     "name": "stdout",
     "output_type": "stream",
     "text": [
      "Sep-28,2010\n"
     ]
    }
   ],
   "source": [
    "import datetime\n",
    "\n",
    "d1 = datetime.date(2010, 9, 28)\n",
    "print(d1.strftime('%b-%d,%Y'))\n",
    "# Sep-28,2010"
   ]
  },
  {
   "cell_type": "markdown",
   "metadata": {},
   "source": [
    "- `datetime.date()` Return the date part.\n",
    "- `datetime.time()` Return the time part, with tzinfo None.\n",
    "- `datetime.year` 年\n",
    "- `datetime.month` 月\n",
    "- `datetime.day` 日\n",
    "- `datetime.hour` 小时\n",
    "- `datetime.minute` 分钟\n",
    "- `datetime.second` 秒\n",
    "- `datetime.isoweekday` 星期几\n",
    "\n",
    "【例子】datetime 对象包含很多与日期时间相关的实用功能。"
   ]
  },
  {
   "cell_type": "code",
   "execution_count": 19,
   "metadata": {},
   "outputs": [
    {
     "name": "stdout",
     "output_type": "stream",
     "text": [
      "2020-06-25\n",
      "<class 'datetime.date'>\n",
      "11:51:49\n",
      "<class 'datetime.time'>\n",
      "2020\n",
      "6\n",
      "25\n",
      "11\n",
      "51\n",
      "49\n",
      "4\n"
     ]
    }
   ],
   "source": [
    "import datetime\n",
    "\n",
    "dt = datetime.datetime(year=2020, month=6, day=25, hour=11, minute=51, second=49)\n",
    "print(dt.date())  # 2020-06-25\n",
    "print(type(dt.date()))  # <class 'datetime.date'>\n",
    "print(dt.time())  # 11:51:49\n",
    "print(type(dt.time()))  # <class 'datetime.time'>\n",
    "print(dt.year)  # 2020\n",
    "print(dt.month)  # 6\n",
    "print(dt.day)  # 25\n",
    "print(dt.hour)  # 11\n",
    "print(dt.minute)  # 51\n",
    "print(dt.second)  # 49\n",
    "print(dt.isoweekday())  # 4"
   ]
  },
  {
   "cell_type": "markdown",
   "metadata": {},
   "source": [
    "在处理含有字符串日期的数据集或表格时，我们需要一种自动解析字符串的方法，无论它是什么格式的，都可以将其转化为 datetime 对象。这时，就要使用到 dateutil 中的 parser 模块。\n",
    "\n",
    "- `parser.parse(timestr, parserinfo=None, **kwargs)` \n",
    "\n",
    "【例子】如何在 python 中将字符串解析为 datetime对象？"
   ]
  },
  {
   "cell_type": "code",
   "execution_count": 20,
   "metadata": {},
   "outputs": [
    {
     "name": "stdout",
     "output_type": "stream",
     "text": [
      "2020-06-25 00:00:00\n",
      "<class 'datetime.datetime'>\n",
      "2010-03-31 22:51:00\n",
      "<class 'datetime.datetime'>\n"
     ]
    }
   ],
   "source": [
    "from dateutil import parser\n",
    "\n",
    "s = '2020-06-25'\n",
    "dt = parser.parse(s)\n",
    "print(dt)  # 2020-06-25 00:00:00\n",
    "print(type(dt))  # <class 'datetime.datetime'>\n",
    "\n",
    "s = 'March 31, 2010, 10:51pm'\n",
    "dt = parser.parse(s)\n",
    "print(dt)  # 2010-03-31 22:51:00\n",
    "print(type(dt))  # <class 'datetime.datetime'>"
   ]
  },
  {
   "cell_type": "markdown",
   "metadata": {},
   "source": [
    "练习】如何将字符串日期解析为 datetime 对象？"
   ]
  },
  {
   "cell_type": "code",
   "execution_count": 23,
   "metadata": {},
   "outputs": [
    {
     "name": "stdout",
     "output_type": "stream",
     "text": [
      "2010-01-01 00:00:00\n",
      "2000-01-31 00:00:00\n",
      "1996-10-10 22:40:00\n"
     ]
    }
   ],
   "source": [
    "# 输入\n",
    "s1 = \"2010 Jan 1\"\n",
    "s2 = '31-1-2000'\n",
    "s3 = 'October10, 1996, 10:40pm'\n",
    "\n",
    "# 输出\n",
    "#2010-01-01 00:00:00\n",
    "#2000-01-31 00:00:00\n",
    "#2019-10-10 22:40:00\n",
    "#【参考答案】\n",
    "from dateutil import parser\n",
    "\n",
    "s1 = \"2010 Jan 1\"\n",
    "s2 = '31-1-2000'\n",
    "s3 = 'October10, 1996, 10:40pm'\n",
    "\n",
    "dt1 = parser.parse(s1)\n",
    "dt2 = parser.parse(s2)\n",
    "dt3 = parser.parse(s3)\n",
    "\n",
    "print(dt1)  # 2010-01-01 00:00:00\n",
    "print(dt2)  # 2000-01-31 00:00:00\n",
    "print(dt3)  # 1996-10-10 22:40:00"
   ]
  },
  {
   "cell_type": "markdown",
   "metadata": {},
   "source": [
    "【练习】计算以下列表中连续的天数。"
   ]
  },
  {
   "cell_type": "code",
   "execution_count": 24,
   "metadata": {},
   "outputs": [
    {
     "name": "stdout",
     "output_type": "stream",
     "text": [
      "[datetime.timedelta(days=8) datetime.timedelta(days=5)\n",
      " datetime.timedelta(days=5) datetime.timedelta(days=3)]\n",
      "[8, 5, 5, 3]\n"
     ]
    }
   ],
   "source": [
    "# 输入\n",
    "# ['Oct, 2, 1869', 'Oct, 10, 1869', 'Oct, 15, 1869', 'Oct, 20, 1869','Oct, 23, 1869']\n",
    "\n",
    "# 输出\n",
    "# [8, 5, 5, 3]\n",
    "# 【参考答案】\n",
    "import numpy as np\n",
    "from dateutil import parser\n",
    "\n",
    "dateString = ['Oct, 2, 1869', 'Oct, 10, 1869', 'Oct, 15, 1869', 'Oct, 20, 1869', 'Oct, 23, 1869']\n",
    "dates = [parser.parse(i) for i in dateString]\n",
    "td = np.diff(dates)\n",
    "print(td)\n",
    "# [datetime.timedelta(days=8) datetime.timedelta(days=5)\n",
    "#  datetime.timedelta(days=5) datetime.timedelta(days=3)]\n",
    "d = [i.days for i in td]\n",
    "print(d)  # [8, 5, 5, 3]"
   ]
  },
  {
   "cell_type": "markdown",
   "metadata": {},
   "source": [
    "## 2. date类\n",
    "\n",
    "```python\n",
    "class date:\n",
    "    def __init__(self, year, month, day):\n",
    "        pass\n",
    "    def today(cls):\n",
    "        pass\n",
    "```\n",
    "\n",
    "- `date.today()` 获取当前日期信息。\n",
    "\n",
    "\n",
    "【例子】如何在 Python 中获取当前日期和时间？"
   ]
  },
  {
   "cell_type": "code",
   "execution_count": 25,
   "metadata": {},
   "outputs": [
    {
     "name": "stdout",
     "output_type": "stream",
     "text": [
      "2020-06-25\n",
      "<class 'datetime.date'>\n",
      "2020-08-06\n",
      "<class 'datetime.date'>\n"
     ]
    }
   ],
   "source": [
    "import datetime\n",
    "\n",
    "d = datetime.date(2020, 6, 25)\n",
    "print(d)  # 2020-06-25\n",
    "print(type(d))  # <class 'datetime.date'>\n",
    "\n",
    "d = datetime.date.today()\n",
    "print(d)  # 2020-06-25\n",
    "print(type(d))  # <class 'datetime.date'>"
   ]
  },
  {
   "cell_type": "code",
   "execution_count": 27,
   "metadata": {},
   "outputs": [],
   "source": [
    "# 【练习】如何统计两个日期之间有多少个星期六？\n",
    "\n",
    "\n",
    "# 输入\n",
    "d1 = datetime.date(1869, 1, 2)\n",
    "d2 = datetime.date(1869, 10, 2)\n",
    "\n",
    "# 输出\n",
    "# 40\n",
    "# ```\n",
    "\n",
    "# 【参考答案】"
   ]
  },
  {
   "cell_type": "code",
   "execution_count": 28,
   "metadata": {},
   "outputs": [
    {
     "name": "stdout",
     "output_type": "stream",
     "text": [
      "273\n",
      "6\n",
      "40\n"
     ]
    }
   ],
   "source": [
    "import datetime\n",
    "\n",
    "d1 = datetime.date(1869, 1, 2)\n",
    "d2 = datetime.date(1869, 10, 2)\n",
    "dt = (d2 - d1).days\n",
    "print(dt)\n",
    "print(d1.isoweekday())  # 6\n",
    "print(dt // 7 + 1)  # 40"
   ]
  },
  {
   "cell_type": "markdown",
   "metadata": {},
   "source": [
    "## 3. time类\n",
    "\n",
    "\n",
    "```python\n",
    "class time:\n",
    "    def __init__(self, hour, minute, second, microsecond, tzinfo):\n",
    "        pass\n",
    "```\n",
    "\n",
    "【例子】如何使用 datetime.time() 类？"
   ]
  },
  {
   "cell_type": "code",
   "execution_count": 29,
   "metadata": {},
   "outputs": [
    {
     "name": "stdout",
     "output_type": "stream",
     "text": [
      "12:09:23.012980\n",
      "<class 'datetime.time'>\n"
     ]
    }
   ],
   "source": [
    "import datetime\n",
    "\n",
    "t = datetime.time(12, 9, 23, 12980)\n",
    "print(t)  # 12:09:23.012980\n",
    "print(type(t))  # <class 'datetime.time'>"
   ]
  },
  {
   "cell_type": "markdown",
   "metadata": {},
   "source": [
    "注意：\n",
    "\n",
    "- 1秒 = 1000 毫秒（milliseconds）\n",
    "- 1毫秒 = 1000 微妙（microseconds）\n",
    "\n",
    "\n",
    "【练习】如何将给定日期转换为当天开始的时间？"
   ]
  },
  {
   "cell_type": "code",
   "execution_count": 31,
   "metadata": {},
   "outputs": [
    {
     "name": "stdout",
     "output_type": "stream",
     "text": [
      "2019-10-02\n"
     ]
    }
   ],
   "source": [
    "# 输入\n",
    "import datetime\n",
    "date = datetime.date(2019, 10, 2)\n",
    "print(date)\n",
    "\n",
    "# 输出\n",
    "#2019-10-02 00:00:00"
   ]
  },
  {
   "cell_type": "code",
   "execution_count": 32,
   "metadata": {},
   "outputs": [
    {
     "name": "stdout",
     "output_type": "stream",
     "text": [
      "2019-10-02 00:00:00\n",
      "2019-10-02 00:00:00\n"
     ]
    }
   ],
   "source": [
    "#【参考答案】\n",
    "import datetime\n",
    "\n",
    "date = datetime.date(2019, 10, 2)\n",
    "dt = datetime.datetime(date.year, date.month, date.day)\n",
    "print(dt)  # 2019-10-02 00:00:00\n",
    "\n",
    "dt = datetime.datetime.combine(date, datetime.time.min)\n",
    "print(dt)  # 2019-10-02 00:00:00"
   ]
  },
  {
   "cell_type": "markdown",
   "metadata": {},
   "source": [
    "## 4. timedelta类\n",
    "\n",
    "`timedelta` 表示具体时间实例中的一段时间。你可以把它们简单想象成两个日期或时间之间的间隔。\n",
    "\n",
    "它常常被用来从 `datetime` 对象中添加或移除一段特定的时间。\n",
    "\n",
    "```python\n",
    "class timedelta(SupportsAbs[timedelta]):\n",
    "    def __init__(self, days, seconds, microseconds, milliseconds, minutes, hours, weeks,):\n",
    "        pass\n",
    "    def days(self):\n",
    "        pass\n",
    "    def total_seconds(self):\n",
    "        pass\n",
    "```\n",
    "\n",
    "\n",
    "\n",
    "【例子】如何使用 datetime.timedelta() 类？"
   ]
  },
  {
   "cell_type": "code",
   "execution_count": 34,
   "metadata": {},
   "outputs": [
    {
     "name": "stdout",
     "output_type": "stream",
     "text": [
      "30 days, 0:00:00\n",
      "<class 'datetime.timedelta'>\n",
      "2020-08-06\n",
      "2020-09-05\n",
      "365 days, 0:00:00\n",
      "<class 'datetime.timedelta'>\n",
      "23 days, 0:00:00\n",
      "<class 'datetime.timedelta'>\n"
     ]
    }
   ],
   "source": [
    "import datetime\n",
    "\n",
    "td = datetime.timedelta(days=30)\n",
    "print(td)  # 30 days, 0:00:00\n",
    "print(type(td))  # <class 'datetime.timedelta'>\n",
    "print(datetime.date.today())  # 2020-07-01\n",
    "print(datetime.date.today() + td)  # 2020-07-31\n",
    "\n",
    "dt1 = datetime.datetime(2020, 1, 31, 10, 10, 0)\n",
    "dt2 = datetime.datetime(2019, 1, 31, 10, 10, 0)\n",
    "td = dt1 - dt2\n",
    "print(td)  # 365 days, 0:00:00\n",
    "print(type(td))  # <class 'datetime.timedelta'>\n",
    "\n",
    "td1 = datetime.timedelta(days=30)  # 30 days\n",
    "td2 = datetime.timedelta(weeks=1)  # 1 week\n",
    "td = td1 - td2\n",
    "print(td)  # 23 days, 0:00:00\n",
    "print(type(td))  # <class 'datetime.timedelta'>"
   ]
  },
  {
   "cell_type": "markdown",
   "metadata": {},
   "source": [
    "如果将两个 datetime 对象相减，就会得到表示该时间间隔的 timedelta 对象。\n",
    "\n",
    "同样地，将两个时间间隔相减，可以得到另一个 timedelta 对象。\n",
    "\n",
    "【练习】\n",
    "\n",
    "1. 距离你出生那天过去多少天了？\n",
    "2. 距离你今年的下一个生日还有多少天？\n",
    "3. 将距离你今年的下一个生日的天数转换为秒数。\n",
    "\n",
    "1. \n",
    "\n",
    "```python\n",
    "# 输入\n",
    "bday = 'Oct 2, 1969'\n",
    "```\n",
    "\n",
    "【参考答案】"
   ]
  },
  {
   "cell_type": "code",
   "execution_count": 35,
   "metadata": {},
   "outputs": [
    {
     "name": "stdout",
     "output_type": "stream",
     "text": [
      "1969-10-02\n",
      "2020-08-06\n",
      "2020-10-02\n",
      "18571\n",
      "57\n",
      "4924800\n",
      "4924800.0\n"
     ]
    }
   ],
   "source": [
    "from dateutil import parser\n",
    "import datetime\n",
    "\n",
    "bDay = 'Oct 2, 1969'\n",
    "dt1 = parser.parse(bDay).date()\n",
    "dt2 = datetime.date.today()\n",
    "dt3 = datetime.date(dt2.year, dt1.month, dt1.day)\n",
    "print(dt1)  # 1969-10-02\n",
    "print(dt2)  # 2020-07-01\n",
    "print(dt3)  # 2020-10-02\n",
    "\n",
    "td = dt2 - dt1\n",
    "print(td.days)  # 18535\n",
    "td = dt3 - dt2\n",
    "print(td.days)  # 93\n",
    "print(td.days * 24 * 60 * 60)  # 8035200\n",
    "print(td.total_seconds())  # 8035200.0"
   ]
  },
  {
   "cell_type": "markdown",
   "metadata": {},
   "source": [
    "# 1. 文件与文件系统\n",
    "\n",
    "## 打开文件\n",
    "\n",
    "- `open(file, mode='r', buffering=None, encoding=None, errors=None, newline=None, closefd=True)` Open file and return a stream.  Raise OSError upon failure.\n",
    "  - `file`: 必需，文件路径（相对或者绝对路径）。\n",
    "  - `mode`: 可选，文件打开模式\n",
    "  - `buffering`: 设置缓冲\n",
    "  - `encoding`: 一般使用utf8\n",
    "  - `errors`: 报错级别\n",
    "  - `newline`: 区分换行符\n",
    "\n",
    "常见的`mode`如下表所示：\n",
    "\n",
    "\n",
    "| 打开模式 | 执行操作                                                     |\n",
    "| :------: | ------------------------------------------------------------ |\n",
    "|   'r'    | 以只读方式打开文件。文件的指针将会放在文件的开头。这是默认模式。 |\n",
    "|   'w'    | 打开一个文件只用于写入。<br>如果该文件已存在则打开文件，并从开头开始编辑。<br>即原有内容会被删除。<br>如果该文件不存在，创建新文件。 |\n",
    "|   'x'    | 写模式，新建一个文件，如果该文件已存在则会报错。             |\n",
    "|   'a'    | 追加模式，打开一个文件用于追加。<br>如果该文件已存在，文件指针将会放在文件的结尾。<br>也就是说，新的内容将会被写入到已有内容之后。<br>如果该文件不存在，创建新文件进行写入。 |\n",
    "|   'b'    | 以二进制模式打开文件。一般用于非文本文件，如：图片。         |\n",
    "|   't'    | 以文本模式打开（默认）。一般用于文本文件，如：txt。          |\n",
    "|   '+'    | 可读写模式（可添加到其它模式中使用）                         |\n",
    "\n",
    "\n",
    "\n",
    "【例】打开一个文件，并返回文件对象，如果该文件无法被打开，会抛出`OSError`。"
   ]
  },
  {
   "cell_type": "code",
   "execution_count": 45,
   "metadata": {},
   "outputs": [
    {
     "name": "stdout",
     "output_type": "stream",
     "text": [
      "<_io.TextIOWrapper name='将进酒.txt' mode='r' encoding='UTF-8'>\n",
      "君不见，黄河之水天上来，奔流到海不复回。\n",
      "\n",
      "君不见，高堂明镜悲白发，朝如青丝暮成雪。\n",
      "\n",
      "人生得意须尽欢，莫使金樽空对月。\n",
      "\n",
      "天生我材必有用，千金散尽还复来。\n",
      "\n",
      "烹羊宰牛且为乐，会须一饮三百杯。\n",
      "\n",
      "岑夫子，丹丘生，将进酒，杯莫停。\n",
      "\n",
      "与君歌一曲，请君为我倾耳听。\n",
      "\n",
      "钟鼓馔玉不足贵，但愿长醉不复醒。\n",
      "\n",
      "古来圣贤皆寂寞，惟有饮者留其名。\n",
      "\n",
      "陈王昔时宴平乐，斗酒十千恣欢谑。\n",
      "\n",
      "主人何为言少钱，径须沽取对君酌。\n",
      "\n",
      "五花马，千金裘，呼儿将出换美酒，与尔同销万古愁。\n"
     ]
    }
   ],
   "source": [
    "f = open('将进酒.txt', encoding='UTF-8')\n",
    "print(f)\n",
    "# <_io.TextIOWrapper name='将进酒.txt' mode='r' encoding='cp936'>\n",
    "\n",
    "for each in f:\n",
    "    print(each)\n",
    "\n",
    "# 君不见，黄河之水天上来，奔流到海不复回。\n",
    "# 君不见，高堂明镜悲白发，朝如青丝暮成雪。\n",
    "# 人生得意须尽欢，莫使金樽空对月。\n",
    "# 天生我材必有用，千金散尽还复来。\n",
    "# 烹羊宰牛且为乐，会须一饮三百杯。\n",
    "# 岑夫子，丹丘生，将进酒，杯莫停。\n",
    "# 与君歌一曲，请君为我倾耳听。\n",
    "# 钟鼓馔玉不足贵，但愿长醉不复醒。\n",
    "# 古来圣贤皆寂寞，惟有饮者留其名。\n",
    "# 陈王昔时宴平乐，斗酒十千恣欢谑。\n",
    "# 主人何为言少钱，径须沽取对君酌。\n",
    "# 五花马，千金裘，呼儿将出换美酒，与尔同销万古愁。"
   ]
  },
  {
   "cell_type": "markdown",
   "metadata": {},
   "source": [
    "## 文件对象方法\n",
    "\n",
    "- `fileObject.close()` 用于关闭一个已打开的文件。关闭后的文件不能再进行读写操作， 否则会触发`ValueError`错误。\n",
    "\n",
    "【例】"
   ]
  },
  {
   "cell_type": "code",
   "execution_count": 38,
   "metadata": {},
   "outputs": [
    {
     "name": "stdout",
     "output_type": "stream",
     "text": [
      "FileName: 将进酒.txt\n"
     ]
    }
   ],
   "source": [
    "f = open(\"将进酒.txt\")\n",
    "print('FileName:', f.name)  # FileName: 将进酒.txt\n",
    "f.close()"
   ]
  },
  {
   "cell_type": "markdown",
   "metadata": {},
   "source": [
    "- `fileObject.read([size])` 用于从文件读取指定的<u>字符数</u>，如果未给定或为负则读取所有。\n",
    "\n",
    "【例】"
   ]
  },
  {
   "cell_type": "code",
   "execution_count": 44,
   "metadata": {},
   "outputs": [
    {
     "name": "stdout",
     "output_type": "stream",
     "text": [
      "读取的字符串: 君不见，黄河之水天上来，奔流到海不复回。\n"
     ]
    }
   ],
   "source": [
    "f = open('将进酒.txt', 'r', encoding='UTF-8')\n",
    "line = f.read(20)\n",
    "print(\"读取的字符串: %s\" % line)\n",
    "# 读取的字符串: 君不见，黄河之水天上来，奔流到海不复回。\n",
    "\n",
    "f.close()"
   ]
  },
  {
   "cell_type": "markdown",
   "metadata": {},
   "source": [
    "- `fileObject.readline()`读取整行，包括 \"\\n\" 字符。\n",
    "\n",
    "【例】"
   ]
  },
  {
   "cell_type": "code",
   "execution_count": 47,
   "metadata": {},
   "outputs": [
    {
     "name": "stdout",
     "output_type": "stream",
     "text": [
      "读取的字符串: 君不见，黄河之水天上来，奔流到海不复回。\n",
      "\n"
     ]
    }
   ],
   "source": [
    "f = open('将进酒.txt', 'r', encoding='UTF-8')\n",
    "line = f.readline()\n",
    "print(\"读取的字符串: %s\" % line)\n",
    "# 读取的字符串: 君不见，黄河之水天上来，奔流到海不复回。\n",
    "f.close()"
   ]
  },
  {
   "cell_type": "markdown",
   "metadata": {},
   "source": [
    "- `fileObject.readlines()`用于读取所有行(直到结束符 EOF)并返回列表，该列表可以由 Python 的 `for... in ...` 结构进行处理。\n",
    "\n",
    "【例】"
   ]
  },
  {
   "cell_type": "code",
   "execution_count": 49,
   "metadata": {},
   "outputs": [
    {
     "name": "stdout",
     "output_type": "stream",
     "text": [
      "['君不见，黄河之水天上来，奔流到海不复回。\\n', '君不见，高堂明镜悲白发，朝如青丝暮成雪。\\n', '人生得意须尽欢，莫使金樽空对月。\\n', '天生我材必有用，千金散尽还复来。\\n', '烹羊宰牛且为乐，会须一饮三百杯。\\n', '岑夫子，丹丘生，将进酒，杯莫停。\\n', '与君歌一曲，请君为我倾耳听。\\n', '钟鼓馔玉不足贵，但愿长醉不复醒。\\n', '古来圣贤皆寂寞，惟有饮者留其名。\\n', '陈王昔时宴平乐，斗酒十千恣欢谑。\\n', '主人何为言少钱，径须沽取对君酌。\\n', '五花马，千金裘，呼儿将出换美酒，与尔同销万古愁。']\n",
      "君不见，黄河之水天上来，奔流到海不复回。\n",
      "\n",
      "君不见，高堂明镜悲白发，朝如青丝暮成雪。\n",
      "\n",
      "人生得意须尽欢，莫使金樽空对月。\n",
      "\n",
      "天生我材必有用，千金散尽还复来。\n",
      "\n",
      "烹羊宰牛且为乐，会须一饮三百杯。\n",
      "\n",
      "岑夫子，丹丘生，将进酒，杯莫停。\n",
      "\n",
      "与君歌一曲，请君为我倾耳听。\n",
      "\n",
      "钟鼓馔玉不足贵，但愿长醉不复醒。\n",
      "\n",
      "古来圣贤皆寂寞，惟有饮者留其名。\n",
      "\n",
      "陈王昔时宴平乐，斗酒十千恣欢谑。\n",
      "\n",
      "主人何为言少钱，径须沽取对君酌。\n",
      "\n",
      "五花马，千金裘，呼儿将出换美酒，与尔同销万古愁。\n"
     ]
    }
   ],
   "source": [
    "f = open('将进酒.txt', 'r', encoding='UTF-8')\n",
    "lines = f.readlines()\n",
    "print(lines)\n",
    "\n",
    "for each in lines:\n",
    "    each.strip()\n",
    "    print(each)\n",
    "\n",
    "# 君不见，黄河之水天上来，奔流到海不复回。\n",
    "# 君不见，高堂明镜悲白发，朝如青丝暮成雪。\n",
    "# 人生得意须尽欢，莫使金樽空对月。\n",
    "# 天生我材必有用，千金散尽还复来。\n",
    "# 烹羊宰牛且为乐，会须一饮三百杯。\n",
    "# 岑夫子，丹丘生，将进酒，杯莫停。\n",
    "# 与君歌一曲，请君为我倾耳听。\n",
    "# 钟鼓馔玉不足贵，但愿长醉不复醒。\n",
    "# 古来圣贤皆寂寞，惟有饮者留其名。\n",
    "# 陈王昔时宴平乐，斗酒十千恣欢谑。\n",
    "# 主人何为言少钱，径须沽取对君酌。\n",
    "# 五花马，千金裘，呼儿将出换美酒，与尔同销万古愁。\n",
    "\n",
    "f.close()"
   ]
  },
  {
   "cell_type": "markdown",
   "metadata": {},
   "source": [
    "- `fileObject.tell()`返回文件的当前位置，即文件指针当前位置。\n",
    "\n",
    "【例】"
   ]
  },
  {
   "cell_type": "code",
   "execution_count": 51,
   "metadata": {},
   "outputs": [
    {
     "name": "stdout",
     "output_type": "stream",
     "text": [
      "君不见，黄河之水天上来，奔流到海不复回。\n",
      "\n",
      "62\n"
     ]
    }
   ],
   "source": [
    "f = open('将进酒.txt', 'r', encoding='UTF-8')\n",
    "line = f.readline()\n",
    "print(line)\n",
    "# 君不见，黄河之水天上来，奔流到海不复回。\n",
    "pos = f.tell()\n",
    "print(pos)  # 42\n",
    "f.close()"
   ]
  },
  {
   "cell_type": "markdown",
   "metadata": {},
   "source": [
    "- `fileObject.seek(offset[, whence])`用于移动文件读取指针到指定位置。\n",
    "  - `offset`：开始的偏移量，也就是代表需要移动偏移的字节数，如果是负数表示从倒数第几位开始。\n",
    "  - `whence`：可选，默认值为 0。给 `offset` 定义一个参数，表示要从哪个位置开始偏移；0 代表从文件开头开始算起，1 代表从当前位置开始算起，2 代表从文件末尾算起。\n",
    "\n",
    "【例】"
   ]
  },
  {
   "cell_type": "code",
   "execution_count": 52,
   "metadata": {},
   "outputs": [
    {
     "name": "stdout",
     "output_type": "stream",
     "text": [
      "君不见，黄河之水天上来，奔流到海不复回。\n",
      "\n",
      "君不见，高堂明镜悲白发，朝如青丝暮成雪。\n",
      "\n",
      "君不见，黄河之水天上来，奔流到海不复回。\n",
      "\n"
     ]
    }
   ],
   "source": [
    "f = open('将进酒.txt', 'r', encoding='UTF-8')\n",
    "line = f.readline()\n",
    "print(line)\n",
    "# 君不见，黄河之水天上来，奔流到海不复回。\n",
    "line = f.readline()\n",
    "print(line)\n",
    "# 君不见，高堂明镜悲白发，朝如青丝暮成雪。\n",
    "f.seek(0, 0)\n",
    "line = f.readline()\n",
    "print(line)\n",
    "# 君不见，黄河之水天上来，奔流到海不复回。\n",
    "f.close()"
   ]
  },
  {
   "cell_type": "markdown",
   "metadata": {},
   "source": [
    "- `fileObject.write(str)`用于向文件中写入指定字符串，返回的是写入的字符长度。\n",
    "\n",
    "【例】"
   ]
  },
  {
   "cell_type": "code",
   "execution_count": 54,
   "metadata": {},
   "outputs": [
    {
     "name": "stdout",
     "output_type": "stream",
     "text": [
      "16\n",
      "5\n",
      "b'5'\n",
      "13\n",
      "b'd'\n"
     ]
    }
   ],
   "source": [
    "f = open('workfile.txt', 'wb+')\n",
    "print(f.write(b'0123456789abcdef'))  # 16\n",
    "print(f.seek(5))  # 5\n",
    "print(f.read(1))  # b'5'\n",
    "print(f.seek(-3, 2))  # 13\n",
    "print(f.read(1))  # b'd'"
   ]
  },
  {
   "cell_type": "markdown",
   "metadata": {},
   "source": [
    "在文件关闭前或缓冲区刷新前，字符串内容存储在缓冲区中，这时你在文件中是看不到写入的内容的。\n",
    "\n",
    "如果文件打开模式带`b`，那写入文件内容时，`str`（参数）要用`encode`方法转为`bytes`形式，否则报错：`TypeError: a bytes-like object is required, not 'str'`。\n",
    "\n",
    "【例】"
   ]
  },
  {
   "cell_type": "code",
   "execution_count": 55,
   "metadata": {},
   "outputs": [],
   "source": [
    "str = '...'\n",
    "# 文本 = Unicode字符序列\n",
    "# 相当于 string 类型\n",
    "\n",
    "str = b'...'\n",
    "# 文本 = 八位序列(0到255之间的整数)\n",
    "# 字节文字总是以‘b’或‘B’作为前缀；它们产生一个字节类型的实例，而不是str类型。\n",
    "# 相当于 byte[]"
   ]
  },
  {
   "cell_type": "code",
   "execution_count": 56,
   "metadata": {},
   "outputs": [
    {
     "name": "stdout",
     "output_type": "stream",
     "text": [
      "君不见，黄河之水天上来，奔流到海不复回。\n",
      "\n",
      "君不见，高堂明镜悲白发，朝如青丝暮成雪。\n",
      "\n",
      "人生得意须尽欢，莫使金樽空对月。\n",
      "\n",
      "天生我材必有用，千金散尽还复来。\n",
      "\n",
      "烹羊宰牛且为乐，会须一饮三百杯。\n",
      "\n",
      "岑夫子，丹丘生，将进酒，杯莫停。\n",
      "\n",
      "与君歌一曲，请君为我倾耳听。\n",
      "\n",
      "钟鼓馔玉不足贵，但愿长醉不复醒。\n",
      "\n",
      "古来圣贤皆寂寞，惟有饮者留其名。\n",
      "\n",
      "陈王昔时宴平乐，斗酒十千恣欢谑。\n",
      "\n",
      "主人何为言少钱，径须沽取对君酌。\n",
      "\n",
      "五花马，千金裘，呼儿将出换美酒，与尔同销万古愁。\n",
      "\n",
      "作者：李白\n"
     ]
    }
   ],
   "source": [
    "f = open('将进酒.txt', 'r+', encoding='UTF-8')\n",
    "str = '\\n作者：李白'\n",
    "f.seek(0, 2)\n",
    "line = f.write(str)\n",
    "f.seek(0, 0)\n",
    "for each in f:\n",
    "    print(each)\n",
    "\n",
    "# 君不见，黄河之水天上来，奔流到海不复回。\n",
    "# 君不见，高堂明镜悲白发，朝如青丝暮成雪。\n",
    "# 人生得意须尽欢，莫使金樽空对月。\n",
    "# 天生我材必有用，千金散尽还复来。\n",
    "# 烹羊宰牛且为乐，会须一饮三百杯。\n",
    "# 岑夫子，丹丘生，将进酒，杯莫停。\n",
    "# 与君歌一曲，请君为我倾耳听。\n",
    "# 钟鼓馔玉不足贵，但愿长醉不复醒。\n",
    "# 古来圣贤皆寂寞，惟有饮者留其名。\n",
    "# 陈王昔时宴平乐，斗酒十千恣欢谑。\n",
    "# 主人何为言少钱，径须沽取对君酌。\n",
    "# 五花马，千金裘，呼儿将出换美酒，与尔同销万古愁。\n",
    "# 作者：李白\n",
    "\n",
    "f.close()"
   ]
  },
  {
   "cell_type": "markdown",
   "metadata": {},
   "source": [
    "- `fileObject.writelines(sequence)`向文件写入一个序列字符串列表，如果需要换行则要自己加入每行的换行符`\\n`。\n",
    "\n",
    "【例】"
   ]
  },
  {
   "cell_type": "code",
   "execution_count": 57,
   "metadata": {},
   "outputs": [
    {
     "name": "stdout",
     "output_type": "stream",
     "text": [
      "小马的程序人生\n",
      "\n",
      "老马的程序人生\n"
     ]
    }
   ],
   "source": [
    "f = open('test.txt', 'w+')\n",
    "seq = ['小马的程序人生\\n', '老马的程序人生']\n",
    "f.writelines(seq)\n",
    "f.seek(0, 0)\n",
    "for each in f:\n",
    "    print(each)\n",
    "    \n",
    "# 小马的程序人生\n",
    "# 老马的程序人生\n",
    "f.close()"
   ]
  },
  {
   "cell_type": "markdown",
   "metadata": {},
   "source": [
    "## 简洁的 with 语句\n",
    "\n",
    "一些对象定义了标准的清理行为，无论系统是否成功的使用了它，一旦不需要它了，那么这个标准的清理行为就会执行。\n",
    "\n",
    "关键词 with 语句就可以保证诸如文件之类的对象在使用完之后一定会正确的执行它的清理方法。\n",
    "\n",
    "【例】"
   ]
  },
  {
   "cell_type": "code",
   "execution_count": 58,
   "metadata": {},
   "outputs": [
    {
     "ename": "TypeError",
     "evalue": "'str' object is not callable",
     "output_type": "error",
     "traceback": [
      "\u001b[1;31m---------------------------------------------------------------------------\u001b[0m",
      "\u001b[1;31mUnsupportedOperation\u001b[0m                      Traceback (most recent call last)",
      "\u001b[1;32m<ipython-input-58-3c3a857a5e5a>\u001b[0m in \u001b[0;36m<module>\u001b[1;34m\u001b[0m\n\u001b[0;32m      2\u001b[0m     \u001b[0mf\u001b[0m \u001b[1;33m=\u001b[0m \u001b[0mopen\u001b[0m\u001b[1;33m(\u001b[0m\u001b[1;34m'myfile.txt'\u001b[0m\u001b[1;33m,\u001b[0m \u001b[1;34m'w'\u001b[0m\u001b[1;33m)\u001b[0m\u001b[1;33m\u001b[0m\u001b[1;33m\u001b[0m\u001b[0m\n\u001b[1;32m----> 3\u001b[1;33m     \u001b[1;32mfor\u001b[0m \u001b[0mline\u001b[0m \u001b[1;32min\u001b[0m \u001b[0mf\u001b[0m\u001b[1;33m:\u001b[0m\u001b[1;33m\u001b[0m\u001b[1;33m\u001b[0m\u001b[0m\n\u001b[0m\u001b[0;32m      4\u001b[0m         \u001b[0mprint\u001b[0m\u001b[1;33m(\u001b[0m\u001b[0mline\u001b[0m\u001b[1;33m)\u001b[0m\u001b[1;33m\u001b[0m\u001b[1;33m\u001b[0m\u001b[0m\n",
      "\u001b[1;31mUnsupportedOperation\u001b[0m: not readable",
      "\nDuring handling of the above exception, another exception occurred:\n",
      "\u001b[1;31mTypeError\u001b[0m                                 Traceback (most recent call last)",
      "\u001b[1;32m<ipython-input-58-3c3a857a5e5a>\u001b[0m in \u001b[0;36m<module>\u001b[1;34m\u001b[0m\n\u001b[0;32m      4\u001b[0m         \u001b[0mprint\u001b[0m\u001b[1;33m(\u001b[0m\u001b[0mline\u001b[0m\u001b[1;33m)\u001b[0m\u001b[1;33m\u001b[0m\u001b[1;33m\u001b[0m\u001b[0m\n\u001b[0;32m      5\u001b[0m \u001b[1;32mexcept\u001b[0m \u001b[0mOSError\u001b[0m \u001b[1;32mas\u001b[0m \u001b[0merror\u001b[0m\u001b[1;33m:\u001b[0m\u001b[1;33m\u001b[0m\u001b[1;33m\u001b[0m\u001b[0m\n\u001b[1;32m----> 6\u001b[1;33m     \u001b[0mprint\u001b[0m\u001b[1;33m(\u001b[0m\u001b[1;34m'出错啦!%s'\u001b[0m \u001b[1;33m%\u001b[0m \u001b[0mstr\u001b[0m\u001b[1;33m(\u001b[0m\u001b[0merror\u001b[0m\u001b[1;33m)\u001b[0m\u001b[1;33m)\u001b[0m\u001b[1;33m\u001b[0m\u001b[1;33m\u001b[0m\u001b[0m\n\u001b[0m\u001b[0;32m      7\u001b[0m \u001b[1;32mfinally\u001b[0m\u001b[1;33m:\u001b[0m\u001b[1;33m\u001b[0m\u001b[1;33m\u001b[0m\u001b[0m\n\u001b[0;32m      8\u001b[0m     \u001b[0mf\u001b[0m\u001b[1;33m.\u001b[0m\u001b[0mclose\u001b[0m\u001b[1;33m(\u001b[0m\u001b[1;33m)\u001b[0m\u001b[1;33m\u001b[0m\u001b[1;33m\u001b[0m\u001b[0m\n",
      "\u001b[1;31mTypeError\u001b[0m: 'str' object is not callable"
     ]
    }
   ],
   "source": [
    "try:\n",
    "    f = open('myfile.txt', 'w')\n",
    "    for line in f:\n",
    "        print(line)\n",
    "except OSError as error:\n",
    "    print('出错啦!%s' % str(error))\n",
    "finally:\n",
    "    f.close()\n",
    "\n",
    "# 出错啦!not readable"
   ]
  },
  {
   "cell_type": "markdown",
   "metadata": {},
   "source": [
    "这段代码执行完毕后，就算在处理过程中出问题了，文件 f 总是会关闭。\n",
    "\n",
    "【例】\n",
    "\n",
    "``` python\n",
    "try:\n",
    "    with open('myfile.txt', 'w') as f:\n",
    "        for line in f:\n",
    "            print(line)\n",
    "except OSError as error:\n",
    "    print('出错啦!%s' % str(error))\n",
    "```\n",
    "\n",
    "#出错啦!not readable "
   ]
  },
  {
   "cell_type": "markdown",
   "metadata": {},
   "source": [
    "# 2. OS 模块中关于文件/目录常用的函数\n",
    "\n",
    "我们所知道常用的操作系统就有：Windows，Mac OS，Linu，Unix等，这些操作系统底层对于文件系统的访问工作原理是不一样的，因此你可能就要针对不同的系统来考虑使用哪些文件系统模块……，这样的做法是非常不友好且麻烦的，因为这样就意味着当你的程序运行环境一改变，你就要相应的去修改大量的代码来应对。\n",
    "\n",
    "有了OS（Operation System）模块，我们不需要关心什么操作系统下使用什么模块，OS模块会帮你选择正确的模块并调用。\n",
    "\n",
    "\n",
    "\n",
    "- `os.getcwd()`用于返回当前工作目录。\n",
    "- `os.chdir(path)`用于改变当前工作目录到指定的路径。\n",
    "\n",
    "【例】"
   ]
  },
  {
   "cell_type": "code",
   "execution_count": 59,
   "metadata": {},
   "outputs": [
    {
     "name": "stdout",
     "output_type": "stream",
     "text": [
      "当前工作目录 : D:\\ucas_onedrive\\OneDrive - mails.ucas.ac.cn\\MyGitHub\\mybog\\datawhale\\python基础\n",
      "目录修改成功 : C:\\\n"
     ]
    }
   ],
   "source": [
    "import os\n",
    "\n",
    "path = 'C:\\\\'\n",
    "print(\"当前工作目录 : %s\" % os.getcwd())\n",
    "# 当前工作目录 : C:\\Users\\Administrator\\PycharmProjects\\untitled1\n",
    "os.chdir(path)\n",
    "print(\"目录修改成功 : %s\" % os.getcwd())\n",
    "# 目录修改成功 : C:\\"
   ]
  },
  {
   "cell_type": "markdown",
   "metadata": {},
   "source": [
    "- `listdir (path='.')`返回`path`指定的文件夹包含的文件或文件夹的名字的列表。\n",
    "\n",
    "【例】"
   ]
  },
  {
   "cell_type": "code",
   "execution_count": 60,
   "metadata": {},
   "outputs": [
    {
     "name": "stdout",
     "output_type": "stream",
     "text": [
      "$360Section\n",
      "$Recycle.Bin\n",
      "360SANDBOX\n",
      "AMTAG.BIN\n",
      "AppData\n",
      "bootmgr\n",
      "BOOTNXT\n",
      "Config.Msi\n",
      "Documents and Settings\n",
      "F74EA84AFE45\n",
      "hiberfil.sys\n",
      "inetpub\n",
      "Intel\n",
      "MSOCache\n",
      "OneDriveTemp\n",
      "pagefile.sys\n",
      "PerfLogs\n",
      "Program Files\n",
      "Program Files (x86)\n",
      "ProgramData\n",
      "Recovery\n",
      "SangforServiceClient.dmp\n",
      "SpoolPrintJob\n",
      "swapfile.sys\n",
      "System Volume Information\n",
      "Users\n",
      "Windows\n"
     ]
    }
   ],
   "source": [
    "import os\n",
    "\n",
    "dirs = os.listdir()\n",
    "for item in dirs:\n",
    "    print(item)"
   ]
  },
  {
   "cell_type": "markdown",
   "metadata": {},
   "source": [
    "- `os.mkdir(path)`创建单层目录，如果该目录已存在抛出异常。\n",
    "\n",
    "\n",
    "【例】"
   ]
  },
  {
   "cell_type": "code",
   "execution_count": 61,
   "metadata": {},
   "outputs": [
    {
     "ename": "FileNotFoundError",
     "evalue": "[WinError 3] 系统找不到指定的路径。: '.\\\\C\\\\A'",
     "output_type": "error",
     "traceback": [
      "\u001b[1;31m---------------------------------------------------------------------------\u001b[0m",
      "\u001b[1;31mFileNotFoundError\u001b[0m                         Traceback (most recent call last)",
      "\u001b[1;32m<ipython-input-61-beb75dcdca7e>\u001b[0m in \u001b[0;36m<module>\u001b[1;34m\u001b[0m\n\u001b[0;32m      5\u001b[0m     \u001b[0mos\u001b[0m\u001b[1;33m.\u001b[0m\u001b[0mmkdir\u001b[0m\u001b[1;33m(\u001b[0m\u001b[1;34mr'.\\B\\A'\u001b[0m\u001b[1;33m)\u001b[0m\u001b[1;33m\u001b[0m\u001b[1;33m\u001b[0m\u001b[0m\n\u001b[0;32m      6\u001b[0m \u001b[1;33m\u001b[0m\u001b[0m\n\u001b[1;32m----> 7\u001b[1;33m \u001b[0mos\u001b[0m\u001b[1;33m.\u001b[0m\u001b[0mmkdir\u001b[0m\u001b[1;33m(\u001b[0m\u001b[1;34mr'.\\C\\A'\u001b[0m\u001b[1;33m)\u001b[0m \u001b[1;31m# FileNotFoundError\u001b[0m\u001b[1;33m\u001b[0m\u001b[1;33m\u001b[0m\u001b[0m\n\u001b[0m",
      "\u001b[1;31mFileNotFoundError\u001b[0m: [WinError 3] 系统找不到指定的路径。: '.\\\\C\\\\A'"
     ]
    }
   ],
   "source": [
    "import os\n",
    "\n",
    "if os.path.isdir(r'.\\b') is False:\n",
    "    os.mkdir(r'.\\B')\n",
    "    os.mkdir(r'.\\B\\A')\n",
    "\n",
    "os.mkdir(r'.\\C\\A') # FileNotFoundError"
   ]
  },
  {
   "cell_type": "markdown",
   "metadata": {},
   "source": [
    "- `os.makedirs(path)`用于递归创建多层目录，如果该目录已存在抛出异常。\n",
    "\n",
    "【例】\n",
    "\n",
    "\n",
    "\n",
    "```python\n",
    "import os\n",
    "os.makedirs(r'.\\E\\A')\n",
    "```\n",
    "\n",
    "- `os.remove(path)`用于删除指定路径的文件。如果指定的路径是一个目录，将抛出 `OSError`。\n",
    "\n",
    "【例】首先创建`.\\E\\A\\text.txt`文件，然后进行删除。\n",
    "\n",
    "\n",
    "\n",
    "```python\n",
    "import os\n",
    "\n",
    "print(\"目录为: %s\" % os.listdir(r'.\\E\\A'))\n",
    "os.remove(r'.\\E\\A\\test.txt')\n",
    "print(\"目录为: %s\" % os.listdir(r'.\\E\\A'))\n",
    "```\n",
    "\n",
    "- `os.rmdir(path)`用于删除单层目录。仅当这文件夹是空的才可以, 否则, 抛出 `OSError`。\n",
    "\n",
    "【例】首先创建`.\\E\\A`目录，然后进行删除。\n",
    "\n",
    "```python\n",
    "import os\n",
    "\n",
    "print(\"目录为: %s\" % os.listdir(r'.\\E'))\n",
    "os.rmdir(r'.\\E\\A')\n",
    "print(\"目录为: %s\" % os.listdir(r'.\\E'))\n",
    "```\n",
    "\n",
    "- `os.removedirs(path)`递归删除目录，从子目录到父目录逐层尝试删除，遇到目录非空则抛出异常。\n",
    "\n",
    "【例】首先创建`.\\E\\A`目录，然后进行删除。\n",
    "\n",
    "```python\n",
    "import os\n",
    "\n",
    "print(\"目录为: %s\" % os.listdir(os.getcwd()))\n",
    "os.removedirs(r'.\\E\\A')  # 先删除A 然后删除E\n",
    "print(\"目录为: %s\" % os.listdir(os.getcwd()))\n",
    "```\n",
    "\n",
    "- `os.rename(src, dst)`方法用于命名文件或目录，从 `src` 到 `dst`，如果 `dst` 是一个存在的目录, 将抛出 `OSError`。\n",
    "\n",
    "【例】把test.txt文件重命名为test2.txt。\n",
    "\n",
    "```python\n",
    "import os\n",
    "\n",
    "print(\"目录为: %s\" % os.listdir(os.getcwd()))\n",
    "os.rename(\"test.txt\", \"test2.txt\")\n",
    "print(\"重命名成功。\")\n",
    "print(\"目录为: %s\" % os.listdir(os.getcwd()))\n",
    "```\n",
    "\n",
    "- `os.system(command)`运行系统的shell命令（将字符串转化成命令）\n",
    "\n",
    "【例】先自行创建一个a.py的文件，然后由shell命令打开。\n",
    "\n",
    "```python\n",
    "import os\n",
    "\n",
    "path = os.getcwd() + '\\\\a.py'\n",
    "a = os.system(r'python %s' % path)\n",
    "\n",
    "os.system('calc')  # 打开计算器\n",
    "```\n",
    "\n",
    "- `os.curdir`指代当前目录（`.`）\n",
    "- `os.pardir`指代上一级目录（`..`）\n",
    "- `os.sep`输出操作系统特定的路径分隔符（win下为`\\\\`，Linux下为`/`）\n",
    "- `os.linesep`当前平台使用的行终止符（win下为`\\r\\n`，Linux下为`\\n`）\n",
    "- `os.name`指代当前使用的操作系统（包括：'mac'，'nt'）\n",
    "\n",
    "【例】"
   ]
  },
  {
   "cell_type": "code",
   "execution_count": 62,
   "metadata": {},
   "outputs": [
    {
     "name": "stdout",
     "output_type": "stream",
     "text": [
      ".\n",
      "..\n",
      "\\\n",
      "\r\n",
      "\n",
      "nt\n"
     ]
    }
   ],
   "source": [
    "import os\n",
    "\n",
    "print(os.curdir)  # .\n",
    "print(os.pardir)  # ..\n",
    "print(os.sep)  # \\\n",
    "print(os.linesep)\n",
    "print(os.name)  # nt"
   ]
  },
  {
   "cell_type": "markdown",
   "metadata": {},
   "source": [
    "- `os.path.basename(path)`去掉目录路径，单独返回文件名\n",
    "- `os.path.dirname(path)`去掉文件名，单独返回目录路径\n",
    "- `os.path.join(path1[, path2[, ...]])`将 `path1`，`path2` 各部分组合成一个路径名\n",
    "- `os.path.split(path)`分割文件名与路径，返回`(f_path,f_name)`元组。如果完全使用目录，它会将最后一个目录作为文件名分离，且不会判断文件或者目录是否存在。\n",
    "- `os.path.splitext(path)`分离文件名与扩展名，返回`(f_path,f_name)`元组。\n",
    "\n",
    "【例】"
   ]
  },
  {
   "cell_type": "markdown",
   "metadata": {},
   "source": [
    "\n",
    "\n",
    "```python\n",
    "import os\n",
    "\n",
    "# 返回文件名\n",
    "print(os.path.basename(r'C:\\test\\lsgo.txt'))  # lsgo.txt\n",
    "# 返回目录路径\n",
    "print(os.path.dirname(r'C:\\test\\lsgo.txt'))  # C:\\test\n",
    "# 将目录和文件名合成一个路径\n",
    "print(os.path.join('C:\\\\', 'test', 'lsgo.txt'))  # C:\\test\\lsgo.txt\n",
    "# 分割文件名与路径\n",
    "print(os.path.split(r'C:\\test\\lsgo.txt'))  # ('C:\\\\test', 'lsgo.txt')\n",
    "# 分离文件名与扩展名\n",
    "print(os.path.splitext(r'C:\\test\\lsgo.txt'))  # ('C:\\\\test\\\\lsgo', '.txt')\n",
    "```\n",
    "\n",
    "\n",
    "\n",
    "- `os.path.getsize(file)`返回指定文件大小，单位是字节。\n",
    "- `os.path.getatime(file)`返回指定文件最近的访问时间\n",
    "- `os.path.getctime(file)`返回指定文件的创建时间\n",
    "- `os.path.getmtime(file)`返回指定文件的最新的修改时间\n",
    "- 浮点型秒数，可用time模块的`gmtime()`或`localtime()`函数换算\n",
    "\n",
    "【例】"
   ]
  },
  {
   "cell_type": "code",
   "execution_count": 67,
   "metadata": {},
   "outputs": [
    {
     "ename": "FileNotFoundError",
     "evalue": "[WinError 2] 系统找不到指定的文件。: '将进酒.txt'",
     "output_type": "error",
     "traceback": [
      "\u001b[1;31m---------------------------------------------------------------------------\u001b[0m",
      "\u001b[1;31mFileNotFoundError\u001b[0m                         Traceback (most recent call last)",
      "\u001b[1;32m<ipython-input-67-2ccf970d4117>\u001b[0m in \u001b[0;36m<module>\u001b[1;34m\u001b[0m\n\u001b[0;32m      3\u001b[0m \u001b[1;33m\u001b[0m\u001b[0m\n\u001b[0;32m      4\u001b[0m \u001b[0mfile\u001b[0m \u001b[1;33m=\u001b[0m \u001b[1;34mr'将进酒.txt'\u001b[0m\u001b[1;33m\u001b[0m\u001b[1;33m\u001b[0m\u001b[0m\n\u001b[1;32m----> 5\u001b[1;33m \u001b[0mprint\u001b[0m\u001b[1;33m(\u001b[0m\u001b[0mos\u001b[0m\u001b[1;33m.\u001b[0m\u001b[0mpath\u001b[0m\u001b[1;33m.\u001b[0m\u001b[0mgetsize\u001b[0m\u001b[1;33m(\u001b[0m\u001b[0mfile\u001b[0m\u001b[1;33m)\u001b[0m\u001b[1;33m)\u001b[0m  \u001b[1;31m# 30\u001b[0m\u001b[1;33m\u001b[0m\u001b[1;33m\u001b[0m\u001b[0m\n\u001b[0m\u001b[0;32m      6\u001b[0m \u001b[0mprint\u001b[0m\u001b[1;33m(\u001b[0m\u001b[0mos\u001b[0m\u001b[1;33m.\u001b[0m\u001b[0mpath\u001b[0m\u001b[1;33m.\u001b[0m\u001b[0mgetatime\u001b[0m\u001b[1;33m(\u001b[0m\u001b[0mfile\u001b[0m\u001b[1;33m)\u001b[0m\u001b[1;33m)\u001b[0m  \u001b[1;31m# 1565593737.347196\u001b[0m\u001b[1;33m\u001b[0m\u001b[1;33m\u001b[0m\u001b[0m\n\u001b[0;32m      7\u001b[0m \u001b[0mprint\u001b[0m\u001b[1;33m(\u001b[0m\u001b[0mos\u001b[0m\u001b[1;33m.\u001b[0m\u001b[0mpath\u001b[0m\u001b[1;33m.\u001b[0m\u001b[0mgetctime\u001b[0m\u001b[1;33m(\u001b[0m\u001b[0mfile\u001b[0m\u001b[1;33m)\u001b[0m\u001b[1;33m)\u001b[0m  \u001b[1;31m# 1565593737.347196\u001b[0m\u001b[1;33m\u001b[0m\u001b[1;33m\u001b[0m\u001b[0m\n",
      "\u001b[1;32mD:\\ProgramData\\Anaconda3\\lib\\genericpath.py\u001b[0m in \u001b[0;36mgetsize\u001b[1;34m(filename)\u001b[0m\n\u001b[0;32m     48\u001b[0m \u001b[1;32mdef\u001b[0m \u001b[0mgetsize\u001b[0m\u001b[1;33m(\u001b[0m\u001b[0mfilename\u001b[0m\u001b[1;33m)\u001b[0m\u001b[1;33m:\u001b[0m\u001b[1;33m\u001b[0m\u001b[1;33m\u001b[0m\u001b[0m\n\u001b[0;32m     49\u001b[0m     \u001b[1;34m\"\"\"Return the size of a file, reported by os.stat().\"\"\"\u001b[0m\u001b[1;33m\u001b[0m\u001b[1;33m\u001b[0m\u001b[0m\n\u001b[1;32m---> 50\u001b[1;33m     \u001b[1;32mreturn\u001b[0m \u001b[0mos\u001b[0m\u001b[1;33m.\u001b[0m\u001b[0mstat\u001b[0m\u001b[1;33m(\u001b[0m\u001b[0mfilename\u001b[0m\u001b[1;33m)\u001b[0m\u001b[1;33m.\u001b[0m\u001b[0mst_size\u001b[0m\u001b[1;33m\u001b[0m\u001b[1;33m\u001b[0m\u001b[0m\n\u001b[0m\u001b[0;32m     51\u001b[0m \u001b[1;33m\u001b[0m\u001b[0m\n\u001b[0;32m     52\u001b[0m \u001b[1;33m\u001b[0m\u001b[0m\n",
      "\u001b[1;31mFileNotFoundError\u001b[0m: [WinError 2] 系统找不到指定的文件。: '将进酒.txt'"
     ]
    }
   ],
   "source": [
    "import os\n",
    "import time\n",
    "\n",
    "file = r'将进酒.txt'\n",
    "print(os.path.getsize(file))  # 30\n",
    "print(os.path.getatime(file))  # 1565593737.347196\n",
    "print(os.path.getctime(file))  # 1565593737.347196\n",
    "print(os.path.getmtime(file))  # 1565593797.9298275\n",
    "print(time.gmtime(os.path.getctime(file)))\n",
    "# time.struct_time(tm_year=2019, tm_mon=8, tm_mday=12, tm_hour=7, tm_min=8, tm_sec=57, tm_wday=0, tm_yday=224, tm_isdst=0)\n",
    "print(time.localtime(os.path.getctime(file)))\n",
    "# time.struct_time(tm_year=2019, tm_mon=8, tm_mday=12, tm_hour=15, tm_min=8, tm_sec=57, tm_wday=0, tm_yday=224, tm_isdst=0)"
   ]
  },
  {
   "cell_type": "markdown",
   "metadata": {},
   "source": [
    "- `os.path.exists(path)`判断指定路径（目录或文件）是否存在\n",
    "- `os.path.isabs(path)`判断指定路径是否为绝对路径\n",
    "- `os.path.isdir(path)`判断指定路径是否存在且是一个目录\n",
    "- `os.path.isfile(path)`判断指定路径是否存在且是一个文件\n",
    "- `os.path.islink(path)`判断指定路径是否存在且是一个符号链接\n",
    "- `os.path.ismount(path)`判断指定路径是否存在且是一个悬挂点\n",
    "- `os.path.samefile(path1,path2)`判断path1和path2两个路径是否指向同一个文件\n",
    "\n",
    "\n",
    "【例】"
   ]
  },
  {
   "cell_type": "code",
   "execution_count": 68,
   "metadata": {},
   "outputs": [
    {
     "name": "stdout",
     "output_type": "stream",
     "text": [
      "True\n",
      "False\n"
     ]
    }
   ],
   "source": [
    "import os\n",
    "\n",
    "print(os.path.ismount('D:\\\\'))  # True\n",
    "print(os.path.ismount('D:\\\\Test'))  # False"
   ]
  },
  {
   "cell_type": "markdown",
   "metadata": {},
   "source": [
    "# 3. 序列化与反序列化\n",
    "\n",
    "Python 的 pickle 模块实现了基本的数据序列和反序列化。\n",
    "\n",
    "- 通过 pickle 模块的序列化操作我们能够将程序中运行的对象信息保存到文件中去，永久存储。\n",
    "- 通过 pickle 模块的反序列化操作，我们能够从文件中创建上一次程序保存的对象。\n",
    "\n",
    "pickle模块中最常用的函数为：\n",
    "\n",
    "`pickle.dump(obj, file, [,protocol])` 将`obj`对象序列化存入已经打开的`file`中。\n",
    "\n",
    "- `obj`：想要序列化的`obj`对象。\n",
    "- `file`:文件名称。\n",
    "- `protocol`：序列化使用的协议。如果该项省略，则默认为0。如果为负值或`HIGHEST_PROTOCOL`，则使用最高的协议版本。\n",
    "\n",
    "\n",
    "`pickle.load(file)` 将`file`中的对象序列化读出。\n",
    "\n",
    "- `file`：文件名称。\n",
    "\n",
    "\n",
    "【例】"
   ]
  },
  {
   "cell_type": "code",
   "execution_count": 69,
   "metadata": {},
   "outputs": [
    {
     "name": "stdout",
     "output_type": "stream",
     "text": [
      "[[1, 1, 'yes'], [1, 1, 'yes'], [1, 0, 'no'], [0, 1, 'no'], [0, 1, 'no']]\n",
      "{0: [1, 2, 3, 4], 1: ('a', 'b'), 2: {'c': 'yes', 'd': 'no'}}\n"
     ]
    }
   ],
   "source": [
    "import pickle\n",
    "\n",
    "dataList = [[1, 1, 'yes'],\n",
    "            [1, 1, 'yes'],\n",
    "            [1, 0, 'no'],\n",
    "            [0, 1, 'no'],\n",
    "            [0, 1, 'no']]\n",
    "dataDic = {0: [1, 2, 3, 4],\n",
    "           1: ('a', 'b'),\n",
    "           2: {'c': 'yes', 'd': 'no'}}\n",
    "\n",
    "# 使用dump()将数据序列化到文件中\n",
    "fw = open(r'.\\dataFile.pkl', 'wb')\n",
    "\n",
    "# Pickle the list using the highest protocol available.\n",
    "pickle.dump(dataList, fw, -1)\n",
    "\n",
    "# Pickle dictionary using protocol 0.\n",
    "pickle.dump(dataDic, fw)\n",
    "fw.close()\n",
    "\n",
    "# 使用load()将数据从文件中序列化读出\n",
    "fr = open('dataFile.pkl', 'rb')\n",
    "data1 = pickle.load(fr)\n",
    "print(data1)\n",
    "data2 = pickle.load(fr)\n",
    "print(data2)\n",
    "fr.close()\n",
    "\n",
    "# [[1, 1, 'yes'], [1, 1, 'yes'], [1, 0, 'no'], [0, 1, 'no'], [0, 1, 'no']]\n",
    "# {0: [1, 2, 3, 4], 1: ('a', 'b'), 2: {'c': 'yes', 'd': 'no'}}"
   ]
  },
  {
   "cell_type": "markdown",
   "metadata": {},
   "source": [
    "# <b>参考文献：</b>\n",
    "\n",
    "- https://www.runoob.com/python3/python3-tutorial.html\n",
    "- https://www.bilibili.com/video/av4050443\n",
    "- https://blog.csdn.net/u010820857/article/details/85330778\n",
    "\n",
    "- https://www.runoob.com/python3/python3-tutorial.html\n",
    "- https://www.bilibili.com/video/av4050443"
   ]
  }
 ],
 "metadata": {
  "kernelspec": {
   "display_name": "Python 3",
   "language": "python",
   "name": "python3"
  },
  "language_info": {
   "codemirror_mode": {
    "name": "ipython",
    "version": 3
   },
   "file_extension": ".py",
   "mimetype": "text/x-python",
   "name": "python",
   "nbconvert_exporter": "python",
   "pygments_lexer": "ipython3",
   "version": "3.7.6"
  }
 },
 "nbformat": 4,
 "nbformat_minor": 4
}
