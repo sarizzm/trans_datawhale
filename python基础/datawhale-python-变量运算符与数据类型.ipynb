{
 "cells": [
  {
   "cell_type": "markdown",
   "metadata": {},
   "source": [
    "### 变量、运算符与数据类型"
   ]
  },
  {
   "cell_type": "markdown",
   "metadata": {},
   "source": [
    "#### 1. 注释\n",
    "- 在 Python 中，`#` 表示注释，作用于整行。\n",
    "\n",
    "【例子】单行注释"
   ]
  },
  {
   "cell_type": "code",
   "execution_count": 1,
   "metadata": {},
   "outputs": [
    {
     "name": "stdout",
     "output_type": "stream",
     "text": [
      "Hello world\n"
     ]
    }
   ],
   "source": [
    "# 这是一个注释\n",
    "print(\"Hello world\")\n",
    "\n",
    "# Hello world"
   ]
  },
  {
   "cell_type": "markdown",
   "metadata": {},
   "source": [
    "`''' '''` 或者 `\"\"\" \"\"\"` 表示区间注释，在三引号之间的所有内容被注释\n",
    "\n",
    "【例子】多行注释"
   ]
  },
  {
   "cell_type": "code",
   "execution_count": 2,
   "metadata": {},
   "outputs": [
    {
     "name": "stdout",
     "output_type": "stream",
     "text": [
      "Hello china\n",
      "hello china\n"
     ]
    }
   ],
   "source": [
    "'''\n",
    "这是多行注释，用三个单引号\n",
    "这是多行注释，用三个单引号\n",
    "这是多行注释，用三个单引号\n",
    "'''\n",
    "print(\"Hello china\") \n",
    "# Hello china\n",
    "\n",
    "\"\"\"\n",
    "这是多行注释，用三个双引号\n",
    "这是多行注释，用三个双引号 \n",
    "这是多行注释，用三个双引号\n",
    "\"\"\"\n",
    "print(\"hello china\") \n",
    "# hello china"
   ]
  },
  {
   "cell_type": "markdown",
   "metadata": {},
   "source": [
    "## 2. 运算符\n",
    "\n",
    "\n",
    "\n",
    "<b>算术运算符</b>\n",
    "\n",
    "| 操作符 |      名称      |   示例   |\n",
    "| :----: | :------------: | :------: |\n",
    "|  `+`   |       加       | `1 + 1`  |\n",
    "|  `-`   |       减       | `2 - 1`  |\n",
    "|  `*`   |       乘       | `3 * 4`  |\n",
    "|  `/`   |       除       | `3 / 4`  |\n",
    "|  `//`  | 整除（地板除） | `3 // 4` |\n",
    "|  `%`   |      取余      | `3 % 4`  |\n",
    "|  `**`  |       幂       | `2 ** 3` |"
   ]
  },
  {
   "cell_type": "code",
   "execution_count": 3,
   "metadata": {},
   "outputs": [
    {
     "name": "stdout",
     "output_type": "stream",
     "text": [
      "2\n",
      "1\n",
      "12\n",
      "0.75\n",
      "0\n",
      "3\n",
      "8\n"
     ]
    }
   ],
   "source": [
    "print(1 + 1)  # 2\n",
    "print(2 - 1)  # 1\n",
    "print(3 * 4)  # 12\n",
    "print(3 / 4)  # 0.75\n",
    "print(3 // 4)  # 0\n",
    "print(3 % 4)  # 3\n",
    "print(2 ** 3)  # 8"
   ]
  },
  {
   "cell_type": "markdown",
   "metadata": {},
   "source": [
    "<b>比较运算符</b>\n",
    "\n",
    "| 操作符 |   名称   |   示例   |\n",
    "| :----: | :------: | :------: |\n",
    "|  `>`   |   大于   | `2 > 1`  |\n",
    "|  `>=`  | 大于等于 | `2 >= 4` |\n",
    "|  `<`   |   小于   | `1 < 2`  |\n",
    "|  `<=`  | 小于等于 | `5 <= 2` |\n",
    "|  `==`  |   等于   | `3 == 4` |\n",
    "|  `!=`  |  不等于  | `3 != 5` |\n",
    "\n",
    "【例子】"
   ]
  },
  {
   "cell_type": "code",
   "execution_count": 4,
   "metadata": {},
   "outputs": [
    {
     "name": "stdout",
     "output_type": "stream",
     "text": [
      "True\n",
      "False\n",
      "True\n",
      "False\n",
      "False\n",
      "True\n"
     ]
    }
   ],
   "source": [
    "print(2 > 1)  # True\n",
    "print(2 >= 4)  # False\n",
    "print(1 < 2)  # True\n",
    "print(5 <= 2)  # False\n",
    "print(3 == 4)  # False\n",
    "print(3 != 5)  # True"
   ]
  },
  {
   "cell_type": "markdown",
   "metadata": {},
   "source": [
    "<b>逻辑运算符</b>\n",
    "\n",
    "| 操作符 | 名称 |         示例          |\n",
    "| :----: | :--: | :-------------------: |\n",
    "| `and`  |  与  | `(3 > 2) and (3 < 5)` |\n",
    "|  `or`  |  或  | `(1 > 3) or (9 < 2)`  |\n",
    "| `not`  |  非  |     `not (2 > 1)`     |\n",
    "\n",
    "【例子】"
   ]
  },
  {
   "cell_type": "code",
   "execution_count": 5,
   "metadata": {},
   "outputs": [
    {
     "name": "stdout",
     "output_type": "stream",
     "text": [
      "True\n",
      "False\n",
      "False\n"
     ]
    }
   ],
   "source": [
    "print((3 > 2) and (3 < 5))  # True\n",
    "print((1 > 3) or (9 < 2))  # False\n",
    "print(not (2 > 1))  # False"
   ]
  },
  {
   "cell_type": "markdown",
   "metadata": {},
   "source": [
    "<b>位运算符</b>\n",
    "\n",
    "| 操作符 |   名称   |   示例   |\n",
    "| :----: | :------: | :------: |\n",
    "|  `~`   | 按位取反 |   `~4`   |\n",
    "|  `&`   |  按位与  | `4 & 5`  |\n",
    "|  `|`   |  按位或  | `4 | 5`  |\n",
    "|  `^`   | 按位异或 | `4 ^ 5`  |\n",
    "|  `<<`  |   左移   | `4 << 2` |\n",
    "|  `>>`  |   右移   | `4 >> 2` |"
   ]
  },
  {
   "cell_type": "code",
   "execution_count": 6,
   "metadata": {},
   "outputs": [
    {
     "name": "stdout",
     "output_type": "stream",
     "text": [
      "0b100\n",
      "0b101\n",
      "-0b101 -5\n",
      "0b100 4\n",
      "0b101 5\n",
      "0b1 1\n",
      "0b10000 16\n",
      "0b1 1\n"
     ]
    }
   ],
   "source": [
    "print(bin(4))  # 0b100\n",
    "print(bin(5))  # 0b101\n",
    "print(bin(~4), ~4)  # -0b101 -5\n",
    "print(bin(4 & 5), 4 & 5)  # 0b100 4\n",
    "print(bin(4 | 5), 4 | 5)  # 0b101 5\n",
    "print(bin(4 ^ 5), 4 ^ 5)  # 0b1 1\n",
    "print(bin(4 << 2), 4 << 2)  # 0b10000 16\n",
    "print(bin(4 >> 2), 4 >> 2)  # 0b1 1"
   ]
  },
  {
   "cell_type": "markdown",
   "metadata": {},
   "source": [
    "<b>三元运算符</b>\n",
    "\n",
    "【例子】"
   ]
  },
  {
   "cell_type": "code",
   "execution_count": 7,
   "metadata": {},
   "outputs": [
    {
     "name": "stdout",
     "output_type": "stream",
     "text": [
      "4\n"
     ]
    }
   ],
   "source": [
    "x, y = 4, 5\n",
    "if x < y:\n",
    "    small = x\n",
    "else:\n",
    "    small = y\n",
    "\n",
    "print(small)  # 4"
   ]
  },
  {
   "cell_type": "markdown",
   "metadata": {},
   "source": [
    "有了这个三元操作符的条件表达式，你可以使用一条语句来完成以上的条件判断和赋值操作。\n",
    "\n",
    "【例子】"
   ]
  },
  {
   "cell_type": "code",
   "execution_count": 8,
   "metadata": {},
   "outputs": [
    {
     "name": "stdout",
     "output_type": "stream",
     "text": [
      "4\n"
     ]
    }
   ],
   "source": [
    "x, y = 4, 5\n",
    "small = x if x < y else y\n",
    "print(small)  # 4"
   ]
  },
  {
   "cell_type": "markdown",
   "metadata": {},
   "source": [
    "<b>其他运算符</b>\n",
    "\n",
    "|  操作符  |  名称  |             示例             |\n",
    "| :------: | :----: | :--------------------------: |\n",
    "|   `in`   |  存在  |   `'A' in ['A', 'B', 'C']`   |\n",
    "| `not in` | 不存在 | `'h' not in ['A', 'B', 'C']` |\n",
    "|   `is`   |   是   |     `\"hello\" is \"hello\"`     |\n",
    "| `is not` |  不是  |   `\"hello\" is not \"hello\"`   |\n",
    "\n",
    "\n",
    "【例子】"
   ]
  },
  {
   "cell_type": "code",
   "execution_count": 9,
   "metadata": {},
   "outputs": [
    {
     "name": "stdout",
     "output_type": "stream",
     "text": [
      "A exists\n",
      "h not exists\n"
     ]
    }
   ],
   "source": [
    "letters = ['A', 'B', 'C']\n",
    "if 'A' in letters:\n",
    "    print('A' + ' exists')\n",
    "if 'h' not in letters:\n",
    "    print('h' + ' not exists')\n",
    "\n",
    "# A exists\n",
    "# h not exists"
   ]
  },
  {
   "cell_type": "markdown",
   "metadata": {},
   "source": [
    "【例子】比较的两个变量均指向不可变类型"
   ]
  },
  {
   "cell_type": "code",
   "execution_count": 10,
   "metadata": {},
   "outputs": [
    {
     "name": "stdout",
     "output_type": "stream",
     "text": [
      "True True\n",
      "False False\n"
     ]
    }
   ],
   "source": [
    "a = \"hello\"\n",
    "b = \"hello\"\n",
    "print(a is b, a == b)  # True True\n",
    "print(a is not b, a != b)  # False False"
   ]
  },
  {
   "cell_type": "markdown",
   "metadata": {},
   "source": [
    "【例子】比较的两个变量均指向可变类型。"
   ]
  },
  {
   "cell_type": "markdown",
   "metadata": {},
   "source": [
    "注意：\n",
    "\n",
    "- is, is not 对比的是两个变量的内存地址\n",
    "- ==, != 对比的是两个变量的值\n",
    "- 比较的两个变量，指向的都是地址不可变的类型（str等），那么is，is not 和 ==，！= 是完全等价的。\n",
    "- 对比的两个变量，指向的是地址可变的类型（list，dict，tuple等），则两者是有区别的。\n",
    "\n",
    "\n",
    "<b>运算符的优先级</b>\n",
    "\n",
    "- 一元运算符优于二元运算符。例如`3 ** -2`等价于`3 ** (-2)`。\n",
    "- 先算术运算，后移位运算，最后位运算。例如 `1 << 3 + 2 & 7`等价于 `1 << (3 + 2)) & 7`。\n",
    "- 逻辑运算最后结合。例如`3 < 4 and 4 < 5`等价于`(3 < 4) and (4 < 5)`。\n",
    "\n",
    "【例子】"
   ]
  },
  {
   "cell_type": "code",
   "execution_count": 11,
   "metadata": {},
   "outputs": [
    {
     "name": "stdout",
     "output_type": "stream",
     "text": [
      "-9\n",
      "0.1111111111111111\n",
      "0\n",
      "-12.5\n",
      "True\n"
     ]
    }
   ],
   "source": [
    "print(-3 ** 2)  # -9\n",
    "print(3 ** -2)  # 0.1111111111111111\n",
    "print(1 << 3 + 2 & 7)  # 0\n",
    "print(-3 * 2 + 5 / -2 - 4)  # -12.5\n",
    "print(3 < 4 and 4 < 5)  # True"
   ]
  },
  {
   "cell_type": "code",
   "execution_count": 12,
   "metadata": {},
   "outputs": [
    {
     "name": "stdout",
     "output_type": "stream",
     "text": [
      "老马的程序人生\n"
     ]
    }
   ],
   "source": [
    "teacher = \"老马的程序人生\"\n",
    "print(teacher)  # 老马的程序人生"
   ]
  },
  {
   "cell_type": "markdown",
   "metadata": {},
   "source": [
    "【例子】"
   ]
  },
  {
   "cell_type": "code",
   "execution_count": 13,
   "metadata": {},
   "outputs": [
    {
     "name": "stdout",
     "output_type": "stream",
     "text": [
      "5\n"
     ]
    }
   ],
   "source": [
    "first = 2\n",
    "second = 3\n",
    "third = first + second\n",
    "print(third)  # 5"
   ]
  },
  {
   "cell_type": "code",
   "execution_count": 14,
   "metadata": {},
   "outputs": [
    {
     "name": "stdout",
     "output_type": "stream",
     "text": [
      "老马的程序人生,小马的程序人生\n"
     ]
    }
   ],
   "source": [
    "myTeacher = \"老马的程序人生\"\n",
    "yourTeacher = \"小马的程序人生\"\n",
    "ourTeacher = myTeacher + ',' + yourTeacher\n",
    "print(ourTeacher)  # 老马的程序人生,小马的程序人生"
   ]
  },
  {
   "cell_type": "markdown",
   "metadata": {},
   "source": [
    "#### 4. 数据类型与转换\n",
    "\n",
    "\n",
    "| 类型  |          名称           |      示例      |\n",
    "| :---: | :---------------------: | :------------: |\n",
    "|  int  |  整型 `<class 'int'>`   |   `-876, 10`   |\n",
    "| float | 浮点型`<class 'float'>` | `3.149, 11.11` |\n",
    "| bool  | 布尔型`<class 'bool'>`  | `True, False`  |\n",
    "\n",
    "<b>整型</b>\n",
    "\n",
    "【例子】通过 `print()` 可看出 `a` 的值，以及类 (class) 是`int`。"
   ]
  },
  {
   "cell_type": "code",
   "execution_count": 15,
   "metadata": {},
   "outputs": [
    {
     "name": "stdout",
     "output_type": "stream",
     "text": [
      "1031 <class 'int'>\n"
     ]
    }
   ],
   "source": [
    "a = 1031\n",
    "print(a, type(a))\n",
    "# 1031 <class 'int'>"
   ]
  },
  {
   "cell_type": "markdown",
   "metadata": {},
   "source": [
    "Python 里面万物皆对象（object），整型也不例外，只要是对象，就有相应的属性 （attributes） 和方法（methods）。\n",
    "\n",
    "【例子】"
   ]
  },
  {
   "cell_type": "code",
   "execution_count": 16,
   "metadata": {},
   "outputs": [
    {
     "name": "stdout",
     "output_type": "stream",
     "text": [
      "['__abs__', '__add__', '__and__', '__bool__', '__ceil__', '__class__', '__delattr__', '__dir__', '__divmod__', '__doc__', '__eq__', '__float__', '__floor__', '__floordiv__', '__format__', '__ge__', '__getattribute__', '__getnewargs__', '__gt__', '__hash__', '__index__', '__init__', '__init_subclass__', '__int__', '__invert__', '__le__', '__lshift__', '__lt__', '__mod__', '__mul__', '__ne__', '__neg__', '__new__', '__or__', '__pos__', '__pow__', '__radd__', '__rand__', '__rdivmod__', '__reduce__', '__reduce_ex__', '__repr__', '__rfloordiv__', '__rlshift__', '__rmod__', '__rmul__', '__ror__', '__round__', '__rpow__', '__rrshift__', '__rshift__', '__rsub__', '__rtruediv__', '__rxor__', '__setattr__', '__sizeof__', '__str__', '__sub__', '__subclasshook__', '__truediv__', '__trunc__', '__xor__', 'bit_length', 'conjugate', 'denominator', 'from_bytes', 'imag', 'numerator', 'real', 'to_bytes']\n"
     ]
    }
   ],
   "source": [
    "b = dir(int)\n",
    "print(b)"
   ]
  },
  {
   "cell_type": "markdown",
   "metadata": {},
   "source": [
    "对它们有个大概印象就可以了，具体怎么用，需要哪些参数 （argument），还需要查文档。看个`bit_length()`的例子。\n",
    "\n",
    "【例子】找到一个整数的二进制表示，再返回其长度。"
   ]
  },
  {
   "cell_type": "code",
   "execution_count": 17,
   "metadata": {},
   "outputs": [
    {
     "name": "stdout",
     "output_type": "stream",
     "text": [
      "0b10000000111\n",
      "11\n"
     ]
    }
   ],
   "source": [
    "a = 1031\n",
    "print(bin(a))  # 0b10000000111\n",
    "print(a.bit_length())  # 11"
   ]
  },
  {
   "cell_type": "markdown",
   "metadata": {},
   "source": [
    "<b>浮点型</b>\n",
    "\n",
    "【例子】"
   ]
  },
  {
   "cell_type": "code",
   "execution_count": 18,
   "metadata": {},
   "outputs": [
    {
     "name": "stdout",
     "output_type": "stream",
     "text": [
      "1 <class 'int'>\n",
      "1.0 <class 'float'>\n",
      "2.3e-07\n",
      "2.3e-07\n"
     ]
    }
   ],
   "source": [
    "print(1, type(1))\n",
    "# 1 <class 'int'>\n",
    "\n",
    "print(1., type(1.))\n",
    "# 1.0 <class 'float'>\n",
    "\n",
    "a = 0.00000023\n",
    "b = 2.3e-7\n",
    "print(a)  # 2.3e-07\n",
    "print(b)  # 2.3e-07"
   ]
  },
  {
   "cell_type": "markdown",
   "metadata": {},
   "source": [
    "有时候我们想保留浮点型的小数点后 `n` 位。可以用 `decimal` 包里的 `Decimal` 对象和 `getcontext()` 方法来实现。\n",
    "Python 里面有很多用途广泛的包 (package)，用什么你就引进 (import) 什么。包也是对象，也可以用上面提到的`dir(decimal)` 来看其属性和方法。\n",
    "\n",
    "【例子】`getcontext()` 显示了 `Decimal` 对象的默认精度值是 28 位 (`prec=28`)。"
   ]
  },
  {
   "cell_type": "code",
   "execution_count": 19,
   "metadata": {},
   "outputs": [
    {
     "name": "stdout",
     "output_type": "stream",
     "text": [
      "Context(prec=28, rounding=ROUND_HALF_EVEN, Emin=-999999, Emax=999999, capitals=1, clamp=0, flags=[], traps=[InvalidOperation, DivisionByZero, Overflow])\n",
      "0.3333333333333333333333333333\n"
     ]
    }
   ],
   "source": [
    "import decimal\n",
    "from decimal import Decimal\n",
    "a = decimal.getcontext()\n",
    "print(a)\n",
    "\n",
    "# Context(prec=28, rounding=ROUND_HALF_EVEN, Emin=-999999, Emax=999999,\n",
    "# capitals=1, clamp=0, flags=[], \n",
    "# traps=[InvalidOperation, DivisionByZero, Overflow])\n",
    "\n",
    "\n",
    "b = Decimal(1) / Decimal(3)\n",
    "print(b)\n",
    "\n",
    "# 0.3333333333333333333333333333"
   ]
  },
  {
   "cell_type": "markdown",
   "metadata": {},
   "source": [
    "【例子】使 1/3 保留 4 位，用 `getcontext().prec` 来调整精度。"
   ]
  },
  {
   "cell_type": "code",
   "execution_count": 20,
   "metadata": {},
   "outputs": [
    {
     "name": "stdout",
     "output_type": "stream",
     "text": [
      "0.3333\n"
     ]
    }
   ],
   "source": [
    "decimal.getcontext().prec = 4\n",
    "c = Decimal(1) / Decimal(3)\n",
    "print(c)\n",
    "\n",
    "# 0.3333"
   ]
  },
  {
   "cell_type": "markdown",
   "metadata": {},
   "source": [
    "<b>布尔型</b>\n",
    "\n",
    "布尔 (boolean) 型变量只能取两个值，`True` 和 `False`。当把布尔型变量用在数字运算中，用 `1` 和 `0` 代表 `True` 和 `False`。\n",
    "\n",
    "【例子】"
   ]
  },
  {
   "cell_type": "code",
   "execution_count": 21,
   "metadata": {},
   "outputs": [
    {
     "name": "stdout",
     "output_type": "stream",
     "text": [
      "2\n",
      "1\n",
      "0\n"
     ]
    }
   ],
   "source": [
    "print(True + True)  # 2\n",
    "print(True + False)  # 1\n",
    "print(True * False)  # 0"
   ]
  },
  {
   "cell_type": "markdown",
   "metadata": {},
   "source": [
    "除了直接给变量赋值 `True` 和 `False`，还可以用 `bool(X)` 来创建变量，其中 `X` 可以是\n",
    "\n",
    "- 基本类型：整型、浮点型、布尔型\n",
    "- 容器类型：字符串、元组、列表、字典和集合\n",
    "\n",
    "【例子】`bool` 作用在基本类型变量：`X` 只要不是整型 `0`、浮点型 `0.0`，`bool(X)` 就是 `True`，其余就是 `False`。\n",
    "\n",
    "\n",
    "\n"
   ]
  },
  {
   "cell_type": "code",
   "execution_count": 25,
   "metadata": {},
   "outputs": [
    {
     "name": "stdout",
     "output_type": "stream",
     "text": [
      "<class 'int'> False True\n",
      "<class 'float'> False True\n",
      "<class 'bool'> False True\n",
      "<class 'float'> True True True\n"
     ]
    }
   ],
   "source": [
    "\n",
    "print(type(0), bool(0), bool(1))\n",
    "# <class 'int'> False True\n",
    "\n",
    "print(type(10.31), bool(0.00), bool(10.31))\n",
    "# <class 'float'> False True\n",
    "\n",
    "print(type(True), bool(False), bool(True))\n",
    "# <class 'bool'> False True\n",
    "print(type(0.5), bool(-1), bool(-1.5), bool(-0.5))"
   ]
  },
  {
   "cell_type": "markdown",
   "metadata": {},
   "source": [
    "【例子】`bool` 作用在容器类型变量：`X` 只要不是空的变量，`bool(X)` 就是 `True`，其余就是 `False`。"
   ]
  },
  {
   "cell_type": "code",
   "execution_count": 26,
   "metadata": {},
   "outputs": [
    {
     "name": "stdout",
     "output_type": "stream",
     "text": [
      "<class 'str'> False True\n",
      "<class 'tuple'> False True\n",
      "<class 'list'> False True\n",
      "<class 'dict'> False True\n",
      "<class 'set'> False True\n"
     ]
    }
   ],
   "source": [
    "print(type(''), bool(''), bool('python'))\n",
    "# <class 'str'> False True\n",
    "\n",
    "print(type(()), bool(()), bool((10,)))\n",
    "# <class 'tuple'> False True\n",
    "\n",
    "print(type([]), bool([]), bool([1, 2]))\n",
    "# <class 'list'> False True\n",
    "\n",
    "print(type({}), bool({}), bool({'a': 1, 'b': 2}))\n",
    "# <class 'dict'> False True\n",
    "\n",
    "print(type(set()), bool(set()), bool({1, 2}))\n",
    "# <class 'set'> False True"
   ]
  },
  {
   "cell_type": "markdown",
   "metadata": {},
   "source": [
    "确定`bool(X)` 的值是 `True` 还是 `False`，就看 `X` 是不是空，空的话就是 `False`，不空的话就是 `True`。\n",
    "\n",
    "- 对于数值变量，`0`, `0.0` 都可认为是空的。\n",
    "- 对于容器变量，里面没元素就是空的。\n",
    "\n",
    "\n",
    "<b>获取类型信息</b>\n",
    "\n",
    "- 获取类型信息 `type(object)`\n",
    "\n",
    "【例子】"
   ]
  },
  {
   "cell_type": "code",
   "execution_count": 27,
   "metadata": {},
   "outputs": [
    {
     "name": "stdout",
     "output_type": "stream",
     "text": [
      "<class 'int'>\n",
      "<class 'float'>\n",
      "<class 'bool'>\n",
      "<class 'str'>\n"
     ]
    }
   ],
   "source": [
    "print(type(1))  # <class 'int'>\n",
    "print(type(5.2))  # <class 'float'>\n",
    "print(type(True))  # <class 'bool'>\n",
    "print(type('5.2'))  # <class 'str'>"
   ]
  },
  {
   "cell_type": "markdown",
   "metadata": {},
   "source": [
    "- 获取类型信息 `isinstance(object, classinfo)`\n",
    "\n",
    "【例子】"
   ]
  },
  {
   "cell_type": "code",
   "execution_count": 29,
   "metadata": {},
   "outputs": [
    {
     "name": "stdout",
     "output_type": "stream",
     "text": [
      "True\n",
      "True\n",
      "True\n",
      "True\n"
     ]
    }
   ],
   "source": [
    "print(isinstance(1, int))  # True\n",
    "print(isinstance(5.2, float))  # True\n",
    "print(isinstance(True, bool))  # True\n",
    "print(isinstance('5.2', str))  # True"
   ]
  },
  {
   "cell_type": "markdown",
   "metadata": {},
   "source": [
    "注：\n",
    "\n",
    "- `type()` 不会认为子类是一种父类类型，不考虑继承关系。\n",
    "- `isinstance()` 会认为子类是一种父类类型，考虑继承关系。\n",
    "\n",
    "如果要判断两个类型是否相同推荐使用 `isinstance()`。\n",
    "\n",
    "\n",
    "**类型转换**\n",
    "\n",
    "- 转换为整型 `int(x, base=10)`\n",
    "- 转换为字符串 `str(object='')`\n",
    "- 转换为浮点型 `float(x)`\n",
    "\n",
    "【例子】"
   ]
  },
  {
   "cell_type": "code",
   "execution_count": 30,
   "metadata": {},
   "outputs": [
    {
     "name": "stdout",
     "output_type": "stream",
     "text": [
      "520\n",
      "520\n",
      "520.52\n",
      "520.0\n",
      "20\n",
      "15.3\n"
     ]
    }
   ],
   "source": [
    "print(int('520'))  # 520\n",
    "print(int(520.52))  # 520\n",
    "print(float('520.52'))  # 520.52\n",
    "print(float(520))  # 520.0\n",
    "print(str(10 + 10))  # 20\n",
    "print(str(10.1 + 5.2))  # 15.3"
   ]
  },
  {
   "cell_type": "markdown",
   "metadata": {},
   "source": [
    "#### 5. print() 函数"
   ]
  },
  {
   "cell_type": "markdown",
   "metadata": {},
   "source": [
    "print(*objects, sep=' ', end='\\n', file=sys.stdout, flush=False)\n",
    "\n",
    "\n",
    "- 将对象以字符串表示的方式格式化输出到流文件对象file里。其中所有非关键字参数都按`str()`方式进行转换为字符串输出；\n",
    "- 关键字参数`sep`是实现分隔符，比如多个参数输出时想要输出中间的分隔字符；\n",
    "- 关键字参数`end`是输出结束时的字符，默认是换行符`\\n`；\n",
    "- 关键字参数`file`是定义流输出的文件，可以是标准的系统输出`sys.stdout`，也可以重定义为别的文件；\n",
    "- 关键字参数`flush`是立即把内容输出到流文件，不作缓存。\n",
    "\n",
    "【例子】没有参数时，每次输出后都会换行。"
   ]
  },
  {
   "cell_type": "code",
   "execution_count": 32,
   "metadata": {},
   "outputs": [
    {
     "name": "stdout",
     "output_type": "stream",
     "text": [
      "This is printed without 'end'and 'sep'.\n",
      "apple\n",
      "mango\n",
      "carrot\n",
      "banana\n"
     ]
    }
   ],
   "source": [
    "shoplist = ['apple', 'mango', 'carrot', 'banana']\n",
    "print(\"This is printed without 'end'and 'sep'.\")\n",
    "for item in shoplist:\n",
    "    print(item)\n",
    "\n",
    "# This is printed without 'end'and 'sep'.\n",
    "# apple\n",
    "# mango\n",
    "# carrot\n",
    "# banana"
   ]
  },
  {
   "cell_type": "markdown",
   "metadata": {},
   "source": [
    "【例子】每次输出结束都用`end`设置的参数`&`结尾，并没有默认换行。"
   ]
  },
  {
   "cell_type": "code",
   "execution_count": 33,
   "metadata": {},
   "outputs": [
    {
     "name": "stdout",
     "output_type": "stream",
     "text": [
      "This is printed with 'end='&''.\n",
      "apple&mango&carrot&banana&hello world\n"
     ]
    }
   ],
   "source": [
    "shoplist = ['apple', 'mango', 'carrot', 'banana']\n",
    "print(\"This is printed with 'end='&''.\")\n",
    "for item in shoplist:\n",
    "    print(item, end='&')\n",
    "print('hello world')\n",
    "\n",
    "# This is printed with 'end='&''.\n",
    "# apple&mango&carrot&banana&hello world"
   ]
  },
  {
   "cell_type": "markdown",
   "metadata": {},
   "source": [
    "【例子】`item`值与`'another string'`两个值之间用`sep`设置的参数`&`分割。由于`end`参数没有设置，因此默认是输出解释后换行，即`end`参数的默认值为`\\n`。"
   ]
  },
  {
   "cell_type": "code",
   "execution_count": 34,
   "metadata": {},
   "outputs": [
    {
     "name": "stdout",
     "output_type": "stream",
     "text": [
      "This is printed with 'sep='&''.\n",
      "apple&another string\n",
      "mango&another string\n",
      "carrot&another string\n",
      "banana&another string\n"
     ]
    }
   ],
   "source": [
    "shoplist = ['apple', 'mango', 'carrot', 'banana']\n",
    "print(\"This is printed with 'sep='&''.\")\n",
    "for item in shoplist:\n",
    "    print(item, 'another string', sep='&')\n",
    "\n",
    "# This is printed with 'sep='&''.\n",
    "# apple&another string\n",
    "# mango&another string\n",
    "# carrot&another string\n",
    "# banana&another string"
   ]
  },
  {
   "cell_type": "markdown",
   "metadata": {},
   "source": [
    "**参考文献**：\n",
    "\n",
    "- https://www.runoob.com/python3/python3-tutorial.html\n",
    "- https://www.bilibili.com/video/av4050443\n",
    "- https://mp.weixin.qq.com/s/DZ589xEbOQ2QLtiq8mP1qQ\n",
    "- https://www.cnblogs.com/OliverQin/p/7781019.html\n",
    "\n"
   ]
  },
  {
   "cell_type": "markdown",
   "metadata": {},
   "source": [
    "## **练习题**：\n",
    "\n",
    "### 1. 怎样对python中的代码进行注释？\n",
    "\n",
    "- `#` 表示注释，作用于整行。\n",
    "- `''' '''` 或者 `\"\"\" \"\"\"` 表示区间注释，在三引号之间的所有内容被注释\n",
    "\n",
    "### 2. python有哪些运算符，这些运算符的优先级是怎样的？\n",
    "\n",
    "<b>算术运算符</b>\n",
    "\n",
    "| 操作符 |      名称      |   示例   |\n",
    "| :----: | :------------: | :------: |\n",
    "|  `+`   |       加       | `1 + 1`  |\n",
    "|  `-`   |       减       | `2 - 1`  |\n",
    "|  `*`   |       乘       | `3 * 4`  |\n",
    "|  `/`   |       除       | `3 / 4`  |\n",
    "|  `//`  | 整除（地板除） | `3 // 4` |\n",
    "|  `%`   |      取余      | `3 % 4`  |\n",
    "|  `**`  |       幂       | `2 ** 3` |\n",
    "\n",
    "<b>比较运算符</b>\n",
    "\n",
    "| 操作符 |   名称   |   示例   |\n",
    "| :----: | :------: | :------: |\n",
    "|  `>`   |   大于   | `2 > 1`  |\n",
    "|  `>=`  | 大于等于 | `2 >= 4` |\n",
    "|  `<`   |   小于   | `1 < 2`  |\n",
    "|  `<=`  | 小于等于 | `5 <= 2` |\n",
    "|  `==`  |   等于   | `3 == 4` |\n",
    "|  `!=`  |  不等于  | `3 != 5` |\n",
    "\n",
    "<b>逻辑运算符</b>\n",
    "\n",
    "| 操作符 | 名称 |         示例          |\n",
    "| :----: | :--: | :-------------------: |\n",
    "| `and`  |  与  | `(3 > 2) and (3 < 5)` |\n",
    "|  `or`  |  或  | `(1 > 3) or (9 < 2)`  |\n",
    "| `not`  |  非  |     `not (2 > 1)`     |\n",
    "\n",
    "\n",
    "<b>位运算符</b>\n",
    "\n",
    "| 操作符 |   名称   |   示例   |\n",
    "| :----: | :------: | :------: |\n",
    "|  `~`   | 按位取反 |   `~4`   |\n",
    "|  `&`   |  按位与  | `4 & 5`  |\n",
    "|  `|`   |  按位或  | `4 | 5`  |\n",
    "|  `^`   | 按位异或 | `4 ^ 5`  |\n",
    "|  `<<`  |   左移   | `4 << 2` |\n",
    "|  `>>`  |   右移   | `4 >> 2` |\n",
    "\n",
    "<b>其他运算符</b>\n",
    "\n",
    "|  操作符  |  名称  |             示例             |\n",
    "| :------: | :----: | :--------------------------: |\n",
    "|   `in`   |  存在  |   `'A' in ['A', 'B', 'C']`   |\n",
    "| `not in` | 不存在 | `'h' not in ['A', 'B', 'C']` |\n",
    "|   `is`   |   是   |     `\"hello\" is \"hello\"`     |\n",
    "| `is not` |  不是  |   `\"hello\" is not \"hello\"`   |\n",
    "\n",
    "\n",
    "<b>运算符的优先级</b>\n",
    "\n",
    "- 一元运算符优于二元运算符。例如`3 ** -2`等价于`3 ** (-2)`。\n",
    "- 先算术运算，后移位运算，最后位运算。例如 `1 << 3 + 2 & 7`等价于 `1 << (3 + 2)) & 7`。\n",
    "- 逻辑运算最后结合。例如`3 < 4 and 4 < 5`等价于`(3 < 4) and (4 < 5)`。\n",
    "\n",
    "### 3. python 中 `is`, `is not` 与 `==`, `!=` 的区别是什么？\n",
    "\n",
    "- is, is not 对比的是两个变量的内存地址\n",
    "- ==, != 对比的是两个变量的值\n",
    "- 比较的两个变量，指向的都是地址不可变的类型（str等），那么is，is not 和 ==，！= 是完全等价的。\n",
    "- 对比的两个变量，指向的是地址可变的类型（list，dict，tuple等），则两者是有区别的。\n",
    "\n",
    "\n",
    "### 4. python 中包含哪些数据类型？这些数据类型之间如何转换？\n",
    "\n",
    "| 类型  |          名称           |      示例      |\n",
    "| :---: | :---------------------: | :------------: |\n",
    "|  int  |  整型 `<class 'int'>`   |   `-876, 10`   |\n",
    "| float | 浮点型`<class 'float'>` | `3.149, 11.11` |\n",
    "| bool  | 布尔型`<class 'bool'>`  | `True, False`  |\n",
    "\n",
    "**类型转换**\n",
    "\n",
    "- 转换为整型 `int(x, base=10)`\n",
    "- 转换为字符串 `str(object='')`\n",
    "- 转换为浮点型 `float(x)`\n"
   ]
  },
  {
   "cell_type": "code",
   "execution_count": null,
   "metadata": {},
   "outputs": [],
   "source": []
  }
 ],
 "metadata": {
  "kernelspec": {
   "display_name": "Python 3",
   "language": "python",
   "name": "python3"
  },
  "language_info": {
   "codemirror_mode": {
    "name": "ipython",
    "version": 3
   },
   "file_extension": ".py",
   "mimetype": "text/x-python",
   "name": "python",
   "nbconvert_exporter": "python",
   "pygments_lexer": "ipython3",
   "version": "3.7.6"
  }
 },
 "nbformat": 4,
 "nbformat_minor": 4
}
