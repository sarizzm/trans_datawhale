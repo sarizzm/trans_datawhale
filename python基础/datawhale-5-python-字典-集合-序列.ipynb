{
 "cells": [
  {
   "cell_type": "markdown",
   "metadata": {},
   "source": [
    "# **练习题**：\n",
    "\n",
    "1、字典基本操作\n",
    "\n",
    "字典内容如下:\n",
    "\n",
    "```python\n",
    "dic = {\n",
    "    'python': 95,\n",
    "    'java': 99,\n",
    "    'c': 100\n",
    "    }\n",
    "```\n",
    "\n",
    "用程序解答下面的题目\n",
    "\n",
    "- 字典的长度是多少\n",
    "- 请修改'java' 这个key对应的value值为98\n",
    "- 删除 c 这个key\n",
    "- 增加一个key-value对，key值为 php, value是90\n",
    "- 获取所有的key值，存储在列表里\n",
    "- 获取所有的value值，存储在列表里\n",
    "- 判断 javascript 是否在字典中\n",
    "- 获得字典里所有value 的和\n",
    "- 获取字典里最大的value\n",
    "- 获取字典里最小的value\n",
    "- 字典 dic1 = {'php': 97}， 将dic1的数据更新到dic中\n",
    "\n",
    "2、字典中的value\n",
    "\n",
    "有一个字典，保存的是学生各个编程语言的成绩，内容如下\n",
    "\n",
    "```\n",
    "data = {\n",
    "        'python': {'上学期': '90', '下学期': '95'},\n",
    "        'c++': ['95', '96', '97'],\n",
    "        'java': [{'月考':'90', '期中考试': '94', '期末考试': '98'}]\n",
    "        }\n",
    "```\n",
    "\n",
    "各门课程的考试成绩存储方式并不相同，有的用字典，有的用列表，但是分数都是字符串类型，请实现函数`transfer_score(score_dict)`，将分数修改成int类型\n",
    "\n",
    "```python\n",
    "   \n",
    "def transfer_score(data):\n",
    "    # your code here\n",
    "\n",
    "\n",
    "```\n",
    "\n",
    "   "
   ]
  },
  {
   "cell_type": "code",
   "execution_count": 63,
   "metadata": {},
   "outputs": [
    {
     "name": "stdout",
     "output_type": "stream",
     "text": [
      "字典的长度是: 3\n",
      "修改java 这个key对应的value值为98 98\n",
      "{'python': 95, 'java': 98}\n",
      "增加一个key-value对，key值为 php, value是90 {'python': 95, 'java': 98, 'php': 90}\n",
      "获取所有的key值，存储在列表里 ['python', 'java', 'php']\n",
      "获取所有的value值，存储在列表里 [95, 98, 90]\n",
      "not in\n",
      "283\n",
      "获取字典里最大的value 98\n",
      "获取字典里最小的value 90\n",
      "{'python': 95, 'java': 98, 'php': 97}\n"
     ]
    }
   ],
   "source": [
    "dic = {\n",
    "    'python': 95,\n",
    "    'java': 99,\n",
    "    'c': 100\n",
    "    }\n",
    "print('字典的长度是:',len(dic))\n",
    "dic['java'] = 98\n",
    "print('修改java 这个key对应的value值为98',dic['java'])\n",
    "del dic['c'] # 删除 c 这个key\n",
    "print(dic)\n",
    "\n",
    "dic['php'] = 90\n",
    "print('增加一个key-value对，key值为 php, value是90',dic)\n",
    "\n",
    "print('获取所有的key值，存储在列表里',list(dic.keys()))\n",
    "\n",
    "print('获取所有的value值，存储在列表里',list(dic.values()))\n",
    "# 判断 javascript 是否在字典中\n",
    "if 'javascript' in dic:\n",
    "    print('in dic ')\n",
    "else: print('not in')\n",
    "    \n",
    "#获得字典里所有value 的和\n",
    "values = [int(x) for x in dic.values()]\n",
    "value_sum = sum(values)\n",
    "print(value_sum)\n",
    "\n",
    "print('获取字典里最大的value',max(values))\n",
    "\n",
    "print('获取字典里最小的value',min(values))\n",
    "\n",
    "#字典 dic1 = {'php': 97}， 将dic1的数据更新到dic中\n",
    "dic1 = {'php': 97}\n",
    "dic.update(dic1)\n",
    "print(dic)\n",
    "\n",
    "\n"
   ]
  },
  {
   "cell_type": "code",
   "execution_count": 73,
   "metadata": {},
   "outputs": [
    {
     "name": "stdout",
     "output_type": "stream",
     "text": [
      "{'python': {'上学期': 90, '下学期': 95}, 'c++': [95, 96, 97], 'java': [{'月考': 90, '期中考试': 94, '期末考试': 98}]}\n"
     ]
    }
   ],
   "source": [
    "#有一个字典，保存的是学生各个编程语言的成绩，内容如下\n",
    "#各门课程的考试成绩存储方式并不相同，有的用字典，有的用列表，但是分数都是字符串类型，请实现函数transfer_score(score_dict)，将分数修改成int类型\n",
    "\n",
    "data = {\n",
    "        'python': {'上学期': '90', '下学期': '95'},\n",
    "        'c++': ['95', '96', '97'],\n",
    "        'java': [{'月考':'90', '期中考试': '94', '期末考试': '98'}]\n",
    "        }\n",
    "def transfer_score(data):\n",
    "    for i,value in data.items():\n",
    "        if type(value)== list:\n",
    "#             print(1)\n",
    "            if type(value[0]) == str:\n",
    "                value = [int(x) for x in value]\n",
    "                data[i] = value\n",
    "            if type(value[0]) == dict:\n",
    "                for k,v in value[0].items():\n",
    "                    value[0][k] = int(v)\n",
    "                data[i] = value\n",
    "        if type(value) == dict:\n",
    "            for k , v in value.items():\n",
    "                value[k] = int(v)\n",
    "            data[i] = value\n",
    "    return data\n",
    "print(transfer_score(data))\n",
    "\n",
    "        \n",
    "    \n",
    "    # your code here\n"
   ]
  },
  {
   "cell_type": "markdown",
   "metadata": {},
   "source": [
    "# 集合-**练习题**：\n",
    "\n",
    "1. 怎么表示只包含⼀个数字1的元组。\n",
    "2. 创建一个空集合，增加 {‘x’,‘y’,‘z’} 三个元素。\n",
    "3. 列表['A', 'B', 'A', 'B']去重。\n",
    "4. 求两个集合{6, 7, 8}，{7, 8, 9}中不重复的元素（差集指的是两个集合交集外的部分）。\n",
    "5. 求{'A', 'B', 'C'}中元素在 {'B', 'C', 'D'}中出现的次数。"
   ]
  },
  {
   "cell_type": "code",
   "execution_count": 78,
   "metadata": {},
   "outputs": [
    {
     "name": "stdout",
     "output_type": "stream",
     "text": [
      "怎么表示只包含⼀个数字1的元组 (1,)\n",
      "se {'z', 'x', 'y'}\n",
      "列表['A', 'B', 'A', 'B']去重 ['A', 'B']\n",
      "求两个集合{6, 7, 8}，{7, 8, 9}中不重复的元素 {9, 6}\n",
      "求{'A', 'B', 'C'}中元素在 {'B', 'C', 'D'}中出现的次数 2\n"
     ]
    }
   ],
   "source": [
    "print('怎么表示只包含⼀个数字1的元组',(1,))\n",
    "se = set()\n",
    "se.update({'x','y','z'})\n",
    "print('se',se)\n",
    "print(\"列表['A', 'B', 'A', 'B']去重\",list(set(['A', 'B', 'A', 'B'])))\n",
    "\n",
    "print('求两个集合{6, 7, 8}，{7, 8, 9}中不重复的元素',({6, 7, 8}^{7, 8, 9}))\n",
    "\n",
    "print(\"求{'A', 'B', 'C'}中元素在 {'B', 'C', 'D'}中出现的次数\",len({'A', 'B', 'C'}&{'B', 'C', 'D'}))\n"
   ]
  },
  {
   "cell_type": "markdown",
   "metadata": {},
   "source": [
    "# 序列-**练习题**：\n",
    "\n",
    "1. 怎么找出序列中的最⼤、⼩值？\n",
    "- `min(sub)`返回序列或参数集合中的最小值\n",
    "- `max(sub)`返回序列或者参数集合中的最大值\n",
    "\n",
    "2. sort() 和 sorted() 区别\n",
    "\n",
    "sort 与 sorted 区别：\n",
    "\n",
    "sort 是应用在 list 上的方法，sorted 可以对所有可迭代的对象进行排序操作。\n",
    "\n",
    "list 的 sort 方法返回的是对已经存在的列表进行操作，而内建函数 sorted 方法返回的是一个新的 list，而不是在原来的基础上进行的操作\n",
    "\n",
    "`sorted(iterable, key=None, reverse=False) ` 对所有可迭代的对象进行排序操作。\n",
    "\n",
    "- `iterable` -- 可迭代对象。\n",
    "- `key` -- 主要是用来进行比较的元素，只有一个参数，具体的函数的参数就是取自于可迭代对象中，指定可迭代对象中的一个元素来进行排序。\n",
    "- `reverse` -- 排序规则，`reverse = True` 降序 ， `reverse = False` 升序（默认）。\n",
    "- 返回重新排序的列表。\n",
    "\n",
    "3. 怎么快速求 1 到 100 所有整数相加之和？\n",
    "4. 求列表 [2,3,4,5] 中每个元素的立方根。\n",
    "5. 将[‘x’,‘y’,‘z’] 和 [1,2,3] 转成 [(‘x’,1),(‘y’,2),(‘z’,3)] 的形式。"
   ]
  },
  {
   "cell_type": "code",
   "execution_count": 84,
   "metadata": {},
   "outputs": [
    {
     "name": "stdout",
     "output_type": "stream",
     "text": [
      "5050\n",
      "8\n",
      "27\n",
      "64\n",
      "125\n",
      "[('x', 1), ('y', 2), ('z', 3)]\n"
     ]
    }
   ],
   "source": [
    "#怎么快速求 1 到 100 所有整数相加之和\n",
    "print(sum(range(101)))\n",
    "#求列表 [2,3,4,5] 中每个元素的立方根。\n",
    "for i in [2,3,4,5]:\n",
    "    print(i**3)\n",
    "#将[‘x’,‘y’,‘z’] 和 [1,2,3] 转成 [(‘x’,1),(‘y’,2),(‘z’,3)] 的形式。\n",
    "print(list(zip(['x','y','z'] ,[1,2,3])))\n",
    "\n",
    "\n"
   ]
  },
  {
   "cell_type": "markdown",
   "metadata": {},
   "source": [
    "# 字典\n",
    "\n",
    "## 1. 可变类型与不可变类型\n",
    "\n",
    "- 序列是以连续的整数为索引，与此不同的是，字典以\"关键字\"为索引，关键字可以是任意不可变类型，通常用字符串或数值。\n",
    "- 字典是 Python 唯一的一个 <u>映射类型</u>，字符串、元组、列表属于<u>序列类型</u>。\n",
    "\n",
    "那么如何快速判断一个数据类型 `X` 是不是可变类型的呢？两种方法：\n",
    "\n",
    "- 麻烦方法：用 `id(X)` 函数，对 X 进行某种操作，比较操作前后的 `id`，如果不一样，则 `X` 不可变，如果一样，则 `X` 可变。\n",
    "- 便捷方法：用 `hash(X)`，只要不报错，证明 `X` 可被哈希，即不可变，反过来不可被哈希，即可变。"
   ]
  },
  {
   "cell_type": "code",
   "execution_count": 1,
   "metadata": {},
   "outputs": [
    {
     "name": "stdout",
     "output_type": "stream",
     "text": [
      "140725485347216\n",
      "140725485347280\n",
      "1884287727816\n",
      "1884287727816\n"
     ]
    }
   ],
   "source": [
    "i = 1\n",
    "print(id(i))  # 140732167000896\n",
    "i = i + 2\n",
    "print(id(i))  # 140732167000960\n",
    "\n",
    "l = [1, 2]\n",
    "print(id(l))  # 4300825160\n",
    "l.append('Python')\n",
    "print(id(l))  # 4300825160"
   ]
  },
  {
   "cell_type": "markdown",
   "metadata": {},
   "source": [
    "- 整数 `i` 在加 1 之后的 `id` 和之前不一样，因此加完之后的这个 `i` (虽然名字没变)，但不是加之前的那个 `i` 了，因此整数是不可变类型。\n",
    "- 列表 `l` 在附加 `'Python'` 之后的 `id` 和之前一样，因此列表是可变类型。"
   ]
  },
  {
   "cell_type": "code",
   "execution_count": 2,
   "metadata": {},
   "outputs": [
    {
     "name": "stdout",
     "output_type": "stream",
     "text": [
      "-4592361207522270550\n",
      "-1848354694171075245\n"
     ]
    },
    {
     "ename": "TypeError",
     "evalue": "unhashable type: 'list'",
     "output_type": "error",
     "traceback": [
      "\u001b[1;31m---------------------------------------------------------------------------\u001b[0m",
      "\u001b[1;31mTypeError\u001b[0m                                 Traceback (most recent call last)",
      "\u001b[1;32m<ipython-input-2-74ebb8223a13>\u001b[0m in \u001b[0;36m<module>\u001b[1;34m\u001b[0m\n\u001b[0;32m      3\u001b[0m \u001b[0mprint\u001b[0m\u001b[1;33m(\u001b[0m\u001b[0mhash\u001b[0m\u001b[1;33m(\u001b[0m\u001b[1;33m(\u001b[0m\u001b[1;36m1\u001b[0m\u001b[1;33m,\u001b[0m \u001b[1;36m2\u001b[0m\u001b[1;33m,\u001b[0m \u001b[1;34m'Python'\u001b[0m\u001b[1;33m)\u001b[0m\u001b[1;33m)\u001b[0m\u001b[1;33m)\u001b[0m  \u001b[1;31m# 823362308207799471\u001b[0m\u001b[1;33m\u001b[0m\u001b[1;33m\u001b[0m\u001b[0m\n\u001b[0;32m      4\u001b[0m \u001b[1;33m\u001b[0m\u001b[0m\n\u001b[1;32m----> 5\u001b[1;33m \u001b[0mprint\u001b[0m\u001b[1;33m(\u001b[0m\u001b[0mhash\u001b[0m\u001b[1;33m(\u001b[0m\u001b[1;33m[\u001b[0m\u001b[1;36m1\u001b[0m\u001b[1;33m,\u001b[0m \u001b[1;36m2\u001b[0m\u001b[1;33m,\u001b[0m \u001b[1;34m'Python'\u001b[0m\u001b[1;33m]\u001b[0m\u001b[1;33m)\u001b[0m\u001b[1;33m)\u001b[0m\u001b[1;33m\u001b[0m\u001b[1;33m\u001b[0m\u001b[0m\n\u001b[0m\u001b[0;32m      6\u001b[0m \u001b[1;31m# TypeError: unhashable type: 'list'\u001b[0m\u001b[1;33m\u001b[0m\u001b[1;33m\u001b[0m\u001b[1;33m\u001b[0m\u001b[0m\n\u001b[0;32m      7\u001b[0m \u001b[1;33m\u001b[0m\u001b[0m\n",
      "\u001b[1;31mTypeError\u001b[0m: unhashable type: 'list'"
     ]
    }
   ],
   "source": [
    "print(hash('Name'))  # -9215951442099718823\n",
    "\n",
    "print(hash((1, 2, 'Python')))  # 823362308207799471\n",
    "\n",
    "print(hash([1, 2, 'Python']))\n",
    "# TypeError: unhashable type: 'list'\n",
    "\n",
    "print(hash({1, 2, 3}))\n",
    "# TypeError: unhashable type: 'set'"
   ]
  },
  {
   "cell_type": "markdown",
   "metadata": {},
   "source": [
    "- 数值、字符和元组 都能被哈希，因此它们是不可变类型。\n",
    "- 列表、集合、字典不能被哈希，因此它是可变类型。"
   ]
  },
  {
   "cell_type": "markdown",
   "metadata": {},
   "source": [
    "## 2. 字典的定义\n",
    "\n",
    "字典 是无序的 键:值（`key:value`）对集合，键必须是互不相同的（在同一个字典之内）。\n",
    "\n",
    "- `dict` 内部存放的顺序和 `key` 放入的顺序是没有关系的。\n",
    "- `dict` 查找和插入的速度极快，不会随着 `key` 的增加而增加，但是需要占用大量的内存。\n",
    "\n",
    "\n",
    "字典 定义语法为 `{元素1, 元素2, ..., 元素n}`\n",
    "\n",
    "- 其中每一个元素是一个「键值对」-- 键:值 (`key:value`)\n",
    "- 关键点是「大括号 {}」,「逗号 ,」和「冒号 :」\n",
    "- 大括号 -- 把所有元素绑在一起\n",
    "- 逗号 -- 将每个键值对分开\n",
    "- 冒号 -- 将键和值分开\n",
    "\n",
    "\n",
    "## 3. 创建和访问字典\n",
    "\n",
    "【例子】"
   ]
  },
  {
   "cell_type": "code",
   "execution_count": 3,
   "metadata": {},
   "outputs": [
    {
     "name": "stdout",
     "output_type": "stream",
     "text": [
      "耐克的口号是: Just do it\n",
      "耐克的口号是: Just do it\n"
     ]
    }
   ],
   "source": [
    "brand = ['李宁', '耐克', '阿迪达斯']\n",
    "slogan = ['一切皆有可能', 'Just do it', 'Impossible is nothing']\n",
    "print('耐克的口号是:', slogan[brand.index('耐克')])  \n",
    "# 耐克的口号是: Just do it\n",
    "\n",
    "dic = {'李宁': '一切皆有可能', '耐克': 'Just do it', '阿迪达斯': 'Impossible is nothing'}\n",
    "print('耐克的口号是:', dic['耐克'])  \n",
    "# 耐克的口号是: Just do it"
   ]
  },
  {
   "cell_type": "markdown",
   "metadata": {},
   "source": [
    "通过字符串或数值作为`key`来创建字典。\n",
    "\n",
    "注意：如果我们取的键在字典中不存在，会直接报错`KeyError`。\n",
    "\n",
    "【例子】"
   ]
  },
  {
   "cell_type": "code",
   "execution_count": 5,
   "metadata": {},
   "outputs": [
    {
     "name": "stdout",
     "output_type": "stream",
     "text": [
      "{1: 'one', 2: 'two', 3: 'three'}\n",
      "one\n"
     ]
    },
    {
     "ename": "KeyError",
     "evalue": "4",
     "output_type": "error",
     "traceback": [
      "\u001b[1;31m---------------------------------------------------------------------------\u001b[0m",
      "\u001b[1;31mKeyError\u001b[0m                                  Traceback (most recent call last)",
      "\u001b[1;32m<ipython-input-5-107dabe52134>\u001b[0m in \u001b[0;36m<module>\u001b[1;34m\u001b[0m\n\u001b[0;32m      2\u001b[0m \u001b[0mprint\u001b[0m\u001b[1;33m(\u001b[0m\u001b[0mdic1\u001b[0m\u001b[1;33m)\u001b[0m  \u001b[1;31m# {1: 'one', 2: 'two', 3: 'three'}\u001b[0m\u001b[1;33m\u001b[0m\u001b[1;33m\u001b[0m\u001b[0m\n\u001b[0;32m      3\u001b[0m \u001b[0mprint\u001b[0m\u001b[1;33m(\u001b[0m\u001b[0mdic1\u001b[0m\u001b[1;33m[\u001b[0m\u001b[1;36m1\u001b[0m\u001b[1;33m]\u001b[0m\u001b[1;33m)\u001b[0m  \u001b[1;31m# one\u001b[0m\u001b[1;33m\u001b[0m\u001b[1;33m\u001b[0m\u001b[0m\n\u001b[1;32m----> 4\u001b[1;33m \u001b[0mprint\u001b[0m\u001b[1;33m(\u001b[0m\u001b[0mdic1\u001b[0m\u001b[1;33m[\u001b[0m\u001b[1;36m4\u001b[0m\u001b[1;33m]\u001b[0m\u001b[1;33m)\u001b[0m  \u001b[1;31m# KeyError: 4\u001b[0m\u001b[1;33m\u001b[0m\u001b[1;33m\u001b[0m\u001b[0m\n\u001b[0m\u001b[0;32m      5\u001b[0m \u001b[1;33m\u001b[0m\u001b[0m\n\u001b[0;32m      6\u001b[0m \u001b[0mdic2\u001b[0m \u001b[1;33m=\u001b[0m \u001b[1;33m{\u001b[0m\u001b[1;34m'rice'\u001b[0m\u001b[1;33m:\u001b[0m \u001b[1;36m35\u001b[0m\u001b[1;33m,\u001b[0m \u001b[1;34m'wheat'\u001b[0m\u001b[1;33m:\u001b[0m \u001b[1;36m101\u001b[0m\u001b[1;33m,\u001b[0m \u001b[1;34m'corn'\u001b[0m\u001b[1;33m:\u001b[0m \u001b[1;36m67\u001b[0m\u001b[1;33m}\u001b[0m\u001b[1;33m\u001b[0m\u001b[1;33m\u001b[0m\u001b[0m\n",
      "\u001b[1;31mKeyError\u001b[0m: 4"
     ]
    }
   ],
   "source": [
    "dic1 = {1: 'one', 2: 'two', 3: 'three'}\n",
    "print(dic1)  # {1: 'one', 2: 'two', 3: 'three'}\n",
    "print(dic1[1])  # one\n",
    "print(dic1[4])  # KeyError: 4\n",
    "\n",
    "dic2 = {'rice': 35, 'wheat': 101, 'corn': 67}\n",
    "print(dic2)  # {'wheat': 101, 'corn': 67, 'rice': 35}\n",
    "print(dic2['rice'])  # 35"
   ]
  },
  {
   "cell_type": "markdown",
   "metadata": {},
   "source": [
    "【例子】通过元组作为`key`来创建字典，但一般不这样使用。"
   ]
  },
  {
   "cell_type": "code",
   "execution_count": 6,
   "metadata": {},
   "outputs": [
    {
     "name": "stdout",
     "output_type": "stream",
     "text": [
      "{(1, 2, 3): 'Tom', 'Age': 12, 3: [3, 5, 7]}\n",
      "<class 'dict'>\n"
     ]
    }
   ],
   "source": [
    "dic = {(1, 2, 3): \"Tom\", \"Age\": 12, 3: [3, 5, 7]}\n",
    "print(dic)  # {(1, 2, 3): 'Tom', 'Age': 12, 3: [3, 5, 7]}\n",
    "print(type(dic))  # <class 'dict'>"
   ]
  },
  {
   "cell_type": "markdown",
   "metadata": {},
   "source": [
    "通过构造函数`dict`来创建字典。\n",
    "\n",
    "- `dict()` -> 创建一个空的字典。\n",
    "\n",
    "【例子】通过`key`直接把数据放入字典中，但一个`key`只能对应一个`value`，多次对一个`key`放入 `value`，后面的值会把前面的值冲掉。"
   ]
  },
  {
   "cell_type": "code",
   "execution_count": 7,
   "metadata": {},
   "outputs": [
    {
     "name": "stdout",
     "output_type": "stream",
     "text": [
      "{'a': 1, 'b': 2, 'c': 3}\n",
      "{'a': 11, 'b': 2, 'c': 3}\n",
      "{'a': 11, 'b': 2, 'c': 3, 'd': 4}\n"
     ]
    }
   ],
   "source": [
    "dic = dict()\n",
    "dic['a'] = 1\n",
    "dic['b'] = 2\n",
    "dic['c'] = 3\n",
    "\n",
    "print(dic)\n",
    "# {'a': 1, 'b': 2, 'c': 3}\n",
    "\n",
    "dic['a'] = 11\n",
    "print(dic)\n",
    "# {'a': 11, 'b': 2, 'c': 3}\n",
    "\n",
    "dic['d'] = 4\n",
    "print(dic)\n",
    "# {'a': 11, 'b': 2, 'c': 3, 'd': 4}"
   ]
  },
  {
   "cell_type": "markdown",
   "metadata": {},
   "source": [
    "- `dict(mapping)` -> new dictionary initialized from a mapping object's (key, value) pairs\n",
    "\n",
    "【例子】"
   ]
  },
  {
   "cell_type": "code",
   "execution_count": 8,
   "metadata": {},
   "outputs": [
    {
     "name": "stdout",
     "output_type": "stream",
     "text": [
      "{'apple': 4139, 'peach': 4127, 'cherry': 4098}\n",
      "{'apple': 4139, 'peach': 4127, 'cherry': 4098}\n"
     ]
    }
   ],
   "source": [
    "dic1 = dict([('apple', 4139), ('peach', 4127), ('cherry', 4098)])\n",
    "print(dic1)  # {'cherry': 4098, 'apple': 4139, 'peach': 4127}\n",
    "\n",
    "dic2 = dict((('apple', 4139), ('peach', 4127), ('cherry', 4098)))\n",
    "print(dic2)  # {'peach': 4127, 'cherry': 4098, 'apple': 4139}"
   ]
  },
  {
   "cell_type": "markdown",
   "metadata": {},
   "source": [
    "- `dict(**kwargs)` -> new dictionary initialized with the name=value pairs in the keyword argument list.  For example:  dict(one=1, two=2)\n",
    "\n",
    "【例子】这种情况下，键只能为字符串类型，并且创建的时候字符串不能加引号，加上就会直接报语法错误。"
   ]
  },
  {
   "cell_type": "code",
   "execution_count": 9,
   "metadata": {},
   "outputs": [
    {
     "name": "stdout",
     "output_type": "stream",
     "text": [
      "{'name': 'Tom', 'age': 10}\n",
      "<class 'dict'>\n"
     ]
    }
   ],
   "source": [
    "dic = dict(name='Tom', age=10)\n",
    "print(dic)  # {'name': 'Tom', 'age': 10}\n",
    "print(type(dic))  # <class 'dict'>"
   ]
  },
  {
   "cell_type": "markdown",
   "metadata": {},
   "source": [
    "## 4. 字典的内置方法\n",
    "\n",
    "- `dict.fromkeys(seq[, value])` 用于创建一个新字典，以序列 `seq` 中元素做字典的键，`value` 为字典所有键对应的初始值。\n",
    "\n",
    "【例子】"
   ]
  },
  {
   "cell_type": "code",
   "execution_count": 11,
   "metadata": {},
   "outputs": [
    {
     "name": "stdout",
     "output_type": "stream",
     "text": [
      "新的字典为 : {'name': None, 'age': None, 'sex': None}\n",
      "新的字典为 : {'name': 10, 'age': 10, 'sex': 10}\n",
      "新的字典为 : {'name': ('小马', '8', '男'), 'age': ('小马', '8', '男'), 'sex': ('小马', '8', '男')}\n",
      "新的字典为 : {'name': ('小马', '8', '男', '女'), 'age': ('小马', '8', '男', '女'), 'sex': ('小马', '8', '男', '女')}\n"
     ]
    }
   ],
   "source": [
    "seq = ('name', 'age', 'sex')\n",
    "dic1 = dict.fromkeys(seq)\n",
    "print(\"新的字典为 : %s\" % str(dic1))  \n",
    "# 新的字典为 : {'name': None, 'age': None, 'sex': None}\n",
    "\n",
    "dic2 = dict.fromkeys(seq, 10)\n",
    "print(\"新的字典为 : %s\" % str(dic2))  \n",
    "# 新的字典为 : {'name': 10, 'age': 10, 'sex': 10}\n",
    "\n",
    "dic3 = dict.fromkeys(seq, ('小马', '8', '男'))\n",
    "print(\"新的字典为 : %s\" % str(dic3))  \n",
    "# 新的字典为 : {'name': ('小马', '8', '男'), 'age': ('小马', '8', '男'), 'sex': ('小马', '8', '男')}\n",
    "\n",
    "\n",
    "dic4 = dict.fromkeys(seq, ('小马', '8', '男','女'))\n",
    "print(\"新的字典为 : %s\" % str(dic4))  "
   ]
  },
  {
   "cell_type": "markdown",
   "metadata": {},
   "source": [
    "- `dict.keys()`返回一个可迭代对象，可以使用 `list()` 来转换为列表，列表为字典中的所有键。\n",
    "\n",
    "【例子】"
   ]
  },
  {
   "cell_type": "code",
   "execution_count": 12,
   "metadata": {},
   "outputs": [
    {
     "name": "stdout",
     "output_type": "stream",
     "text": [
      "dict_keys(['Name', 'Age'])\n",
      "['Name', 'Age']\n"
     ]
    }
   ],
   "source": [
    "dic = {'Name': 'lsgogroup', 'Age': 7}\n",
    "print(dic.keys())  # dict_keys(['Name', 'Age'])\n",
    "lst = list(dic.keys())  # 转换为列表\n",
    "print(lst)  # ['Name', 'Age']"
   ]
  },
  {
   "cell_type": "markdown",
   "metadata": {},
   "source": [
    "- `dict.values()`返回一个迭代器，可以使用 `list()` 来转换为列表，列表为字典中的所有值。\n",
    "\n",
    "【例子】"
   ]
  },
  {
   "cell_type": "code",
   "execution_count": 13,
   "metadata": {},
   "outputs": [
    {
     "name": "stdout",
     "output_type": "stream",
     "text": [
      "字典所有值为 :  ['female', 7, 'Zara']\n"
     ]
    }
   ],
   "source": [
    "dic = {'Sex': 'female', 'Age': 7, 'Name': 'Zara'}\n",
    "print(\"字典所有值为 : \", list(dic.values()))  \n",
    "# 字典所有值为 :  [7, 'female', 'Zara']"
   ]
  },
  {
   "cell_type": "markdown",
   "metadata": {},
   "source": [
    "- `dict.items()`以列表返回可遍历的 (键, 值) 元组数组。\n",
    "\n",
    "【例子】"
   ]
  },
  {
   "cell_type": "code",
   "execution_count": 14,
   "metadata": {},
   "outputs": [
    {
     "name": "stdout",
     "output_type": "stream",
     "text": [
      "Value : dict_items([('Name', 'Lsgogroup'), ('Age', 7)])\n",
      "(('Name', 'Lsgogroup'), ('Age', 7))\n"
     ]
    }
   ],
   "source": [
    "dic = {'Name': 'Lsgogroup', 'Age': 7}\n",
    "print(\"Value : %s\" % dic.items())  \n",
    "# Value : dict_items([('Name', 'Lsgogroup'), ('Age', 7)])\n",
    "\n",
    "print(tuple(dic.items()))  \n",
    "# (('Name', 'Lsgogroup'), ('Age', 7))"
   ]
  },
  {
   "cell_type": "markdown",
   "metadata": {},
   "source": [
    "- `dict.get(key, default=None)`返回指定键的值，如果值不在字典中返回默认值。\n",
    "\n",
    "【例子】"
   ]
  },
  {
   "cell_type": "code",
   "execution_count": 15,
   "metadata": {},
   "outputs": [
    {
     "name": "stdout",
     "output_type": "stream",
     "text": [
      "Age 值为 : 27\n",
      "Sex 值为 : NA\n"
     ]
    }
   ],
   "source": [
    "dic = {'Name': 'Lsgogroup', 'Age': 27}\n",
    "print(\"Age 值为 : %s\" % dic.get('Age'))  # Age 值为 : 27\n",
    "print(\"Sex 值为 : %s\" % dic.get('Sex', \"NA\"))  # Sex 值为 : NA"
   ]
  },
  {
   "cell_type": "markdown",
   "metadata": {},
   "source": [
    "- `dict.setdefault(key, default=None)`和`get()`方法 类似, 如果键不存在于字典中，将会添加键并将值设为默认值。\n",
    "\n",
    "【例子】"
   ]
  },
  {
   "cell_type": "code",
   "execution_count": 16,
   "metadata": {},
   "outputs": [
    {
     "name": "stdout",
     "output_type": "stream",
     "text": [
      "Age 键的值为 : 7\n",
      "Sex 键的值为 : None\n",
      "新字典为： {'Name': 'Lsgogroup', 'Age': 7, 'Sex': None}\n"
     ]
    }
   ],
   "source": [
    "dic = {'Name': 'Lsgogroup', 'Age': 7}\n",
    "print(\"Age 键的值为 : %s\" % dic.setdefault('Age', None))  # Age 键的值为 : 7\n",
    "print(\"Sex 键的值为 : %s\" % dic.setdefault('Sex', None))  # Sex 键的值为 : None\n",
    "print(\"新字典为：\", dic)  \n",
    "# 新字典为： {'Age': 7, 'Name': 'Lsgogroup', 'Sex': None}"
   ]
  },
  {
   "cell_type": "markdown",
   "metadata": {},
   "source": [
    "- `key in dict` `in` 操作符用于判断键是否存在于字典中，如果键在字典 dict 里返回`true`，否则返回`false`。而`not in`操作符刚好相反，如果键在字典 dict 里返回`false`，否则返回`true`。\n",
    "\n",
    "【例子】"
   ]
  },
  {
   "cell_type": "code",
   "execution_count": 17,
   "metadata": {},
   "outputs": [
    {
     "name": "stdout",
     "output_type": "stream",
     "text": [
      "键 Age 存在\n",
      "键 Sex 不存在\n",
      "键 Age 存在\n"
     ]
    }
   ],
   "source": [
    "dic = {'Name': 'Lsgogroup', 'Age': 7}\n",
    "\n",
    "# in 检测键 Age 是否存在\n",
    "if 'Age' in dic:\n",
    "    print(\"键 Age 存在\")\n",
    "else:\n",
    "    print(\"键 Age 不存在\")\n",
    "\n",
    "# 检测键 Sex 是否存在\n",
    "if 'Sex' in dic:\n",
    "    print(\"键 Sex 存在\")\n",
    "else:\n",
    "    print(\"键 Sex 不存在\")\n",
    "\n",
    "# not in 检测键 Age 是否存在\n",
    "if 'Age' not in dic:\n",
    "    print(\"键 Age 不存在\")\n",
    "else:\n",
    "    print(\"键 Age 存在\")\n",
    "\n",
    "# 键 Age 存在\n",
    "# 键 Sex 不存在\n",
    "# 键 Age 存在"
   ]
  },
  {
   "cell_type": "markdown",
   "metadata": {},
   "source": [
    "- `dict.pop(key[,default])`删除字典给定键 `key` 所对应的值，返回值为被删除的值。`key` 值必须给出。若`key`不存在，则返回 `default` 值。\n",
    "- `del dict[key]` 删除字典给定键 `key` 所对应的值。\n",
    "\n",
    "【例子】"
   ]
  },
  {
   "cell_type": "code",
   "execution_count": 18,
   "metadata": {},
   "outputs": [
    {
     "name": "stdout",
     "output_type": "stream",
     "text": [
      "a {2: [1, 2]}\n",
      "nokey {2: [1, 2]}\n",
      "{}\n"
     ]
    }
   ],
   "source": [
    "dic1 = {1: \"a\", 2: [1, 2]}\n",
    "print(dic1.pop(1), dic1)  # a {2: [1, 2]}\n",
    "\n",
    "# 设置默认值，必须添加，否则报错\n",
    "print(dic1.pop(3, \"nokey\"), dic1)  # nokey {2: [1, 2]}\n",
    "\n",
    "del dic1[2]\n",
    "print(dic1)  # {}"
   ]
  },
  {
   "cell_type": "markdown",
   "metadata": {},
   "source": [
    "- `dict.popitem()`随机返回并删除字典中的一对键和值，如果字典已经为空，却调用了此方法，就报出KeyError异常。\n",
    "\n",
    "\n",
    "【例子】"
   ]
  },
  {
   "cell_type": "code",
   "execution_count": 19,
   "metadata": {},
   "outputs": [
    {
     "name": "stdout",
     "output_type": "stream",
     "text": [
      "(2, [1, 2])\n",
      "{1: 'a'}\n"
     ]
    }
   ],
   "source": [
    "dic1 = {1: \"a\", 2: [1, 2]}\n",
    "print(dic1.popitem())  # (1, 'a')\n",
    "print(dic1)  # {2: [1, 2]}"
   ]
  },
  {
   "cell_type": "markdown",
   "metadata": {},
   "source": [
    "- `dict.clear()`用于删除字典内所有元素。\n",
    "\n",
    "\n",
    "【例子】"
   ]
  },
  {
   "cell_type": "code",
   "execution_count": 21,
   "metadata": {},
   "outputs": [
    {
     "name": "stdout",
     "output_type": "stream",
     "text": [
      "字典长度 : 2\n",
      "字典删除后长度 : 0\n"
     ]
    }
   ],
   "source": [
    "dic = {'Name': 'Zara', 'Age': 7}\n",
    "print(\"字典长度 : %d\" % len(dic))  # 字典长度 : 2\n",
    "dic.clear()\n",
    "print(\"字典删除后长度 : %d\" % len(dic))  # 字典删除后长度 : 0"
   ]
  },
  {
   "cell_type": "markdown",
   "metadata": {},
   "source": [
    "- `dict.copy()`返回一个字典的浅复制。\n",
    "\n",
    "【例子】"
   ]
  },
  {
   "cell_type": "code",
   "execution_count": 22,
   "metadata": {},
   "outputs": [
    {
     "name": "stdout",
     "output_type": "stream",
     "text": [
      "新复制的字典为 :  {'Name': 'Lsgogroup', 'Age': 7, 'Class': 'First'}\n"
     ]
    }
   ],
   "source": [
    "dic1 = {'Name': 'Lsgogroup', 'Age': 7, 'Class': 'First'}\n",
    "dic2 = dic1.copy()\n",
    "print(\"新复制的字典为 : \", dic2)  \n",
    "# 新复制的字典为 :  {'Age': 7, 'Name': 'Lsgogroup', 'Class': 'First'}"
   ]
  },
  {
   "cell_type": "markdown",
   "metadata": {},
   "source": [
    "【例子】直接赋值和 copy 的区别"
   ]
  },
  {
   "cell_type": "code",
   "execution_count": 23,
   "metadata": {},
   "outputs": [
    {
     "name": "stdout",
     "output_type": "stream",
     "text": [
      "1884288574392\n",
      "1884288574392\n",
      "1884288574552\n",
      "{'user': 'root', 'num': [2, 3]}\n",
      "{'user': 'root', 'num': [2, 3]}\n",
      "{'user': 'lsgogroup', 'num': [2, 3]}\n"
     ]
    }
   ],
   "source": [
    "dic1 = {'user': 'lsgogroup', 'num': [1, 2, 3]}\n",
    "\n",
    "# 引用对象\n",
    "dic2 = dic1  \n",
    "# 深拷贝父对象（一级目录），子对象（二级目录）不拷贝，还是引用\n",
    "dic3 = dic1.copy()  \n",
    "\n",
    "print(id(dic1))  # 148635574728\n",
    "print(id(dic2))  # 148635574728\n",
    "print(id(dic3))  # 148635574344\n",
    "\n",
    "# 修改 data 数据\n",
    "dic1['user'] = 'root'\n",
    "dic1['num'].remove(1)\n",
    "\n",
    "# 输出结果\n",
    "print(dic1)  # {'user': 'root', 'num': [2, 3]}\n",
    "print(dic2)  # {'user': 'root', 'num': [2, 3]}\n",
    "print(dic3)  # {'user': 'runoob', 'num': [2, 3]}"
   ]
  },
  {
   "cell_type": "markdown",
   "metadata": {},
   "source": [
    "- `dict.update(dict2)`把字典参数 `dict2` 的 `key:value`对 更新到字典 `dict` 里。\n",
    "\n",
    "\n",
    "【例子】"
   ]
  },
  {
   "cell_type": "code",
   "execution_count": 24,
   "metadata": {},
   "outputs": [
    {
     "name": "stdout",
     "output_type": "stream",
     "text": [
      "更新字典 dict :  {'Name': 'Lsgogroup', 'Age': 8, 'Sex': 'female'}\n"
     ]
    }
   ],
   "source": [
    "dic = {'Name': 'Lsgogroup', 'Age': 7}\n",
    "dic2 = {'Sex': 'female', 'Age': 8}\n",
    "dic.update(dic2)\n",
    "print(\"更新字典 dict : \", dic)  \n",
    "# 更新字典 dict :  {'Sex': 'female', 'Age': 8, 'Name': 'Lsgogroup'}"
   ]
  },
  {
   "cell_type": "markdown",
   "metadata": {},
   "source": [
    "# 集合\n",
    "\n",
    "python 中`set`与`dict`类似，也是一组`key`的集合，但不存储`value`。由于`key`不能重复，所以，在`set`中，没有重复的`key`。\n",
    "\n",
    "注意，`key`为不可变类型，即可哈希的值。\n",
    "\n",
    "【例子】"
   ]
  },
  {
   "cell_type": "code",
   "execution_count": 25,
   "metadata": {},
   "outputs": [
    {
     "name": "stdout",
     "output_type": "stream",
     "text": [
      "<class 'dict'>\n",
      "<class 'set'>\n"
     ]
    }
   ],
   "source": [
    "num = {}\n",
    "print(type(num))  # <class 'dict'>\n",
    "num = {1, 2, 3, 4}\n",
    "print(type(num))  # <class 'set'>"
   ]
  },
  {
   "cell_type": "markdown",
   "metadata": {},
   "source": [
    "## 1. 集合的创建\n",
    "\n",
    "- 先创建对象再加入元素。\n",
    "- 在创建空集合的时候只能使用`s = set()`，因为`s = {}`创建的是空字典。\n",
    "\n",
    "【例子】"
   ]
  },
  {
   "cell_type": "code",
   "execution_count": 26,
   "metadata": {},
   "outputs": [
    {
     "name": "stdout",
     "output_type": "stream",
     "text": [
      "{'apple', 'banana'}\n"
     ]
    }
   ],
   "source": [
    "basket = set()\n",
    "basket.add('apple')\n",
    "basket.add('banana')\n",
    "print(basket)  # {'banana', 'apple'}"
   ]
  },
  {
   "cell_type": "markdown",
   "metadata": {},
   "source": [
    "- 直接把一堆元素用花括号括起来`{元素1, 元素2, ..., 元素n}`。\n",
    "- 重复元素在`set`中会被自动被过滤。\n",
    "\n",
    "【例子】"
   ]
  },
  {
   "cell_type": "code",
   "execution_count": 27,
   "metadata": {},
   "outputs": [
    {
     "name": "stdout",
     "output_type": "stream",
     "text": [
      "{'apple', 'banana', 'orange', 'pear'}\n"
     ]
    }
   ],
   "source": [
    "basket = {'apple', 'orange', 'apple', 'pear', 'orange', 'banana'}\n",
    "print(basket)  # {'banana', 'apple', 'pear', 'orange'}"
   ]
  },
  {
   "cell_type": "markdown",
   "metadata": {},
   "source": [
    "- 使用`set(value)`工厂函数，把列表或元组转换成集合。\n",
    "\n",
    "【例子】"
   ]
  },
  {
   "cell_type": "code",
   "execution_count": 28,
   "metadata": {},
   "outputs": [
    {
     "name": "stdout",
     "output_type": "stream",
     "text": [
      "{'r', 'd', 'c', 'b', 'a'}\n",
      "{'Taobao', 'Lsgogroup', 'Google'}\n",
      "{'Taobao', 'Lsgogroup', 'Google'}\n"
     ]
    }
   ],
   "source": [
    "a = set('abracadabra')\n",
    "print(a)  \n",
    "# {'r', 'b', 'd', 'c', 'a'}\n",
    "\n",
    "b = set((\"Google\", \"Lsgogroup\", \"Taobao\", \"Taobao\"))\n",
    "print(b)  \n",
    "# {'Taobao', 'Lsgogroup', 'Google'}\n",
    "\n",
    "c = set([\"Google\", \"Lsgogroup\", \"Taobao\", \"Google\"])\n",
    "print(c)  \n",
    "# {'Taobao', 'Lsgogroup', 'Google'}"
   ]
  },
  {
   "cell_type": "markdown",
   "metadata": {},
   "source": [
    "- 去掉列表中重复的元素\n",
    "\n",
    "【例子】"
   ]
  },
  {
   "cell_type": "code",
   "execution_count": 29,
   "metadata": {},
   "outputs": [
    {
     "name": "stdout",
     "output_type": "stream",
     "text": [
      "[0, 1, 2, 3, 4, 5]\n",
      "[0, 1, 2, 3, 4, 5]\n"
     ]
    }
   ],
   "source": [
    "lst = [0, 1, 2, 3, 4, 5, 5, 3, 1]\n",
    "\n",
    "temp = []\n",
    "for item in lst:\n",
    "    if item not in temp:\n",
    "        temp.append(item)\n",
    "\n",
    "print(temp)  # [0, 1, 2, 3, 4, 5]\n",
    "\n",
    "a = set(lst)\n",
    "print(list(a))  # [0, 1, 2, 3, 4, 5]"
   ]
  },
  {
   "cell_type": "markdown",
   "metadata": {},
   "source": [
    "从结果发现集合的两个特点：无序 (unordered) 和唯一 (unique)。\n",
    "\n",
    "由于 `set` 存储的是无序集合，所以我们不可以为集合创建索引或执行切片(slice)操作，也没有键(keys)可用来获取集合中元素的值，但是可以判断一个元素是否在集合中。\n",
    "\n",
    "\n",
    "\n",
    "\n",
    "## 2. 访问集合中的值\n",
    "\n",
    "- 可以使用`len()`內建函数得到集合的大小。\n",
    "\n",
    "【例子】"
   ]
  },
  {
   "cell_type": "code",
   "execution_count": 30,
   "metadata": {},
   "outputs": [
    {
     "name": "stdout",
     "output_type": "stream",
     "text": [
      "3\n"
     ]
    }
   ],
   "source": [
    "thisset = set(['Google', 'Baidu', 'Taobao'])\n",
    "print(len(thisset))  # 3"
   ]
  },
  {
   "cell_type": "markdown",
   "metadata": {},
   "source": [
    "- 可以使用`for`把集合中的数据一个个读取出来。\n",
    "\n",
    "【例子】"
   ]
  },
  {
   "cell_type": "code",
   "execution_count": 32,
   "metadata": {},
   "outputs": [
    {
     "name": "stdout",
     "output_type": "stream",
     "text": [
      "Taobao\n",
      "Baidu\n",
      "Google\n"
     ]
    }
   ],
   "source": [
    "thisset = set(['Google', 'Baidu', 'Taobao'])\n",
    "for item in thisset:\n",
    "    print(item)\n",
    "\n",
    "# Baidu\n",
    "# Google\n",
    "# Taobao"
   ]
  },
  {
   "cell_type": "markdown",
   "metadata": {},
   "source": [
    "- 可以通过`in`或`not in`判断一个元素是否在集合中已经存在\n",
    "\n",
    "【例子】"
   ]
  },
  {
   "cell_type": "code",
   "execution_count": 33,
   "metadata": {},
   "outputs": [
    {
     "name": "stdout",
     "output_type": "stream",
     "text": [
      "True\n",
      "True\n"
     ]
    }
   ],
   "source": [
    "thisset = set(['Google', 'Baidu', 'Taobao'])\n",
    "print('Taobao' in thisset)  # True\n",
    "print('Facebook' not in thisset)  # True"
   ]
  },
  {
   "cell_type": "markdown",
   "metadata": {},
   "source": [
    "## 3. 集合的内置方法\n",
    "\n",
    "- `set.add(elmnt)`用于给集合添加元素，如果添加的元素在集合中已存在，则不执行任何操作。\n",
    "\n",
    "【例子】"
   ]
  },
  {
   "cell_type": "code",
   "execution_count": 35,
   "metadata": {},
   "outputs": [
    {
     "name": "stdout",
     "output_type": "stream",
     "text": [
      "{'apple', 'banana', 'orange', 'cherry'}\n",
      "{'apple', 'banana', 'orange', 'cherry'}\n"
     ]
    }
   ],
   "source": [
    "fruits = {\"apple\", \"banana\", \"cherry\"}\n",
    "fruits.add(\"orange\")\n",
    "print(fruits)  \n",
    "# {'orange', 'cherry', 'banana', 'apple'}\n",
    "\n",
    "fruits.add(\"apple\")\n",
    "print(fruits)  \n",
    "# {'orange', 'cherry', 'banana', 'apple'}"
   ]
  },
  {
   "cell_type": "markdown",
   "metadata": {},
   "source": [
    "- `set.update(set)`用于修改当前集合，可以添加新的元素或集合到当前集合中，如果添加的元素在集合中已存在，则该元素只会出现一次，重复的会忽略。\n",
    "\n",
    "【例子】"
   ]
  },
  {
   "cell_type": "code",
   "execution_count": 36,
   "metadata": {},
   "outputs": [
    {
     "name": "stdout",
     "output_type": "stream",
     "text": [
      "{'apple', 'cherry', 'google', 'banana', 'baidu'}\n",
      "{'google', 'lsgo', 'baidu', 'apple', 'dreamtech'}\n"
     ]
    }
   ],
   "source": [
    "x = {\"apple\", \"banana\", \"cherry\"}\n",
    "y = {\"google\", \"baidu\", \"apple\"}\n",
    "x.update(y)\n",
    "print(x)\n",
    "# {'cherry', 'banana', 'apple', 'google', 'baidu'}\n",
    "\n",
    "y.update([\"lsgo\", \"dreamtech\"])\n",
    "print(y)\n",
    "# {'lsgo', 'baidu', 'dreamtech', 'apple', 'google'}"
   ]
  },
  {
   "cell_type": "markdown",
   "metadata": {},
   "source": [
    "- `set.remove(item)` 用于移除集合中的指定元素。如果元素不存在，则会发生错误。\n",
    "\n",
    "【例子】"
   ]
  },
  {
   "cell_type": "code",
   "execution_count": 37,
   "metadata": {},
   "outputs": [
    {
     "name": "stdout",
     "output_type": "stream",
     "text": [
      "{'apple', 'cherry'}\n"
     ]
    }
   ],
   "source": [
    "fruits = {\"apple\", \"banana\", \"cherry\"}\n",
    "fruits.remove(\"banana\")\n",
    "print(fruits)  # {'apple', 'cherry'}"
   ]
  },
  {
   "cell_type": "markdown",
   "metadata": {},
   "source": [
    "- `set.discard(value)` 用于移除指定的集合元素。`remove()` 方法在移除一个不存在的元素时会发生错误，而 `discard()` 方法不会。\n",
    "\n",
    "【例子】"
   ]
  },
  {
   "cell_type": "code",
   "execution_count": 38,
   "metadata": {},
   "outputs": [
    {
     "name": "stdout",
     "output_type": "stream",
     "text": [
      "{'apple', 'cherry'}\n"
     ]
    }
   ],
   "source": [
    "fruits = {\"apple\", \"banana\", \"cherry\"}\n",
    "fruits.discard(\"banana\")\n",
    "print(fruits)  # {'apple', 'cherry'}"
   ]
  },
  {
   "cell_type": "markdown",
   "metadata": {},
   "source": [
    "- `set.pop()` 用于随机移除一个元素。\n",
    "\n",
    "【例子】"
   ]
  },
  {
   "cell_type": "code",
   "execution_count": 39,
   "metadata": {},
   "outputs": [
    {
     "name": "stdout",
     "output_type": "stream",
     "text": [
      "{'banana', 'cherry'}\n",
      "apple\n"
     ]
    }
   ],
   "source": [
    "fruits = {\"apple\", \"banana\", \"cherry\"}\n",
    "x = fruits.pop()\n",
    "print(fruits)  # {'cherry', 'apple'}\n",
    "print(x)  # banana"
   ]
  },
  {
   "cell_type": "markdown",
   "metadata": {},
   "source": [
    "由于 set 是无序和无重复元素的集合，所以两个或多个 set 可以做数学意义上的集合操作。\n",
    "\n",
    "- `set.intersection(set1, set2 ...)` 返回两个集合的交集。\n",
    "- `set1 & set2` 返回两个集合的交集。\n",
    "- `set.intersection_update(set1, set2 ...)` 交集，在原始的集合上移除不重叠的元素。\n",
    "\n",
    "【例子】"
   ]
  },
  {
   "cell_type": "code",
   "execution_count": 40,
   "metadata": {},
   "outputs": [
    {
     "name": "stdout",
     "output_type": "stream",
     "text": [
      "{'r', 'd', 'c', 'b', 'a'}\n",
      "{'z', 'c', 'm', 'l', 'a'}\n",
      "{'a', 'c'}\n",
      "{'a', 'c'}\n",
      "{'r', 'd', 'c', 'b', 'a'}\n",
      "{'a', 'c'}\n"
     ]
    }
   ],
   "source": [
    "a = set('abracadabra')\n",
    "b = set('alacazam')\n",
    "print(a)  # {'r', 'a', 'c', 'b', 'd'}\n",
    "print(b)  # {'c', 'a', 'l', 'm', 'z'}\n",
    "\n",
    "c = a.intersection(b)\n",
    "print(c)  # {'a', 'c'}\n",
    "print(a & b)  # {'c', 'a'}\n",
    "print(a)  # {'a', 'r', 'c', 'b', 'd'}\n",
    "\n",
    "a.intersection_update(b)\n",
    "print(a)  # {'a', 'c'}"
   ]
  },
  {
   "cell_type": "markdown",
   "metadata": {},
   "source": [
    "- `set.union(set1, set2...)` 返回两个集合的并集。\n",
    "- `set1 | set2` 返回两个集合的并集。\n",
    "\n",
    "【例子】"
   ]
  },
  {
   "cell_type": "code",
   "execution_count": 41,
   "metadata": {},
   "outputs": [
    {
     "name": "stdout",
     "output_type": "stream",
     "text": [
      "{'r', 'd', 'c', 'b', 'a'}\n",
      "{'z', 'c', 'm', 'l', 'a'}\n",
      "{'r', 'z', 'd', 'c', 'm', 'b', 'l', 'a'}\n",
      "{'r', 'z', 'd', 'c', 'm', 'b', 'l', 'a'}\n"
     ]
    }
   ],
   "source": [
    "a = set('abracadabra')\n",
    "b = set('alacazam')\n",
    "print(a)  # {'r', 'a', 'c', 'b', 'd'}\n",
    "print(b)  # {'c', 'a', 'l', 'm', 'z'}\n",
    "\n",
    "print(a | b)  # {'l', 'd', 'm', 'b', 'a', 'r', 'z', 'c'}\n",
    "c = a.union(b)\n",
    "print(c)  # {'c', 'a', 'd', 'm', 'r', 'b', 'z', 'l'}"
   ]
  },
  {
   "cell_type": "markdown",
   "metadata": {},
   "source": [
    "- `set.difference(set)` 返回集合的差集。\n",
    "- `set1 - set2` 返回集合的差集。\n",
    "- `set.difference_update(set)` 集合的差集，直接在原来的集合中移除元素，没有返回值。\n",
    "\n",
    "【例子】"
   ]
  },
  {
   "cell_type": "code",
   "execution_count": 42,
   "metadata": {},
   "outputs": [
    {
     "name": "stdout",
     "output_type": "stream",
     "text": [
      "{'r', 'd', 'c', 'b', 'a'}\n",
      "{'z', 'c', 'm', 'l', 'a'}\n",
      "{'r', 'd', 'b'}\n",
      "{'r', 'd', 'b'}\n",
      "{'r', 'd', 'c', 'b', 'a'}\n",
      "{'r', 'd', 'b'}\n"
     ]
    }
   ],
   "source": [
    "a = set('abracadabra')\n",
    "b = set('alacazam')\n",
    "print(a)  # {'r', 'a', 'c', 'b', 'd'}\n",
    "print(b)  # {'c', 'a', 'l', 'm', 'z'}\n",
    "\n",
    "c = a.difference(b)\n",
    "print(c)  # {'b', 'd', 'r'}\n",
    "print(a - b)  # {'d', 'b', 'r'}\n",
    "\n",
    "print(a)  # {'r', 'd', 'c', 'a', 'b'}\n",
    "a.difference_update(b)\n",
    "print(a)  # {'d', 'r', 'b'}"
   ]
  },
  {
   "cell_type": "markdown",
   "metadata": {},
   "source": [
    "- `set.symmetric_difference(set)`返回集合的异或。\n",
    "- `set1 ^ set2` 返回集合的异或。\n",
    "- `set.symmetric_difference_update(set)`移除当前集合中在另外一个指定集合相同的元素，并将另外一个指定集合中不同的元素插入到当前集合中。\n",
    "\n",
    "【例子】"
   ]
  },
  {
   "cell_type": "code",
   "execution_count": 43,
   "metadata": {},
   "outputs": [
    {
     "name": "stdout",
     "output_type": "stream",
     "text": [
      "{'r', 'd', 'c', 'b', 'a'}\n",
      "{'z', 'c', 'm', 'l', 'a'}\n",
      "{'r', 'z', 'd', 'b', 'm', 'l'}\n",
      "{'r', 'z', 'd', 'b', 'm', 'l'}\n",
      "{'r', 'd', 'c', 'b', 'a'}\n",
      "{'r', 'z', 'd', 'm', 'b', 'l'}\n"
     ]
    }
   ],
   "source": [
    "a = set('abracadabra')\n",
    "b = set('alacazam')\n",
    "print(a)  # {'r', 'a', 'c', 'b', 'd'}\n",
    "print(b)  # {'c', 'a', 'l', 'm', 'z'}\n",
    "\n",
    "c = a.symmetric_difference(b)\n",
    "print(c)  # {'m', 'r', 'l', 'b', 'z', 'd'}\n",
    "print(a ^ b)  # {'m', 'r', 'l', 'b', 'z', 'd'}\n",
    "\n",
    "print(a)  # {'r', 'd', 'c', 'a', 'b'}\n",
    "a.symmetric_difference_update(b)\n",
    "print(a)  # {'r', 'b', 'm', 'l', 'z', 'd'}"
   ]
  },
  {
   "cell_type": "markdown",
   "metadata": {},
   "source": [
    "- `set.issubset(set)`判断集合是不是被其他集合包含，如果是则返回 True，否则返回 False。\n",
    "- `set1 <= set2` 判断集合是不是被其他集合包含，如果是则返回 True，否则返回 False。\n",
    "\n",
    "【例子】"
   ]
  },
  {
   "cell_type": "code",
   "execution_count": 44,
   "metadata": {},
   "outputs": [
    {
     "name": "stdout",
     "output_type": "stream",
     "text": [
      "True\n",
      "True\n",
      "False\n",
      "False\n"
     ]
    }
   ],
   "source": [
    "x = {\"a\", \"b\", \"c\"}\n",
    "y = {\"f\", \"e\", \"d\", \"c\", \"b\", \"a\"}\n",
    "z = x.issubset(y)\n",
    "print(z)  # True\n",
    "print(x <= y)  # True\n",
    "\n",
    "x = {\"a\", \"b\", \"c\"}\n",
    "y = {\"f\", \"e\", \"d\", \"c\", \"b\"}\n",
    "z = x.issubset(y)\n",
    "print(z)  # False\n",
    "print(x <= y)  # False"
   ]
  },
  {
   "cell_type": "markdown",
   "metadata": {},
   "source": [
    "- `set.issuperset(set)`用于判断集合是不是包含其他集合，如果是则返回 True，否则返回 False。\n",
    "- `set1 >= set2` 判断集合是不是包含其他集合，如果是则返回 True，否则返回 False。\n",
    "\n",
    "【例子】"
   ]
  },
  {
   "cell_type": "code",
   "execution_count": 45,
   "metadata": {},
   "outputs": [
    {
     "name": "stdout",
     "output_type": "stream",
     "text": [
      "True\n",
      "True\n",
      "False\n",
      "False\n"
     ]
    }
   ],
   "source": [
    "x = {\"f\", \"e\", \"d\", \"c\", \"b\", \"a\"}\n",
    "y = {\"a\", \"b\", \"c\"}\n",
    "z = x.issuperset(y)\n",
    "print(z)  # True\n",
    "print(x >= y)  # True\n",
    "\n",
    "x = {\"f\", \"e\", \"d\", \"c\", \"b\"}\n",
    "y = {\"a\", \"b\", \"c\"}\n",
    "z = x.issuperset(y)\n",
    "print(z)  # False\n",
    "print(x >= y)  # False"
   ]
  },
  {
   "cell_type": "markdown",
   "metadata": {},
   "source": [
    "- `set.isdisjoint(set)` 用于判断两个集合是不是不相交，如果是返回 True，否则返回 False。\n",
    "\n",
    "【例子】"
   ]
  },
  {
   "cell_type": "code",
   "execution_count": 46,
   "metadata": {},
   "outputs": [
    {
     "name": "stdout",
     "output_type": "stream",
     "text": [
      "False\n",
      "True\n"
     ]
    }
   ],
   "source": [
    "x = {\"f\", \"e\", \"d\", \"c\", \"b\"}\n",
    "y = {\"a\", \"b\", \"c\"}\n",
    "z = x.isdisjoint(y)\n",
    "print(z)  # False\n",
    "\n",
    "x = {\"f\", \"e\", \"d\", \"m\", \"g\"}\n",
    "y = {\"a\", \"b\", \"c\"}\n",
    "z = x.isdisjoint(y)\n",
    "print(z)  # True"
   ]
  },
  {
   "cell_type": "markdown",
   "metadata": {},
   "source": [
    "## 4. 集合的转换\n",
    "\n",
    "【例子】"
   ]
  },
  {
   "cell_type": "code",
   "execution_count": 47,
   "metadata": {},
   "outputs": [
    {
     "name": "stdout",
     "output_type": "stream",
     "text": [
      "{0, 1, 2, 3} <class 'set'>\n",
      "[0, 1, 2, 3] <class 'list'>\n",
      "(0, 1, 2, 3) <class 'tuple'>\n"
     ]
    }
   ],
   "source": [
    "se = set(range(4))\n",
    "li = list(se)\n",
    "tu = tuple(se)\n",
    "\n",
    "print(se, type(se))  # {0, 1, 2, 3} <class 'set'>\n",
    "print(li, type(li))  # [0, 1, 2, 3] <class 'list'>\n",
    "print(tu, type(tu))  # (0, 1, 2, 3) <class 'tuple'>"
   ]
  },
  {
   "cell_type": "markdown",
   "metadata": {},
   "source": [
    "## 5. 不可变集合\n",
    "\n",
    "Python 提供了不能改变元素的集合的实现版本，即不能增加或删除元素，类型名叫`frozenset`。需要注意的是`frozenset`仍然可以进行集合操作，只是不能用带有`update`的方法。\n",
    "\n",
    "- `frozenset([iterable])` 返回一个冻结的集合，冻结后集合不能再添加或删除任何元素。\n",
    "\n",
    "【例子】"
   ]
  },
  {
   "cell_type": "code",
   "execution_count": 48,
   "metadata": {},
   "outputs": [
    {
     "name": "stdout",
     "output_type": "stream",
     "text": [
      "frozenset({0, 1, 2, 3, 4, 5, 6, 7, 8, 9})\n",
      "frozenset({'r', 'o', 'p', 'g', 's', 'l', 'u'})\n"
     ]
    }
   ],
   "source": [
    "a = frozenset(range(10))  # 生成一个新的不可变集合\n",
    "print(a)  \n",
    "# frozenset({0, 1, 2, 3, 4, 5, 6, 7, 8, 9})\n",
    "\n",
    "b = frozenset('lsgogroup')\n",
    "print(b)  \n",
    "# frozenset({'g', 's', 'p', 'r', 'u', 'o', 'l'})"
   ]
  },
  {
   "cell_type": "markdown",
   "metadata": {},
   "source": [
    "**参考文献**：\n",
    "\n",
    "- https://www.runoob.com/python3/python3-tutorial.html\n",
    "- https://www.bilibili.com/video/av4050443\n",
    "- https://mp.weixin.qq.com/s/DZ589xEbOQ2QLtiq8mP1qQ\n",
    "\n",
    "---\n",
    "\n",
    "**练习题**：\n",
    "\n",
    "1. 怎么表示只包含⼀个数字1的元组。\n",
    "2. 创建一个空集合，增加 {‘x’,‘y’,‘z’} 三个元素。\n",
    "3. 列表['A', 'B', 'A', 'B']去重。\n",
    "4. 求两个集合{6, 7, 8}，{7, 8, 9}中不重复的元素（差集指的是两个集合交集外的部分）。\n",
    "5. 求{'A', 'B', 'C'}中元素在 {'B', 'C', 'D'}中出现的次数。"
   ]
  },
  {
   "cell_type": "markdown",
   "metadata": {},
   "source": [
    "# 序列\n",
    "\n",
    "\n",
    "\n",
    "## 1. 针对序列的内置函数\n",
    "\n",
    "- `list(sub)` 把一个可迭代对象转换为列表。\n",
    "\n",
    "【例子】"
   ]
  },
  {
   "cell_type": "code",
   "execution_count": 49,
   "metadata": {},
   "outputs": [
    {
     "name": "stdout",
     "output_type": "stream",
     "text": [
      "[]\n",
      "['I', ' ', 'L', 'o', 'v', 'e', ' ', 'L', 's', 'g', 'o', 'G', 'r', 'o', 'u', 'p']\n",
      "[1, 1, 2, 3, 5, 8]\n"
     ]
    }
   ],
   "source": [
    "a = list()\n",
    "print(a)  # []\n",
    "\n",
    "b = 'I Love LsgoGroup'\n",
    "b = list(b)\n",
    "print(b)  \n",
    "# ['I', ' ', 'L', 'o', 'v', 'e', ' ', 'L', 's', 'g', 'o', 'G', 'r', 'o', 'u', 'p']\n",
    "\n",
    "c = (1, 1, 2, 3, 5, 8)\n",
    "c = list(c)\n",
    "print(c)  # [1, 1, 2, 3, 5, 8]"
   ]
  },
  {
   "cell_type": "markdown",
   "metadata": {},
   "source": [
    "- `tuple(sub)` 把一个可迭代对象转换为元组。\n",
    "\n",
    "【例子】"
   ]
  },
  {
   "cell_type": "code",
   "execution_count": 50,
   "metadata": {},
   "outputs": [
    {
     "name": "stdout",
     "output_type": "stream",
     "text": [
      "()\n",
      "('I', ' ', 'L', 'o', 'v', 'e', ' ', 'L', 's', 'g', 'o', 'G', 'r', 'o', 'u', 'p')\n",
      "(1, 1, 2, 3, 5, 8)\n"
     ]
    }
   ],
   "source": [
    "a = tuple()\n",
    "print(a)  # ()\n",
    "\n",
    "b = 'I Love LsgoGroup'\n",
    "b = tuple(b)\n",
    "print(b)  \n",
    "# ('I', ' ', 'L', 'o', 'v', 'e', ' ', 'L', 's', 'g', 'o', 'G', 'r', 'o', 'u', 'p')\n",
    "\n",
    "c = [1, 1, 2, 3, 5, 8]\n",
    "c = tuple(c)\n",
    "print(c)  # (1, 1, 2, 3, 5, 8)"
   ]
  },
  {
   "cell_type": "markdown",
   "metadata": {},
   "source": [
    "- `str(obj)` 把obj对象转换为字符串\n",
    "\n",
    "【例子】"
   ]
  },
  {
   "cell_type": "code",
   "execution_count": 51,
   "metadata": {},
   "outputs": [
    {
     "name": "stdout",
     "output_type": "stream",
     "text": [
      "123\n"
     ]
    }
   ],
   "source": [
    "a = 123\n",
    "a = str(a)\n",
    "print(a)  # 123"
   ]
  },
  {
   "cell_type": "markdown",
   "metadata": {},
   "source": [
    "- `len(s)` 返回对象（字符、列表、元组等）长度或元素个数。\n",
    "  - `s` -- 对象。\n",
    "\n",
    "【例子】"
   ]
  },
  {
   "cell_type": "code",
   "execution_count": 52,
   "metadata": {},
   "outputs": [
    {
     "name": "stdout",
     "output_type": "stream",
     "text": [
      "0\n",
      "16\n",
      "16\n"
     ]
    }
   ],
   "source": [
    "a = list()\n",
    "print(len(a))  # 0\n",
    "\n",
    "b = ('I', ' ', 'L', 'o', 'v', 'e', ' ', 'L', 's', 'g', 'o', 'G', 'r', 'o', 'u', 'p')\n",
    "print(len(b))  # 16\n",
    "\n",
    "c = 'I Love LsgoGroup'\n",
    "print(len(c))  # 16"
   ]
  },
  {
   "cell_type": "markdown",
   "metadata": {},
   "source": [
    "- `max(sub)`返回序列或者参数集合中的最大值\n",
    "\n",
    "- `min(sub)`返回序列或参数集合中的最小值\n",
    "\n",
    "\n",
    "【例子】"
   ]
  },
  {
   "cell_type": "code",
   "execution_count": 53,
   "metadata": {},
   "outputs": [
    {
     "name": "stdout",
     "output_type": "stream",
     "text": [
      "5\n",
      "99\n",
      "v\n",
      "1\n",
      "-8\n",
      "G\n"
     ]
    }
   ],
   "source": [
    "print(max(1, 2, 3, 4, 5))  # 5\n",
    "print(max([-8, 99, 3, 7, 83]))  # 99\n",
    "print(max('IloveLsgoGroup'))  # v\n",
    "\n",
    "print(min(1, 2, 3, 4, 5))  # 1\n",
    "print(min([-8, 99, 3, 7, 83]))  # -8\n",
    "print(min('IloveLsgoGroup'))  # G"
   ]
  },
  {
   "cell_type": "markdown",
   "metadata": {},
   "source": [
    "- `sum(iterable[, start=0])` 返回序列`iterable`与可选参数`start`的总和。\n",
    "\n",
    "【例子】"
   ]
  },
  {
   "cell_type": "code",
   "execution_count": 54,
   "metadata": {},
   "outputs": [
    {
     "name": "stdout",
     "output_type": "stream",
     "text": [
      "25\n",
      "35\n",
      "25\n",
      "45\n"
     ]
    }
   ],
   "source": [
    "print(sum([1, 3, 5, 7, 9]))  # 25\n",
    "print(sum([1, 3, 5, 7, 9], 10))  # 35\n",
    "print(sum((1, 3, 5, 7, 9)))  # 25\n",
    "print(sum((1, 3, 5, 7, 9), 20))  # 45"
   ]
  },
  {
   "cell_type": "markdown",
   "metadata": {},
   "source": [
    "- `sorted(iterable, key=None, reverse=False) ` 对所有可迭代的对象进行排序操作。\n",
    "  - `iterable` -- 可迭代对象。\n",
    "  - `key` -- 主要是用来进行比较的元素，只有一个参数，具体的函数的参数就是取自于可迭代对象中，指定可迭代对象中的一个元素来进行排序。\n",
    "  - `reverse` -- 排序规则，`reverse = True` 降序 ， `reverse = False` 升序（默认）。\n",
    "  - 返回重新排序的列表。\n",
    "\n",
    "【例子】"
   ]
  },
  {
   "cell_type": "code",
   "execution_count": 55,
   "metadata": {},
   "outputs": [
    {
     "name": "stdout",
     "output_type": "stream",
     "text": [
      "[-8, 3, 7, 83, 99]\n",
      "[99, 83, 7, 3, -8]\n",
      "[{'age': 10, 'name': 'c'}, {'age': 20, 'name': 'a'}, {'age': 25, 'name': 'b'}]\n"
     ]
    }
   ],
   "source": [
    "x = [-8, 99, 3, 7, 83]\n",
    "print(sorted(x))  # [-8, 3, 7, 83, 99]\n",
    "print(sorted(x, reverse=True))  # [99, 83, 7, 3, -8]\n",
    "\n",
    "t = ({\"age\": 20, \"name\": \"a\"}, {\"age\": 25, \"name\": \"b\"}, {\"age\": 10, \"name\": \"c\"})\n",
    "x = sorted(t, key=lambda a: a[\"age\"])\n",
    "print(x)\n",
    "# [{'age': 10, 'name': 'c'}, {'age': 20, 'name': 'a'}, {'age': 25, 'name': 'b'}]"
   ]
  },
  {
   "cell_type": "markdown",
   "metadata": {},
   "source": [
    "- `reversed(seq)` 函数返回一个反转的迭代器。\n",
    "  - `seq` -- 要转换的序列，可以是 tuple, string, list 或 range。\n",
    "\n",
    "【例子】"
   ]
  },
  {
   "cell_type": "code",
   "execution_count": 56,
   "metadata": {},
   "outputs": [
    {
     "name": "stdout",
     "output_type": "stream",
     "text": [
      "<class 'reversed'>\n",
      "<reversed object at 0x000001B6B85B4A48>\n",
      "['p', 'u', 'o', 'r', 'g', 'o', 'g', 's', 'l']\n",
      "['p', 'u', 'o', 'r', 'g', 'o', 'g', 's', 'l']\n",
      "[8, 7, 6, 5]\n",
      "[83, 7, 3, 99, -8]\n"
     ]
    }
   ],
   "source": [
    "s = 'lsgogroup'\n",
    "x = reversed(s)\n",
    "print(type(x))  # <class 'reversed'>\n",
    "print(x)  # <reversed object at 0x000002507E8EC2C8>\n",
    "print(list(x))\n",
    "# ['p', 'u', 'o', 'r', 'g', 'o', 'g', 's', 'l']\n",
    "\n",
    "t = ('l', 's', 'g', 'o', 'g', 'r', 'o', 'u', 'p')\n",
    "print(list(reversed(t)))\n",
    "# ['p', 'u', 'o', 'r', 'g', 'o', 'g', 's', 'l']\n",
    "\n",
    "r = range(5, 9)\n",
    "print(list(reversed(r)))\n",
    "# [8, 7, 6, 5]\n",
    "\n",
    "x = [-8, 99, 3, 7, 83]\n",
    "print(list(reversed(x)))\n",
    "# [83, 7, 3, 99, -8]"
   ]
  },
  {
   "cell_type": "markdown",
   "metadata": {},
   "source": [
    "- `enumerate(sequence, [start=0])`\n",
    "\n",
    "\n",
    "\n",
    "【例子】用于将一个可遍历的数据对象(如列表、元组或字符串)组合为一个索引序列，同时列出数据和数据下标，一般用在 for 循环当中。"
   ]
  },
  {
   "cell_type": "code",
   "execution_count": 57,
   "metadata": {},
   "outputs": [
    {
     "name": "stdout",
     "output_type": "stream",
     "text": [
      "[(0, 'Spring'), (1, 'Summer'), (2, 'Fall'), (3, 'Winter')]\n",
      "[(1, 'Spring'), (2, 'Summer'), (3, 'Fall'), (4, 'Winter')]\n",
      "0,Spring\n",
      "1,Summer\n",
      "2,Fall\n",
      "3,Winter\n"
     ]
    }
   ],
   "source": [
    "seasons = ['Spring', 'Summer', 'Fall', 'Winter']\n",
    "a = list(enumerate(seasons))\n",
    "print(a)  \n",
    "# [(0, 'Spring'), (1, 'Summer'), (2, 'Fall'), (3, 'Winter')]\n",
    "\n",
    "b = list(enumerate(seasons, 1))\n",
    "print(b)  \n",
    "# [(1, 'Spring'), (2, 'Summer'), (3, 'Fall'), (4, 'Winter')]\n",
    "\n",
    "for i, element in a:\n",
    "    print('{0},{1}'.format(i, element))"
   ]
  },
  {
   "cell_type": "markdown",
   "metadata": {},
   "source": [
    "- `zip(iter1 [,iter2 [...]])`\n",
    "  - 用于将可迭代的对象作为参数，将对象中对应的元素打包成一个个元组，然后返回由这些元组组成的对象，这样做的好处是节约了不少的内存。\n",
    "  - 我们可以使用 `list()` 转换来输出列表。\n",
    "  - 如果各个迭代器的元素个数不一致，则返回列表长度与最短的对象相同，利用 `*` 号操作符，可以将元组解压为列表。\n",
    "\n",
    "【例子】"
   ]
  },
  {
   "cell_type": "code",
   "execution_count": 58,
   "metadata": {},
   "outputs": [
    {
     "name": "stdout",
     "output_type": "stream",
     "text": [
      "<zip object at 0x000001B6B85A13C8>\n",
      "[(1, 4), (2, 5), (3, 6)]\n",
      "[(1, 4), (2, 5), (3, 6)]\n",
      "[1, 2, 3]\n",
      "[4, 5, 6]\n"
     ]
    }
   ],
   "source": [
    "a = [1, 2, 3]\n",
    "b = [4, 5, 6]\n",
    "c = [4, 5, 6, 7, 8]\n",
    "\n",
    "zipped = zip(a, b)\n",
    "print(zipped)  # <zip object at 0x000000C5D89EDD88>\n",
    "print(list(zipped))  # [(1, 4), (2, 5), (3, 6)]\n",
    "zipped = zip(a, c)\n",
    "print(list(zipped))  # [(1, 4), (2, 5), (3, 6)]\n",
    "\n",
    "a1, a2 = zip(*zip(a, b))\n",
    "print(list(a1))  # [1, 2, 3]\n",
    "print(list(a2))  # [4, 5, 6]"
   ]
  },
  {
   "cell_type": "code",
   "execution_count": null,
   "metadata": {},
   "outputs": [],
   "source": []
  }
 ],
 "metadata": {
  "kernelspec": {
   "display_name": "Python 3",
   "language": "python",
   "name": "python3"
  },
  "language_info": {
   "codemirror_mode": {
    "name": "ipython",
    "version": 3
   },
   "file_extension": ".py",
   "mimetype": "text/x-python",
   "name": "python",
   "nbconvert_exporter": "python",
   "pygments_lexer": "ipython3",
   "version": "3.7.6"
  }
 },
 "nbformat": 4,
 "nbformat_minor": 4
}
