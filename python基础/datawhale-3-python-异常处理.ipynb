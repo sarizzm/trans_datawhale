{
 "cells": [
  {
   "cell_type": "markdown",
   "metadata": {},
   "source": [
    "## **练习题**：\n",
    "\n",
    "1、猜数字游戏\n",
    "\n",
    "题目描述:\n",
    "\n",
    "电脑产生一个零到100之间的随机数字，然后让用户来猜，如果用户猜的数字比这个数字大，提示太大，否则提示太小，当用户正好猜中电脑会提示，\"恭喜你猜到了这个数是......\"。在用户每次猜测之前程序会输出用户是第几次猜测，如果用户输入的根本不是一个数字，程序会告诉用户\"输入无效\"。\n",
    "\n",
    "(尝试使用try catch异常处理结构对输入情况进行处理)\n",
    "\n",
    "获取随机数采用random模块。"
   ]
  },
  {
   "cell_type": "code",
   "execution_count": 6,
   "metadata": {},
   "outputs": [
    {
     "name": "stdout",
     "output_type": "stream",
     "text": [
      "第1次猜，请输入一个整形数字：er\n",
      "输入无效\n",
      "第2次猜，请输入一个整形数字：25\n",
      "太小\n",
      "第3次猜，请输入一个整形数字：68\n",
      "太小\n",
      "第4次猜，请输入一个整形数字：85\n",
      "太大\n",
      "第5次猜，请输入一个整形数字：75\n",
      "太大\n",
      "第6次猜，请输入一个整形数字：70\n",
      "太大\n",
      "第7次猜，请输入一个整形数字：65\n",
      "太小\n",
      "第8次猜，请输入一个整形数字：69\n",
      "恭喜你猜到了这个数是......\n"
     ]
    }
   ],
   "source": [
    "import random\n",
    "i = 1\n",
    "rl_num = random.randint(1,100)\n",
    "while True:\n",
    "#     print(\"第%s次猜，请输入一个整形数字：\", i)\n",
    "    s_input = \"第\"+str(i)+\"次猜，请输入一个整形数字：\"\n",
    "    try:\n",
    "        ca_num = input(s_input)\n",
    "        ca_num = int(ca_num)\n",
    "        if ca_num == rl_num:\n",
    "            print('恭喜你猜到了这个数是......')\n",
    "            break\n",
    "        elif ca_num < rl_num:\n",
    "            print('太小')\n",
    "        else: \n",
    "            print('太大')\n",
    "    except ValueError:\n",
    "        print('输入无效,请重新输入')\n",
    "    i += 1"
   ]
  },
  {
   "cell_type": "markdown",
   "metadata": {},
   "source": [
    "## 异常处理\n",
    "\n",
    "异常就是运行期检测到的错误。计算机语言针对可能出现的错误定义了异常类型，某种错误引发对应的异常时，异常处理程序将被启动，从而恢复程序的正常运行。\n",
    "\n",
    "## 1. Python 标准异常总结\n",
    "\n",
    "- BaseException：所有异常的 **基类**\n",
    "- Exception：常规异常的 **基类**\n",
    "- StandardError：所有的内建标准异常的基类\n",
    "- ArithmeticError：所有数值计算异常的基类\n",
    "- FloatingPointError：浮点计算异常\n",
    "- <u>OverflowError</u>：数值运算超出最大限制\n",
    "- <u>ZeroDivisionError</u>：除数为零\n",
    "- <u>AssertionError</u>：断言语句（assert）失败\n",
    "- <u>AttributeError</u>：尝试访问未知的对象属性\n",
    "- EOFError：没有内建输入，到达EOF标记\n",
    "- EnvironmentError：操作系统异常的基类\n",
    "- IOError：输入/输出操作失败\n",
    "- <u>OSError</u>：操作系统产生的异常（例如打开一个不存在的文件）\n",
    "- WindowsError：系统调用失败\n",
    "- <u>ImportError</u>：导入模块失败的时候\n",
    "- KeyboardInterrupt：用户中断执行\n",
    "- LookupError：无效数据查询的基类\n",
    "- <u>IndexError</u>：索引超出序列的范围\n",
    "- <u>KeyError</u>：字典中查找一个不存在的关键字\n",
    "- <u>MemoryError</u>：内存溢出（可通过删除对象释放内存）\n",
    "- <u>NameError</u>：尝试访问一个不存在的变量\n",
    "- UnboundLocalError：访问未初始化的本地变量\n",
    "- ReferenceError：弱引用试图访问已经垃圾回收了的对象\n",
    "- RuntimeError：一般的运行时异常\n",
    "- NotImplementedError：尚未实现的方法\n",
    "- <u>SyntaxError</u>：语法错误导致的异常\n",
    "- IndentationError：缩进错误导致的异常\n",
    "- TabError：Tab和空格混用\n",
    "- SystemError：一般的解释器系统异常\n",
    "- <u>TypeError</u>：不同类型间的无效操作\n",
    "- <u>ValueError</u>：传入无效的参数\n",
    "- UnicodeError：Unicode相关的异常\n",
    "- UnicodeDecodeError：Unicode解码时的异常\n",
    "- UnicodeEncodeError：Unicode编码错误导致的异常\n",
    "- UnicodeTranslateError：Unicode转换错误导致的异常\n",
    "\n",
    "异常体系内部有层次关系，Python异常体系中的部分关系如下所示：\n",
    "\n",
    "![](https://img-blog.csdnimg.cn/20200710131404548.png)"
   ]
  },
  {
   "cell_type": "markdown",
   "metadata": {},
   "source": [
    "## 3. try - except 语句\n",
    "\n",
    "```python\n",
    "try:\n",
    "    检测范围\n",
    "except Exception[as reason]:\n",
    "    出现异常后的处理代码\n",
    "```\n",
    "\n",
    "try 语句按照如下方式工作：\n",
    "\n",
    "- 首先，执行`try`子句（在关键字`try`和关键字`except`之间的语句）\n",
    "- 如果没有异常发生，忽略`except`子句，`try`子句执行后结束。\n",
    "- 如果在执行`try`子句的过程中发生了异常，那么`try`子句余下的部分将被忽略。如果异常的类型和`except`之后的名称相符，那么对应的`except`子句将被执行。最后执行`try`语句之后的代码。\n",
    "- 如果一个异常没有与任何的`except`匹配，那么这个异常将会传递给上层的`try`中。\n",
    "\n",
    "【例子】"
   ]
  },
  {
   "cell_type": "code",
   "execution_count": 1,
   "metadata": {},
   "outputs": [
    {
     "name": "stdout",
     "output_type": "stream",
     "text": [
      "打开文件出错\n"
     ]
    }
   ],
   "source": [
    "try:\n",
    "    f = open('test.txt')\n",
    "    print(f.read())\n",
    "    f.close()\n",
    "except OSError:\n",
    "    print('打开文件出错')\n",
    "\n",
    "# 打开文件出错"
   ]
  },
  {
   "cell_type": "markdown",
   "metadata": {},
   "source": [
    "【例子】"
   ]
  },
  {
   "cell_type": "code",
   "execution_count": 2,
   "metadata": {},
   "outputs": [
    {
     "name": "stdout",
     "output_type": "stream",
     "text": [
      "打开文件出错\n",
      "原因是：[Errno 2] No such file or directory: 'test.txt'\n"
     ]
    }
   ],
   "source": [
    "try:\n",
    "    f = open('test.txt')\n",
    "    print(f.read())\n",
    "    f.close()\n",
    "except OSError as error:\n",
    "    print('打开文件出错\\n原因是：' + str(error))\n",
    "\n",
    "# 打开文件出错\n",
    "# 原因是：[Errno 2] No such file or directory: 'test.txt'"
   ]
  },
  {
   "cell_type": "markdown",
   "metadata": {},
   "source": [
    "一个`try`语句可能包含多个`except`子句，分别来处理不同的特定的异常。最多只有一个分支会被执行。\n",
    "\n",
    "【例子】"
   ]
  },
  {
   "cell_type": "code",
   "execution_count": 3,
   "metadata": {},
   "outputs": [
    {
     "name": "stdout",
     "output_type": "stream",
     "text": [
      "数值出错\n",
      "原因是：invalid literal for int() with base 10: 'abc'\n"
     ]
    }
   ],
   "source": [
    "try:\n",
    "    int(\"abc\")\n",
    "    s = 1 + '1'\n",
    "    f = open('test.txt')\n",
    "    print(f.read())\n",
    "    f.close()\n",
    "except OSError as error:\n",
    "    print('打开文件出错\\n原因是：' + str(error))\n",
    "except TypeError as error:\n",
    "    print('类型出错\\n原因是：' + str(error))\n",
    "except ValueError as error:\n",
    "    print('数值出错\\n原因是：' + str(error))\n",
    "\n",
    "# 数值出错\n",
    "# 原因是：invalid literal for int() with base 10: 'abc'"
   ]
  },
  {
   "cell_type": "markdown",
   "metadata": {},
   "source": [
    "【例子】"
   ]
  },
  {
   "cell_type": "code",
   "execution_count": 4,
   "metadata": {},
   "outputs": [
    {
     "name": "stdout",
     "output_type": "stream",
     "text": [
      "查询错误\n"
     ]
    }
   ],
   "source": [
    "dict1 = {'a': 1, 'b': 2, 'v': 22}\n",
    "try:\n",
    "    x = dict1['y']\n",
    "except LookupError:\n",
    "    print('查询错误')\n",
    "except KeyError:\n",
    "    print('键错误')\n",
    "else:\n",
    "    print(x)\n",
    "\n",
    "# 查询错误"
   ]
  },
  {
   "cell_type": "markdown",
   "metadata": {},
   "source": [
    "`try-except-else`语句尝试查询不在`dict`中的键值对，从而引发了异常。这一异常准确地说应属于`KeyError`，但由于`KeyError`是`LookupError`的子类，且将`LookupError`置于`KeyError`之前，因此程序优先执行该`except`代码块。所以，使用多个`except`代码块时，必须坚持对其规范排序，要从最具针对性的异常到最通用的异常。\n",
    "\n",
    "\n",
    "【例子】"
   ]
  },
  {
   "cell_type": "code",
   "execution_count": 5,
   "metadata": {},
   "outputs": [
    {
     "name": "stdout",
     "output_type": "stream",
     "text": [
      "键错误\n"
     ]
    }
   ],
   "source": [
    "dict1 = {'a': 1, 'b': 2, 'v': 22}\n",
    "try:\n",
    "    x = dict1['y']\n",
    "except KeyError:\n",
    "    print('键错误')\n",
    "except LookupError:\n",
    "    print('查询错误')\n",
    "else:\n",
    "    print(x)\n",
    "\n",
    "# 键错误"
   ]
  },
  {
   "cell_type": "markdown",
   "metadata": {},
   "source": [
    "【例子】一个 `except` 子句可以同时处理多个异常，这些异常将被放在一个括号里成为一个元组。"
   ]
  },
  {
   "cell_type": "code",
   "execution_count": 8,
   "metadata": {},
   "outputs": [
    {
     "name": "stdout",
     "output_type": "stream",
     "text": [
      "出错了！\n",
      "原因是：unsupported operand type(s) for +: 'int' and 'str'\n"
     ]
    }
   ],
   "source": [
    "try:\n",
    "    s = 1 + '1'\n",
    "    int(\"abc\")\n",
    "    f = open('test.txt')\n",
    "    print(f.read())\n",
    "    f.close()\n",
    "except (OSError, TypeError, ValueError) as error:\n",
    "    print('出错了！\\n原因是：' + str(error))\n",
    "\n",
    "# 出错了！\n",
    "# 原因是：unsupported operand type(s) for +: 'int' and 'str'"
   ]
  },
  {
   "cell_type": "markdown",
   "metadata": {},
   "source": [
    "## 4. try - except - finally 语句\n",
    "\n",
    "```python\n",
    "try:\n",
    "    检测范围\n",
    "except Exception[as reason]:\n",
    "    出现异常后的处理代码\n",
    "finally:\n",
    "    无论如何都会被执行的代码\n",
    "```\n",
    "\n",
    "不管`try`子句里面有没有发生异常，`finally`子句都会执行。\n",
    "\n",
    "如果一个异常在`try`子句里被抛出，而又没有任何的`except`把它截住，那么这个异常会在`finally`子句执行后被抛出。\n",
    "\n",
    "【例子】"
   ]
  },
  {
   "cell_type": "code",
   "execution_count": 10,
   "metadata": {},
   "outputs": [
    {
     "name": "stdout",
     "output_type": "stream",
     "text": [
      "result is 2.0\n",
      "executing finally clause\n",
      "division by zero!\n",
      "executing finally clause\n",
      "出错了！\n",
      "原因是：unsupported operand type(s) for /: 'str' and 'str'\n",
      "executing finally clause\n"
     ]
    }
   ],
   "source": [
    "def divide(x, y):\n",
    "    try:\n",
    "        result = x / y\n",
    "        print(\"result is\", result)\n",
    "    except ZeroDivisionError:\n",
    "        print(\"division by zero!\")\n",
    "    except TypeError as error:\n",
    "        print('出错了！\\n原因是：' + str(error))\n",
    "    finally:\n",
    "        print(\"executing finally clause\")\n",
    "\n",
    "\n",
    "divide(2, 1)\n",
    "# result is 2.0\n",
    "# executing finally clause\n",
    "divide(2, 0)\n",
    "# division by zero!\n",
    "# executing finally clause\n",
    "divide(\"2\", \"1\")\n",
    "# executing finally clause\n",
    "# TypeError: unsupported operand type(s) for /: 'str' and 'str'"
   ]
  },
  {
   "cell_type": "markdown",
   "metadata": {},
   "source": [
    "## 5. try - except - else 语句\n",
    "\n",
    "如果在`try`子句执行时没有发生异常，Python将执行`else`语句后的语句。\n",
    "\n",
    "```python\n",
    "try:\n",
    "    检测范围\n",
    "except:\n",
    "    出现异常后的处理代码\n",
    "else:\n",
    "    如果没有异常执行这块代码\n",
    "```\n",
    "\n",
    "使用`except`而不带任何异常类型，这不是一个很好的方式，我们不能通过该程序识别出具体的异常信息，因为它捕获所有的异常。\n",
    "\n",
    "```python\n",
    "try:\n",
    "    检测范围\n",
    "except(Exception1[, Exception2[,...ExceptionN]]]):\n",
    "   发生以上多个异常中的一个，执行这块代码\n",
    "else:\n",
    "    如果没有异常执行这块代码\n",
    "```\n",
    "\n",
    "【例子】"
   ]
  },
  {
   "cell_type": "code",
   "execution_count": 11,
   "metadata": {},
   "outputs": [
    {
     "name": "stdout",
     "output_type": "stream",
     "text": [
      "内容写入文件成功\n"
     ]
    }
   ],
   "source": [
    "try:\n",
    "    fh = open(\"testfile\", \"w\")\n",
    "    fh.write(\"这是一个测试文件，用于测试异常!!\")\n",
    "except IOError:\n",
    "    print(\"Error: 没有找到文件或读取文件失败\")\n",
    "else:\n",
    "    print(\"内容写入文件成功\")\n",
    "    fh.close()\n",
    "\n",
    "# 内容写入文件成功"
   ]
  },
  {
   "cell_type": "markdown",
   "metadata": {},
   "source": [
    "注意：`else`语句的存在必须以`except`语句的存在为前提，在没有`except`语句的`try`语句中使用`else`语句，会引发语法错误。\n"
   ]
  },
  {
   "cell_type": "markdown",
   "metadata": {},
   "source": [
    "## 6. raise语句\n",
    "\n",
    "Python 使用`raise`语句抛出一个指定的异常。\n",
    "\n",
    "\n",
    "【例子】\n",
    "\n",
    "```python\n",
    "try:\n",
    "    raise NameError('HiThere')\n",
    "except NameError:\n",
    "    print('An exception flew by!')\n",
    "    \n",
    "# An exception flew by!\n",
    "```\n",
    "\n"
   ]
  },
  {
   "cell_type": "code",
   "execution_count": 12,
   "metadata": {},
   "outputs": [
    {
     "name": "stdout",
     "output_type": "stream",
     "text": [
      "An exception flew by!\n"
     ]
    }
   ],
   "source": [
    "try:\n",
    "    raise NameError('HiThere')\n",
    "except NameError:\n",
    "    print('An exception flew by!')\n",
    "    \n",
    "# An exception flew by!"
   ]
  },
  {
   "cell_type": "code",
   "execution_count": null,
   "metadata": {},
   "outputs": [],
   "source": []
  }
 ],
 "metadata": {
  "kernelspec": {
   "display_name": "Python 3",
   "language": "python",
   "name": "python3"
  },
  "language_info": {
   "codemirror_mode": {
    "name": "ipython",
    "version": 3
   },
   "file_extension": ".py",
   "mimetype": "text/x-python",
   "name": "python",
   "nbconvert_exporter": "python",
   "pygments_lexer": "ipython3",
   "version": "3.7.6"
  }
 },
 "nbformat": 4,
 "nbformat_minor": 4
}
